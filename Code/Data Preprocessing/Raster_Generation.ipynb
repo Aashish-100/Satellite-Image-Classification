{
 "cells": [
  {
   "cell_type": "code",
   "execution_count": 6,
   "id": "8a58a579",
   "metadata": {},
   "outputs": [],
   "source": [
    "#Importing necessary libraries\n",
    "import numpy as np\n",
    "import pandas as pd\n",
    "import geopandas as gpd\n",
    "import matplotlib.pyplot as plt\n",
    "from osgeo import gdal"
   ]
  },
  {
   "cell_type": "markdown",
   "id": "7ed1e6ed",
   "metadata": {},
   "source": [
    "# The main purpose of this notebook is to add NDBI,NDVI and NDWI values and generate a new raster for classification."
   ]
  },
  {
   "cell_type": "code",
   "execution_count": 7,
   "id": "e89ec8d5",
   "metadata": {},
   "outputs": [],
   "source": [
    "#Seeting up path variables for input and output raster.\n",
    "og_p=\"C:\\\\Summer2022\\\\Marginal-Land-Classification\\\\Palakkad_Unsupervised_Landsat_Data\\\\Palakkad_6bands_Landsat.tif\"\n",
    "ndvi_p=\"C:\\\\Summer2022\\\\Marginal-Land-Classification\\\\Palakkad_Unsupervised_Landsat_Data\\\\new_ndvi.tif\"\n",
    "ndbi_p=\"C:\\\\Summer2022\\\\Marginal-Land-Classification\\\\Palakkad_Unsupervised_Landsat_Data\\\\ndbi_new.tif\"\n",
    "ndwi_p=\"C:\\\\Summer2022\\\\Marginal-Land-Classification\\\\Palakkad_Unsupervised_Landsat_Data\\\\new_ndwi.tif\""
   ]
  },
  {
   "cell_type": "code",
   "execution_count": 8,
   "id": "dd157c66",
   "metadata": {},
   "outputs": [],
   "source": [
    "#Using GDAL to read the raster files.\n",
    "og=gdal.Open(og_p)\n",
    "ndvi=gdal.Open(ndvi_p)\n",
    "ndbi=gdal.Open(ndbi_p)\n",
    "ndwi=gdal.Open(ndwi_p)"
   ]
  },
  {
   "cell_type": "code",
   "execution_count": 9,
   "id": "4b1987cc",
   "metadata": {},
   "outputs": [],
   "source": [
    "#Reading the raster as array values\n",
    "a0=og.ReadAsArray()\n",
    "a1=ndvi.ReadAsArray()\n",
    "a2=ndbi.ReadAsArray()\n",
    "a3=ndwi.ReadAsArray()"
   ]
  },
  {
   "cell_type": "code",
   "execution_count": 10,
   "id": "3624009c",
   "metadata": {},
   "outputs": [],
   "source": [
    "#Stacking up the array values\n",
    "a0=a0+a1+a2+a3"
   ]
  },
  {
   "cell_type": "code",
   "execution_count": 12,
   "id": "877292b8",
   "metadata": {},
   "outputs": [],
   "source": [
    "#Creating the output raster.\n",
    "out_var=\"C:\\\\Summer2022\\\\Marginal-Land-Classification\\\\Base_Ras.tif\"\n",
    "drv=gdal.GetDriverByName(\"GTiff\")\n",
    "drv.Register()\n",
    "clf_pal=drv.Create(out_var,xsize=og.RasterXSize,ysize=og.RasterYSize,bands=6,eType=gdal.GDT_Float32)\n",
    "clf_pal.SetGeoTransform(og.GetGeoTransform())\n",
    "clf_pal.SetProjection(og.GetProjection())\n",
    "clf_pal.WriteArray(a0)\n",
    "clf_pal.FlushCache()\n",
    "clf_pal=None"
   ]
  },
  {
   "cell_type": "code",
   "execution_count": null,
   "id": "9cdeb4cf",
   "metadata": {},
   "outputs": [],
   "source": []
  }
 ],
 "metadata": {
  "kernelspec": {
   "display_name": "Python 3 (ipykernel)",
   "language": "python",
   "name": "python3"
  },
  "language_info": {
   "codemirror_mode": {
    "name": "ipython",
    "version": 3
   },
   "file_extension": ".py",
   "mimetype": "text/x-python",
   "name": "python",
   "nbconvert_exporter": "python",
   "pygments_lexer": "ipython3",
   "version": "3.8.13"
  }
 },
 "nbformat": 4,
 "nbformat_minor": 5
}
