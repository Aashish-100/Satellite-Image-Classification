{
 "cells": [
  {
   "cell_type": "code",
   "execution_count": 35,
   "id": "e7aa8da5",
   "metadata": {},
   "outputs": [],
   "source": [
    "#Importing necessary libraries\n",
    "import numpy as np\n",
    "import pandas as pd\n",
    "import geopandas as gpd\n",
    "from osgeo import gdal\n",
    "import matplotlib.pyplot as plt "
   ]
  },
  {
   "cell_type": "code",
   "execution_count": 36,
   "id": "371c0f7b",
   "metadata": {},
   "outputs": [],
   "source": [
    "#Setting path variables to our input and output files\n",
    "inp_ras_path=\"C:\\\\Summer2022\\\\Marginal-Land-Classification\\\\Palakkad_Supervised_Landsat\\\\Data_Preprocessing\\\\New_Palakkad_Raster.tif\"\n",
    "inp_data_xlsx=\"C:\\\\Summer2022\\\\Marginal-Land-Classification\\\\Palakkad_Supervised_Landsat\\\\Data_Preprocessing\\\\Train_Palakkad.xlsx\"\n",
    "output_raster=\"C:\\\\Summer2022\\\\Marginal-Land-Classification\\\\Palakkad_Supervised_Landsat\\\\Classified_Results_Supervised\\\\RandomForest.tif\"\n",
    "output_raster1=\"C:\\\\Summer2022\\\\Marginal-Land-Classification\\\\Palakkad_Supervised_Landsat\\\\Classified_Results_Supervised\\\\RandomForest_Full.tif\"\n",
    "output_raster2=\"C:\\\\Summer2022\\\\Marginal-Land-Classification\\\\Palakkad_Supervised_Landsat\\\\Classified_Results_Supervised\\\\RandomForest_80.tif\""
   ]
  },
  {
   "cell_type": "code",
   "execution_count": 37,
   "id": "4286bbed",
   "metadata": {},
   "outputs": [
    {
     "data": {
      "text/html": [
       "<div>\n",
       "<style scoped>\n",
       "    .dataframe tbody tr th:only-of-type {\n",
       "        vertical-align: middle;\n",
       "    }\n",
       "\n",
       "    .dataframe tbody tr th {\n",
       "        vertical-align: top;\n",
       "    }\n",
       "\n",
       "    .dataframe thead th {\n",
       "        text-align: right;\n",
       "    }\n",
       "</style>\n",
       "<table border=\"1\" class=\"dataframe\">\n",
       "  <thead>\n",
       "    <tr style=\"text-align: right;\">\n",
       "      <th></th>\n",
       "      <th>Unnamed: 0</th>\n",
       "      <th>Name</th>\n",
       "      <th>Shape_Leng</th>\n",
       "      <th>Shape_Area</th>\n",
       "      <th>geometry</th>\n",
       "      <th>band1</th>\n",
       "      <th>band2</th>\n",
       "      <th>band3</th>\n",
       "      <th>band4</th>\n",
       "      <th>band5</th>\n",
       "      <th>band6</th>\n",
       "    </tr>\n",
       "  </thead>\n",
       "  <tbody>\n",
       "    <tr>\n",
       "      <th>0</th>\n",
       "      <td>0</td>\n",
       "      <td>St</td>\n",
       "      <td>0.002974</td>\n",
       "      <td>4.866600e-07</td>\n",
       "      <td>POINT (76.64307164300004 10.788226620000046)</td>\n",
       "      <td>654.013916</td>\n",
       "      <td>858.013916</td>\n",
       "      <td>944.013916</td>\n",
       "      <td>2036.513916</td>\n",
       "      <td>2422.013916</td>\n",
       "      <td>2185.013916</td>\n",
       "    </tr>\n",
       "    <tr>\n",
       "      <th>1</th>\n",
       "      <td>1</td>\n",
       "      <td>St</td>\n",
       "      <td>0.002974</td>\n",
       "      <td>4.866600e-07</td>\n",
       "      <td>POINT (76.64277901900005 10.78838195000003)</td>\n",
       "      <td>609.496826</td>\n",
       "      <td>835.496826</td>\n",
       "      <td>869.996826</td>\n",
       "      <td>2122.496826</td>\n",
       "      <td>2043.496826</td>\n",
       "      <td>1787.996826</td>\n",
       "    </tr>\n",
       "    <tr>\n",
       "      <th>2</th>\n",
       "      <td>2</td>\n",
       "      <td>St</td>\n",
       "      <td>0.002974</td>\n",
       "      <td>4.866600e-07</td>\n",
       "      <td>POINT (76.64298855100003 10.788809429000025)</td>\n",
       "      <td>734.508606</td>\n",
       "      <td>1019.008606</td>\n",
       "      <td>1162.008545</td>\n",
       "      <td>2219.008545</td>\n",
       "      <td>2567.508545</td>\n",
       "      <td>2153.508545</td>\n",
       "    </tr>\n",
       "    <tr>\n",
       "      <th>3</th>\n",
       "      <td>3</td>\n",
       "      <td>St</td>\n",
       "      <td>0.002974</td>\n",
       "      <td>4.866600e-07</td>\n",
       "      <td>POINT (76.64307477100004 10.788927469000043)</td>\n",
       "      <td>734.508606</td>\n",
       "      <td>1019.008606</td>\n",
       "      <td>1162.008545</td>\n",
       "      <td>2219.008545</td>\n",
       "      <td>2567.508545</td>\n",
       "      <td>2153.508545</td>\n",
       "    </tr>\n",
       "    <tr>\n",
       "      <th>4</th>\n",
       "      <td>4</td>\n",
       "      <td>St</td>\n",
       "      <td>0.002974</td>\n",
       "      <td>4.866600e-07</td>\n",
       "      <td>POINT (76.64321036300004 10.788880423000023)</td>\n",
       "      <td>845.011780</td>\n",
       "      <td>1124.011841</td>\n",
       "      <td>1210.511841</td>\n",
       "      <td>2114.011719</td>\n",
       "      <td>2666.511719</td>\n",
       "      <td>2429.011719</td>\n",
       "    </tr>\n",
       "  </tbody>\n",
       "</table>\n",
       "</div>"
      ],
      "text/plain": [
       "   Unnamed: 0 Name  Shape_Leng    Shape_Area  \\\n",
       "0           0   St    0.002974  4.866600e-07   \n",
       "1           1   St    0.002974  4.866600e-07   \n",
       "2           2   St    0.002974  4.866600e-07   \n",
       "3           3   St    0.002974  4.866600e-07   \n",
       "4           4   St    0.002974  4.866600e-07   \n",
       "\n",
       "                                       geometry       band1        band2  \\\n",
       "0  POINT (76.64307164300004 10.788226620000046)  654.013916   858.013916   \n",
       "1   POINT (76.64277901900005 10.78838195000003)  609.496826   835.496826   \n",
       "2  POINT (76.64298855100003 10.788809429000025)  734.508606  1019.008606   \n",
       "3  POINT (76.64307477100004 10.788927469000043)  734.508606  1019.008606   \n",
       "4  POINT (76.64321036300004 10.788880423000023)  845.011780  1124.011841   \n",
       "\n",
       "         band3        band4        band5        band6  \n",
       "0   944.013916  2036.513916  2422.013916  2185.013916  \n",
       "1   869.996826  2122.496826  2043.496826  1787.996826  \n",
       "2  1162.008545  2219.008545  2567.508545  2153.508545  \n",
       "3  1162.008545  2219.008545  2567.508545  2153.508545  \n",
       "4  1210.511841  2114.011719  2666.511719  2429.011719  "
      ]
     },
     "execution_count": 37,
     "metadata": {},
     "output_type": "execute_result"
    }
   ],
   "source": [
    "#Reading the dataset\n",
    "df=pd.read_excel(inp_data_xlsx)\n",
    "df.head()"
   ]
  },
  {
   "cell_type": "code",
   "execution_count": 38,
   "id": "74710984",
   "metadata": {},
   "outputs": [
    {
     "data": {
      "text/html": [
       "<div>\n",
       "<style scoped>\n",
       "    .dataframe tbody tr th:only-of-type {\n",
       "        vertical-align: middle;\n",
       "    }\n",
       "\n",
       "    .dataframe tbody tr th {\n",
       "        vertical-align: top;\n",
       "    }\n",
       "\n",
       "    .dataframe thead th {\n",
       "        text-align: right;\n",
       "    }\n",
       "</style>\n",
       "<table border=\"1\" class=\"dataframe\">\n",
       "  <thead>\n",
       "    <tr style=\"text-align: right;\">\n",
       "      <th></th>\n",
       "      <th>Name</th>\n",
       "      <th>Shape_Leng</th>\n",
       "      <th>Shape_Area</th>\n",
       "      <th>geometry</th>\n",
       "      <th>band1</th>\n",
       "      <th>band2</th>\n",
       "      <th>band3</th>\n",
       "      <th>band4</th>\n",
       "      <th>band5</th>\n",
       "      <th>band6</th>\n",
       "    </tr>\n",
       "  </thead>\n",
       "  <tbody>\n",
       "    <tr>\n",
       "      <th>0</th>\n",
       "      <td>St</td>\n",
       "      <td>0.002974</td>\n",
       "      <td>4.866600e-07</td>\n",
       "      <td>POINT (76.64307164300004 10.788226620000046)</td>\n",
       "      <td>654.013916</td>\n",
       "      <td>858.013916</td>\n",
       "      <td>944.013916</td>\n",
       "      <td>2036.513916</td>\n",
       "      <td>2422.013916</td>\n",
       "      <td>2185.013916</td>\n",
       "    </tr>\n",
       "    <tr>\n",
       "      <th>1</th>\n",
       "      <td>St</td>\n",
       "      <td>0.002974</td>\n",
       "      <td>4.866600e-07</td>\n",
       "      <td>POINT (76.64277901900005 10.78838195000003)</td>\n",
       "      <td>609.496826</td>\n",
       "      <td>835.496826</td>\n",
       "      <td>869.996826</td>\n",
       "      <td>2122.496826</td>\n",
       "      <td>2043.496826</td>\n",
       "      <td>1787.996826</td>\n",
       "    </tr>\n",
       "    <tr>\n",
       "      <th>2</th>\n",
       "      <td>St</td>\n",
       "      <td>0.002974</td>\n",
       "      <td>4.866600e-07</td>\n",
       "      <td>POINT (76.64298855100003 10.788809429000025)</td>\n",
       "      <td>734.508606</td>\n",
       "      <td>1019.008606</td>\n",
       "      <td>1162.008545</td>\n",
       "      <td>2219.008545</td>\n",
       "      <td>2567.508545</td>\n",
       "      <td>2153.508545</td>\n",
       "    </tr>\n",
       "    <tr>\n",
       "      <th>3</th>\n",
       "      <td>St</td>\n",
       "      <td>0.002974</td>\n",
       "      <td>4.866600e-07</td>\n",
       "      <td>POINT (76.64307477100004 10.788927469000043)</td>\n",
       "      <td>734.508606</td>\n",
       "      <td>1019.008606</td>\n",
       "      <td>1162.008545</td>\n",
       "      <td>2219.008545</td>\n",
       "      <td>2567.508545</td>\n",
       "      <td>2153.508545</td>\n",
       "    </tr>\n",
       "    <tr>\n",
       "      <th>4</th>\n",
       "      <td>St</td>\n",
       "      <td>0.002974</td>\n",
       "      <td>4.866600e-07</td>\n",
       "      <td>POINT (76.64321036300004 10.788880423000023)</td>\n",
       "      <td>845.011780</td>\n",
       "      <td>1124.011841</td>\n",
       "      <td>1210.511841</td>\n",
       "      <td>2114.011719</td>\n",
       "      <td>2666.511719</td>\n",
       "      <td>2429.011719</td>\n",
       "    </tr>\n",
       "  </tbody>\n",
       "</table>\n",
       "</div>"
      ],
      "text/plain": [
       "  Name  Shape_Leng    Shape_Area  \\\n",
       "0   St    0.002974  4.866600e-07   \n",
       "1   St    0.002974  4.866600e-07   \n",
       "2   St    0.002974  4.866600e-07   \n",
       "3   St    0.002974  4.866600e-07   \n",
       "4   St    0.002974  4.866600e-07   \n",
       "\n",
       "                                       geometry       band1        band2  \\\n",
       "0  POINT (76.64307164300004 10.788226620000046)  654.013916   858.013916   \n",
       "1   POINT (76.64277901900005 10.78838195000003)  609.496826   835.496826   \n",
       "2  POINT (76.64298855100003 10.788809429000025)  734.508606  1019.008606   \n",
       "3  POINT (76.64307477100004 10.788927469000043)  734.508606  1019.008606   \n",
       "4  POINT (76.64321036300004 10.788880423000023)  845.011780  1124.011841   \n",
       "\n",
       "         band3        band4        band5        band6  \n",
       "0   944.013916  2036.513916  2422.013916  2185.013916  \n",
       "1   869.996826  2122.496826  2043.496826  1787.996826  \n",
       "2  1162.008545  2219.008545  2567.508545  2153.508545  \n",
       "3  1162.008545  2219.008545  2567.508545  2153.508545  \n",
       "4  1210.511841  2114.011719  2666.511719  2429.011719  "
      ]
     },
     "execution_count": 38,
     "metadata": {},
     "output_type": "execute_result"
    }
   ],
   "source": [
    "#Removing the column which is not required\n",
    "df=df.drop(['Unnamed: 0'],axis=1)\n",
    "df.head()"
   ]
  },
  {
   "cell_type": "code",
   "execution_count": 39,
   "id": "53b6888f",
   "metadata": {},
   "outputs": [
    {
     "data": {
      "text/html": [
       "<div>\n",
       "<style scoped>\n",
       "    .dataframe tbody tr th:only-of-type {\n",
       "        vertical-align: middle;\n",
       "    }\n",
       "\n",
       "    .dataframe tbody tr th {\n",
       "        vertical-align: top;\n",
       "    }\n",
       "\n",
       "    .dataframe thead th {\n",
       "        text-align: right;\n",
       "    }\n",
       "</style>\n",
       "<table border=\"1\" class=\"dataframe\">\n",
       "  <thead>\n",
       "    <tr style=\"text-align: right;\">\n",
       "      <th></th>\n",
       "      <th>Name</th>\n",
       "      <th>Shape_Leng</th>\n",
       "      <th>Shape_Area</th>\n",
       "      <th>geometry</th>\n",
       "      <th>band1</th>\n",
       "      <th>band2</th>\n",
       "      <th>band3</th>\n",
       "      <th>band4</th>\n",
       "      <th>band5</th>\n",
       "      <th>band6</th>\n",
       "      <th>Number_Name</th>\n",
       "    </tr>\n",
       "  </thead>\n",
       "  <tbody>\n",
       "    <tr>\n",
       "      <th>0</th>\n",
       "      <td>St</td>\n",
       "      <td>0.002974</td>\n",
       "      <td>4.866600e-07</td>\n",
       "      <td>POINT (76.64307164300004 10.788226620000046)</td>\n",
       "      <td>654.013916</td>\n",
       "      <td>858.013916</td>\n",
       "      <td>944.013916</td>\n",
       "      <td>2036.513916</td>\n",
       "      <td>2422.013916</td>\n",
       "      <td>2185.013916</td>\n",
       "      <td>3</td>\n",
       "    </tr>\n",
       "    <tr>\n",
       "      <th>1</th>\n",
       "      <td>St</td>\n",
       "      <td>0.002974</td>\n",
       "      <td>4.866600e-07</td>\n",
       "      <td>POINT (76.64277901900005 10.78838195000003)</td>\n",
       "      <td>609.496826</td>\n",
       "      <td>835.496826</td>\n",
       "      <td>869.996826</td>\n",
       "      <td>2122.496826</td>\n",
       "      <td>2043.496826</td>\n",
       "      <td>1787.996826</td>\n",
       "      <td>3</td>\n",
       "    </tr>\n",
       "    <tr>\n",
       "      <th>2</th>\n",
       "      <td>St</td>\n",
       "      <td>0.002974</td>\n",
       "      <td>4.866600e-07</td>\n",
       "      <td>POINT (76.64298855100003 10.788809429000025)</td>\n",
       "      <td>734.508606</td>\n",
       "      <td>1019.008606</td>\n",
       "      <td>1162.008545</td>\n",
       "      <td>2219.008545</td>\n",
       "      <td>2567.508545</td>\n",
       "      <td>2153.508545</td>\n",
       "      <td>3</td>\n",
       "    </tr>\n",
       "    <tr>\n",
       "      <th>3</th>\n",
       "      <td>St</td>\n",
       "      <td>0.002974</td>\n",
       "      <td>4.866600e-07</td>\n",
       "      <td>POINT (76.64307477100004 10.788927469000043)</td>\n",
       "      <td>734.508606</td>\n",
       "      <td>1019.008606</td>\n",
       "      <td>1162.008545</td>\n",
       "      <td>2219.008545</td>\n",
       "      <td>2567.508545</td>\n",
       "      <td>2153.508545</td>\n",
       "      <td>3</td>\n",
       "    </tr>\n",
       "    <tr>\n",
       "      <th>4</th>\n",
       "      <td>St</td>\n",
       "      <td>0.002974</td>\n",
       "      <td>4.866600e-07</td>\n",
       "      <td>POINT (76.64321036300004 10.788880423000023)</td>\n",
       "      <td>845.011780</td>\n",
       "      <td>1124.011841</td>\n",
       "      <td>1210.511841</td>\n",
       "      <td>2114.011719</td>\n",
       "      <td>2666.511719</td>\n",
       "      <td>2429.011719</td>\n",
       "      <td>3</td>\n",
       "    </tr>\n",
       "  </tbody>\n",
       "</table>\n",
       "</div>"
      ],
      "text/plain": [
       "  Name  Shape_Leng    Shape_Area  \\\n",
       "0   St    0.002974  4.866600e-07   \n",
       "1   St    0.002974  4.866600e-07   \n",
       "2   St    0.002974  4.866600e-07   \n",
       "3   St    0.002974  4.866600e-07   \n",
       "4   St    0.002974  4.866600e-07   \n",
       "\n",
       "                                       geometry       band1        band2  \\\n",
       "0  POINT (76.64307164300004 10.788226620000046)  654.013916   858.013916   \n",
       "1   POINT (76.64277901900005 10.78838195000003)  609.496826   835.496826   \n",
       "2  POINT (76.64298855100003 10.788809429000025)  734.508606  1019.008606   \n",
       "3  POINT (76.64307477100004 10.788927469000043)  734.508606  1019.008606   \n",
       "4  POINT (76.64321036300004 10.788880423000023)  845.011780  1124.011841   \n",
       "\n",
       "         band3        band4        band5        band6  Number_Name  \n",
       "0   944.013916  2036.513916  2422.013916  2185.013916            3  \n",
       "1   869.996826  2122.496826  2043.496826  1787.996826            3  \n",
       "2  1162.008545  2219.008545  2567.508545  2153.508545            3  \n",
       "3  1162.008545  2219.008545  2567.508545  2153.508545            3  \n",
       "4  1210.511841  2114.011719  2666.511719  2429.011719            3  "
      ]
     },
     "execution_count": 39,
     "metadata": {},
     "output_type": "execute_result"
    }
   ],
   "source": [
    "#Using LabelEncoder to assign integer values to classes in order to train our model\n",
    "from sklearn.preprocessing import LabelEncoder\n",
    "le=LabelEncoder()\n",
    "num_categories=le.fit_transform(df['Name'])\n",
    "df['Number_Name']=num_categories\n",
    "df.head()"
   ]
  },
  {
   "cell_type": "code",
   "execution_count": 40,
   "id": "098b6275",
   "metadata": {},
   "outputs": [],
   "source": [
    "#Segregate the columns required for classification i.e independent variables\n",
    "train_labels=df[['band1','band2','band3','band4','band5','band6']]\n",
    "#Selecting the dependent label\n",
    "dep_label=df['Number_Name']"
   ]
  },
  {
   "cell_type": "code",
   "execution_count": 41,
   "id": "7236cd31",
   "metadata": {},
   "outputs": [
    {
     "data": {
      "text/plain": [
       "array([[302.36493, 336.91345, 348.9318 , ..., 138.74207, 138.73117,\n",
       "        140.21135],\n",
       "       [309.90854, 313.42224, 294.9218 , ..., 139.72775, 133.20668,\n",
       "        136.19824],\n",
       "       [312.889  , 314.93445, 297.92996, ..., 131.70714, 131.69638,\n",
       "        133.19931],\n",
       "       ...,\n",
       "       [449.94327, 399.9475 , 403.49487, ..., 366.93008, 357.9387 ,\n",
       "        453.47867],\n",
       "       [369.39   , 363.39368, 401.98032, ..., 374.38577, 409.3952 ,\n",
       "        411.41776],\n",
       "       [350.9251 , 356.40097, 390.44278, ..., 471.44406, 539.4624 ,\n",
       "        500.4569 ]], dtype=float32)"
      ]
     },
     "execution_count": 41,
     "metadata": {},
     "output_type": "execute_result"
    }
   ],
   "source": [
    "#Using gdal to read the raster file and get properties\n",
    "raster=gdal.Open(inp_ras_path)\n",
    "r=raster.RasterYSize\n",
    "c=raster.RasterXSize\n",
    "geotransform=raster.GetGeoTransform()\n",
    "proj=raster.GetProjectionRef()\n",
    "ras_arr=raster.ReadAsArray()\n",
    "num_bands=raster.RasterCount\n",
    "#printing first element of ras_arr just to get an idea\n",
    "ras_arr[0]"
   ]
  },
  {
   "cell_type": "code",
   "execution_count": 42,
   "id": "65fa9c16",
   "metadata": {},
   "outputs": [
    {
     "data": {
      "text/html": [
       "<div>\n",
       "<style scoped>\n",
       "    .dataframe tbody tr th:only-of-type {\n",
       "        vertical-align: middle;\n",
       "    }\n",
       "\n",
       "    .dataframe tbody tr th {\n",
       "        vertical-align: top;\n",
       "    }\n",
       "\n",
       "    .dataframe thead th {\n",
       "        text-align: right;\n",
       "    }\n",
       "</style>\n",
       "<table border=\"1\" class=\"dataframe\">\n",
       "  <thead>\n",
       "    <tr style=\"text-align: right;\">\n",
       "      <th></th>\n",
       "      <th>0</th>\n",
       "      <th>1</th>\n",
       "      <th>2</th>\n",
       "      <th>3</th>\n",
       "      <th>4</th>\n",
       "      <th>5</th>\n",
       "    </tr>\n",
       "  </thead>\n",
       "  <tbody>\n",
       "    <tr>\n",
       "      <th>0</th>\n",
       "      <td>302.364929</td>\n",
       "      <td>537.864929</td>\n",
       "      <td>401.364929</td>\n",
       "      <td>2980.864990</td>\n",
       "      <td>1630.364868</td>\n",
       "      <td>826.364929</td>\n",
       "    </tr>\n",
       "    <tr>\n",
       "      <th>1</th>\n",
       "      <td>336.913452</td>\n",
       "      <td>596.413452</td>\n",
       "      <td>493.913452</td>\n",
       "      <td>2714.413574</td>\n",
       "      <td>1711.913452</td>\n",
       "      <td>991.413452</td>\n",
       "    </tr>\n",
       "    <tr>\n",
       "      <th>2</th>\n",
       "      <td>348.931793</td>\n",
       "      <td>609.431763</td>\n",
       "      <td>528.431763</td>\n",
       "      <td>2471.431885</td>\n",
       "      <td>1623.931763</td>\n",
       "      <td>986.931763</td>\n",
       "    </tr>\n",
       "    <tr>\n",
       "      <th>3</th>\n",
       "      <td>291.872223</td>\n",
       "      <td>535.872253</td>\n",
       "      <td>416.372223</td>\n",
       "      <td>2749.872314</td>\n",
       "      <td>1429.372192</td>\n",
       "      <td>725.872253</td>\n",
       "    </tr>\n",
       "    <tr>\n",
       "      <th>4</th>\n",
       "      <td>306.911499</td>\n",
       "      <td>568.911499</td>\n",
       "      <td>487.411499</td>\n",
       "      <td>2853.911377</td>\n",
       "      <td>1844.911499</td>\n",
       "      <td>980.911499</td>\n",
       "    </tr>\n",
       "  </tbody>\n",
       "</table>\n",
       "</div>"
      ],
      "text/plain": [
       "            0           1           2            3            4           5\n",
       "0  302.364929  537.864929  401.364929  2980.864990  1630.364868  826.364929\n",
       "1  336.913452  596.413452  493.913452  2714.413574  1711.913452  991.413452\n",
       "2  348.931793  609.431763  528.431763  2471.431885  1623.931763  986.931763\n",
       "3  291.872223  535.872253  416.372223  2749.872314  1429.372192  725.872253\n",
       "4  306.911499  568.911499  487.411499  2853.911377  1844.911499  980.911499"
      ]
     },
     "execution_count": 42,
     "metadata": {},
     "output_type": "execute_result"
    }
   ],
   "source": [
    "#Changing the shape of array so that it can be fed into the model\n",
    "ras_arr=np.stack(ras_arr,axis=2)\n",
    "ras_arr=np.reshape(ras_arr,[r*c,num_bands])\n",
    "dataset=pd.DataFrame(ras_arr)\n",
    "dataset.head()"
   ]
  },
  {
   "cell_type": "code",
   "execution_count": 43,
   "id": "46504521",
   "metadata": {},
   "outputs": [],
   "source": [
    "#Splitting the dataset in 80:20 ratio\n",
    "from sklearn.model_selection import train_test_split\n",
    "train_data,test_data=train_test_split(df,test_size=0.2,random_state=25)\n",
    "x_train=train_data[['band1','band2','band3','band4','band5','band6']]\n",
    "y_train=train_data['Number_Name']\n",
    "x_test=test_data[['band1','band2','band3','band4','band5','band6']]\n",
    "y_test=test_data['Number_Name']"
   ]
  },
  {
   "cell_type": "code",
   "execution_count": 44,
   "id": "1d158c62",
   "metadata": {},
   "outputs": [],
   "source": [
    "#Building,Fitting and Predicting the random forest model.\n",
    "from sklearn.ensemble import RandomForestClassifier\n",
    "#Plotting the graph of n_estimators vs accuracy:\n",
    "from sklearn.metrics import accuracy_score\n",
    "acc=[]\n",
    "for i in range(1,300):\n",
    "    rfcl1=RandomForestClassifier(n_estimators=i,max_features=6)\n",
    "    rfcl1.fit(x_train,y_train)\n",
    "    y_pred=rfcl1.predict(x_test)\n",
    "    acc.append(accuracy_score(y_test, y_pred))"
   ]
  },
  {
   "cell_type": "code",
   "execution_count": 45,
   "id": "c8bf2a55",
   "metadata": {},
   "outputs": [
    {
     "data": {
      "text/plain": [
       "Text(0, 0.5, 'Testing Accuracy')"
      ]
     },
     "execution_count": 45,
     "metadata": {},
     "output_type": "execute_result"
    },
    {
     "data": {
      "image/png": "[encoded data removed]",
      "text/plain": [
       "<Figure size 432x288 with 1 Axes>"
      ]
     },
     "metadata": {
      "needs_background": "light"
     },
     "output_type": "display_data"
    }
   ],
   "source": [
    "plt.plot(range(1, 300), acc)\n",
    "plt.xlabel('Value of n_estimators for Random Forest Classifier')\n",
    "plt.ylabel('Testing Accuracy')"
   ]
  },
  {
   "cell_type": "code",
   "execution_count": 46,
   "id": "550fa747",
   "metadata": {},
   "outputs": [
    {
     "data": {
      "text/plain": [
       "53"
      ]
     },
     "execution_count": 46,
     "metadata": {},
     "output_type": "execute_result"
    }
   ],
   "source": [
    "acc.index(max(acc))"
   ]
  },
  {
   "cell_type": "code",
   "execution_count": 53,
   "id": "9d243700",
   "metadata": {},
   "outputs": [
    {
     "name": "stdout",
     "output_type": "stream",
     "text": [
      "0.9104477611940298\n"
     ]
    }
   ],
   "source": [
    "#For rfcl, the maximum accuracy was achieved in the range of 50 to 55.\n",
    "#Therefore, training the model for n_esimators between 50 to 55\n",
    "rfcl=RandomForestClassifier(n_estimators=52,max_features=6)\n",
    "rfcl.fit(x_train,y_train)\n",
    "y_pred=rfcl.predict(x_test)\n",
    "print(accuracy_score(y_test, y_pred))"
   ]
  },
  {
   "cell_type": "code",
   "execution_count": 55,
   "id": "41194bc5",
   "metadata": {},
   "outputs": [],
   "source": [
    "#50:0.91,51:0.91,52:0.916:53:0.91,54:0.91,55:0.90\n",
    "# Therefor we will use n_estimators=52."
   ]
  },
  {
   "cell_type": "code",
   "execution_count": 54,
   "id": "72908560",
   "metadata": {},
   "outputs": [
    {
     "name": "stderr",
     "output_type": "stream",
     "text": [
      "C:\\Users\\Student\\miniconda3\\envs\\earth-analytics-python\\lib\\site-packages\\sklearn\\base.py:450: UserWarning: X does not have valid feature names, but RandomForestClassifier was fitted with feature names\n",
      "  warnings.warn(\n"
     ]
    }
   ],
   "source": [
    "clf_res=rfcl.predict(dataset)\n",
    "res=clf_res.reshape((r,c))\n",
    "# #Extracting the results to a tif file\n",
    "drv=gdal.GetDriverByName(\"GTiff\")\n",
    "drv.Register()\n",
    "clf_pal=drv.Create(output_raster,c,r,bands=1,eType=gdal.GDT_Int32)\n",
    "clf_pal.SetGeoTransform(geotransform)\n",
    "clf_pal.SetProjection(proj)\n",
    "clf_pal.GetRasterBand(1).WriteArray(res)\n",
    "clf_pal.FlushCache()\n",
    "clf_pal=None "
   ]
  },
  {
   "cell_type": "code",
   "execution_count": 56,
   "id": "25008477",
   "metadata": {},
   "outputs": [],
   "source": [
    "from sklearn.metrics import ConfusionMatrixDisplay,confusion_matrix\n",
    "cf=confusion_matrix(y_test,y_pred)\n",
    "disp = ConfusionMatrixDisplay(confusion_matrix=cf,\n",
    "                               display_labels=['band1','band2','band3','band4','band5','band6'])"
   ]
  },
  {
   "cell_type": "code",
   "execution_count": 57,
   "id": "005d0068",
   "metadata": {},
   "outputs": [
    {
     "data": {
      "text/plain": [
       "<sklearn.metrics._plot.confusion_matrix.ConfusionMatrixDisplay at 0x22cc1896e80>"
      ]
     },
     "execution_count": 57,
     "metadata": {},
     "output_type": "execute_result"
    },
    {
     "data": {
      "image/png": "[encoded data removed]",
      "text/plain": [
       "<Figure size 432x288 with 2 Axes>"
      ]
     },
     "metadata": {
      "needs_background": "light"
     },
     "output_type": "display_data"
    }
   ],
   "source": [
    "disp.plot()"
   ]
  },
  {
   "cell_type": "code",
   "execution_count": 58,
   "id": "0f2e3736",
   "metadata": {},
   "outputs": [
    {
     "name": "stdout",
     "output_type": "stream",
     "text": [
      "              precision    recall  f1-score   support\n",
      "\n",
      "           0       0.93      0.86      0.90        65\n",
      "           1       0.65      0.77      0.71        22\n",
      "           2       0.85      0.89      0.87        45\n",
      "           3       0.87      0.90      0.88        59\n",
      "           4       0.97      0.96      0.97        81\n",
      "           5       1.00      0.97      0.98        63\n",
      "\n",
      "    accuracy                           0.91       335\n",
      "   macro avg       0.88      0.89      0.89       335\n",
      "weighted avg       0.92      0.91      0.91       335\n",
      "\n"
     ]
    }
   ],
   "source": [
    "from sklearn.metrics import classification_report\n",
    "print(classification_report(y_test,y_pred))"
   ]
  },
  {
   "cell_type": "code",
   "execution_count": null,
   "id": "81122a89",
   "metadata": {},
   "outputs": [],
   "source": []
  }
 ],
 "metadata": {
  "kernelspec": {
   "display_name": "Python 3 (ipykernel)",
   "language": "python",
   "name": "python3"
  },
  "language_info": {
   "codemirror_mode": {
    "name": "ipython",
    "version": 3
   },
   "file_extension": ".py",
   "mimetype": "text/x-python",
   "name": "python",
   "nbconvert_exporter": "python",
   "pygments_lexer": "ipython3",
   "version": "3.8.13"
  }
 },
 "nbformat": 4,
 "nbformat_minor": 5
}
