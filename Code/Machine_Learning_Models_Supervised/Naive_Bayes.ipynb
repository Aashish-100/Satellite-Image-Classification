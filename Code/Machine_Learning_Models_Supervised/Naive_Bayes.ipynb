{
 "cells": [
  {
   "cell_type": "code",
   "execution_count": 1,
   "id": "dfd38f38",
   "metadata": {},
   "outputs": [],
   "source": [
    "#Importing necessary libraries\n",
    "import numpy as np\n",
    "import pandas as pd\n",
    "import geopandas as gpd\n",
    "from osgeo import gdal\n",
    "import matplotlib.pyplot as plt "
   ]
  },
  {
   "cell_type": "code",
   "execution_count": 2,
   "id": "24fd8fed",
   "metadata": {},
   "outputs": [],
   "source": [
    "#Setting path variables to our input and output files\n",
    "inp_ras_path=\"C:\\\\Summer2022\\\\Marginal-Land-Classification\\\\Palakkad_Supervised_Landsat\\\\Data_Preprocessing\\\\New_Palakkad_Raster.tif\"\n",
    "inp_data_xlsx=\"C:\\\\Summer2022\\\\Marginal-Land-Classification\\\\Palakkad_Supervised_Landsat\\\\Data_Preprocessing\\\\Train_Palakkad.xlsx\"\n",
    "output_raster=\"C:\\\\Summer2022\\\\Marginal-Land-Classification\\\\Palakkad_Supervised_Landsat\\\\Classified_Results_Supervised\\\\NaiveBayes.tif\""
   ]
  },
  {
   "cell_type": "code",
   "execution_count": 3,
   "id": "d9b38cd2",
   "metadata": {},
   "outputs": [
    {
     "data": {
      "text/html": [
       "<div>\n",
       "<style scoped>\n",
       "    .dataframe tbody tr th:only-of-type {\n",
       "        vertical-align: middle;\n",
       "    }\n",
       "\n",
       "    .dataframe tbody tr th {\n",
       "        vertical-align: top;\n",
       "    }\n",
       "\n",
       "    .dataframe thead th {\n",
       "        text-align: right;\n",
       "    }\n",
       "</style>\n",
       "<table border=\"1\" class=\"dataframe\">\n",
       "  <thead>\n",
       "    <tr style=\"text-align: right;\">\n",
       "      <th></th>\n",
       "      <th>Unnamed: 0</th>\n",
       "      <th>Name</th>\n",
       "      <th>Shape_Leng</th>\n",
       "      <th>Shape_Area</th>\n",
       "      <th>geometry</th>\n",
       "      <th>band1</th>\n",
       "      <th>band2</th>\n",
       "      <th>band3</th>\n",
       "      <th>band4</th>\n",
       "      <th>band5</th>\n",
       "      <th>band6</th>\n",
       "    </tr>\n",
       "  </thead>\n",
       "  <tbody>\n",
       "    <tr>\n",
       "      <th>0</th>\n",
       "      <td>0</td>\n",
       "      <td>St</td>\n",
       "      <td>0.002974</td>\n",
       "      <td>4.866600e-07</td>\n",
       "      <td>POINT (76.64307164300004 10.788226620000046)</td>\n",
       "      <td>654.013916</td>\n",
       "      <td>858.013916</td>\n",
       "      <td>944.013916</td>\n",
       "      <td>2036.513916</td>\n",
       "      <td>2422.013916</td>\n",
       "      <td>2185.013916</td>\n",
       "    </tr>\n",
       "    <tr>\n",
       "      <th>1</th>\n",
       "      <td>1</td>\n",
       "      <td>St</td>\n",
       "      <td>0.002974</td>\n",
       "      <td>4.866600e-07</td>\n",
       "      <td>POINT (76.64277901900005 10.78838195000003)</td>\n",
       "      <td>609.496826</td>\n",
       "      <td>835.496826</td>\n",
       "      <td>869.996826</td>\n",
       "      <td>2122.496826</td>\n",
       "      <td>2043.496826</td>\n",
       "      <td>1787.996826</td>\n",
       "    </tr>\n",
       "    <tr>\n",
       "      <th>2</th>\n",
       "      <td>2</td>\n",
       "      <td>St</td>\n",
       "      <td>0.002974</td>\n",
       "      <td>4.866600e-07</td>\n",
       "      <td>POINT (76.64298855100003 10.788809429000025)</td>\n",
       "      <td>734.508606</td>\n",
       "      <td>1019.008606</td>\n",
       "      <td>1162.008545</td>\n",
       "      <td>2219.008545</td>\n",
       "      <td>2567.508545</td>\n",
       "      <td>2153.508545</td>\n",
       "    </tr>\n",
       "    <tr>\n",
       "      <th>3</th>\n",
       "      <td>3</td>\n",
       "      <td>St</td>\n",
       "      <td>0.002974</td>\n",
       "      <td>4.866600e-07</td>\n",
       "      <td>POINT (76.64307477100004 10.788927469000043)</td>\n",
       "      <td>734.508606</td>\n",
       "      <td>1019.008606</td>\n",
       "      <td>1162.008545</td>\n",
       "      <td>2219.008545</td>\n",
       "      <td>2567.508545</td>\n",
       "      <td>2153.508545</td>\n",
       "    </tr>\n",
       "    <tr>\n",
       "      <th>4</th>\n",
       "      <td>4</td>\n",
       "      <td>St</td>\n",
       "      <td>0.002974</td>\n",
       "      <td>4.866600e-07</td>\n",
       "      <td>POINT (76.64321036300004 10.788880423000023)</td>\n",
       "      <td>845.011780</td>\n",
       "      <td>1124.011841</td>\n",
       "      <td>1210.511841</td>\n",
       "      <td>2114.011719</td>\n",
       "      <td>2666.511719</td>\n",
       "      <td>2429.011719</td>\n",
       "    </tr>\n",
       "  </tbody>\n",
       "</table>\n",
       "</div>"
      ],
      "text/plain": [
       "   Unnamed: 0 Name  Shape_Leng    Shape_Area  \\\n",
       "0           0   St    0.002974  4.866600e-07   \n",
       "1           1   St    0.002974  4.866600e-07   \n",
       "2           2   St    0.002974  4.866600e-07   \n",
       "3           3   St    0.002974  4.866600e-07   \n",
       "4           4   St    0.002974  4.866600e-07   \n",
       "\n",
       "                                       geometry       band1        band2  \\\n",
       "0  POINT (76.64307164300004 10.788226620000046)  654.013916   858.013916   \n",
       "1   POINT (76.64277901900005 10.78838195000003)  609.496826   835.496826   \n",
       "2  POINT (76.64298855100003 10.788809429000025)  734.508606  1019.008606   \n",
       "3  POINT (76.64307477100004 10.788927469000043)  734.508606  1019.008606   \n",
       "4  POINT (76.64321036300004 10.788880423000023)  845.011780  1124.011841   \n",
       "\n",
       "         band3        band4        band5        band6  \n",
       "0   944.013916  2036.513916  2422.013916  2185.013916  \n",
       "1   869.996826  2122.496826  2043.496826  1787.996826  \n",
       "2  1162.008545  2219.008545  2567.508545  2153.508545  \n",
       "3  1162.008545  2219.008545  2567.508545  2153.508545  \n",
       "4  1210.511841  2114.011719  2666.511719  2429.011719  "
      ]
     },
     "execution_count": 3,
     "metadata": {},
     "output_type": "execute_result"
    }
   ],
   "source": [
    "#Reading the dataset\n",
    "df=pd.read_excel(inp_data_xlsx)\n",
    "df.head()"
   ]
  },
  {
   "cell_type": "code",
   "execution_count": 4,
   "id": "c693a2b3",
   "metadata": {},
   "outputs": [
    {
     "data": {
      "text/html": [
       "<div>\n",
       "<style scoped>\n",
       "    .dataframe tbody tr th:only-of-type {\n",
       "        vertical-align: middle;\n",
       "    }\n",
       "\n",
       "    .dataframe tbody tr th {\n",
       "        vertical-align: top;\n",
       "    }\n",
       "\n",
       "    .dataframe thead th {\n",
       "        text-align: right;\n",
       "    }\n",
       "</style>\n",
       "<table border=\"1\" class=\"dataframe\">\n",
       "  <thead>\n",
       "    <tr style=\"text-align: right;\">\n",
       "      <th></th>\n",
       "      <th>Name</th>\n",
       "      <th>Shape_Leng</th>\n",
       "      <th>Shape_Area</th>\n",
       "      <th>geometry</th>\n",
       "      <th>band1</th>\n",
       "      <th>band2</th>\n",
       "      <th>band3</th>\n",
       "      <th>band4</th>\n",
       "      <th>band5</th>\n",
       "      <th>band6</th>\n",
       "    </tr>\n",
       "  </thead>\n",
       "  <tbody>\n",
       "    <tr>\n",
       "      <th>0</th>\n",
       "      <td>St</td>\n",
       "      <td>0.002974</td>\n",
       "      <td>4.866600e-07</td>\n",
       "      <td>POINT (76.64307164300004 10.788226620000046)</td>\n",
       "      <td>654.013916</td>\n",
       "      <td>858.013916</td>\n",
       "      <td>944.013916</td>\n",
       "      <td>2036.513916</td>\n",
       "      <td>2422.013916</td>\n",
       "      <td>2185.013916</td>\n",
       "    </tr>\n",
       "    <tr>\n",
       "      <th>1</th>\n",
       "      <td>St</td>\n",
       "      <td>0.002974</td>\n",
       "      <td>4.866600e-07</td>\n",
       "      <td>POINT (76.64277901900005 10.78838195000003)</td>\n",
       "      <td>609.496826</td>\n",
       "      <td>835.496826</td>\n",
       "      <td>869.996826</td>\n",
       "      <td>2122.496826</td>\n",
       "      <td>2043.496826</td>\n",
       "      <td>1787.996826</td>\n",
       "    </tr>\n",
       "    <tr>\n",
       "      <th>2</th>\n",
       "      <td>St</td>\n",
       "      <td>0.002974</td>\n",
       "      <td>4.866600e-07</td>\n",
       "      <td>POINT (76.64298855100003 10.788809429000025)</td>\n",
       "      <td>734.508606</td>\n",
       "      <td>1019.008606</td>\n",
       "      <td>1162.008545</td>\n",
       "      <td>2219.008545</td>\n",
       "      <td>2567.508545</td>\n",
       "      <td>2153.508545</td>\n",
       "    </tr>\n",
       "    <tr>\n",
       "      <th>3</th>\n",
       "      <td>St</td>\n",
       "      <td>0.002974</td>\n",
       "      <td>4.866600e-07</td>\n",
       "      <td>POINT (76.64307477100004 10.788927469000043)</td>\n",
       "      <td>734.508606</td>\n",
       "      <td>1019.008606</td>\n",
       "      <td>1162.008545</td>\n",
       "      <td>2219.008545</td>\n",
       "      <td>2567.508545</td>\n",
       "      <td>2153.508545</td>\n",
       "    </tr>\n",
       "    <tr>\n",
       "      <th>4</th>\n",
       "      <td>St</td>\n",
       "      <td>0.002974</td>\n",
       "      <td>4.866600e-07</td>\n",
       "      <td>POINT (76.64321036300004 10.788880423000023)</td>\n",
       "      <td>845.011780</td>\n",
       "      <td>1124.011841</td>\n",
       "      <td>1210.511841</td>\n",
       "      <td>2114.011719</td>\n",
       "      <td>2666.511719</td>\n",
       "      <td>2429.011719</td>\n",
       "    </tr>\n",
       "  </tbody>\n",
       "</table>\n",
       "</div>"
      ],
      "text/plain": [
       "  Name  Shape_Leng    Shape_Area  \\\n",
       "0   St    0.002974  4.866600e-07   \n",
       "1   St    0.002974  4.866600e-07   \n",
       "2   St    0.002974  4.866600e-07   \n",
       "3   St    0.002974  4.866600e-07   \n",
       "4   St    0.002974  4.866600e-07   \n",
       "\n",
       "                                       geometry       band1        band2  \\\n",
       "0  POINT (76.64307164300004 10.788226620000046)  654.013916   858.013916   \n",
       "1   POINT (76.64277901900005 10.78838195000003)  609.496826   835.496826   \n",
       "2  POINT (76.64298855100003 10.788809429000025)  734.508606  1019.008606   \n",
       "3  POINT (76.64307477100004 10.788927469000043)  734.508606  1019.008606   \n",
       "4  POINT (76.64321036300004 10.788880423000023)  845.011780  1124.011841   \n",
       "\n",
       "         band3        band4        band5        band6  \n",
       "0   944.013916  2036.513916  2422.013916  2185.013916  \n",
       "1   869.996826  2122.496826  2043.496826  1787.996826  \n",
       "2  1162.008545  2219.008545  2567.508545  2153.508545  \n",
       "3  1162.008545  2219.008545  2567.508545  2153.508545  \n",
       "4  1210.511841  2114.011719  2666.511719  2429.011719  "
      ]
     },
     "execution_count": 4,
     "metadata": {},
     "output_type": "execute_result"
    }
   ],
   "source": [
    "#Removing the column which is not required\n",
    "df=df.drop(['Unnamed: 0'],axis=1)\n",
    "df.head()"
   ]
  },
  {
   "cell_type": "code",
   "execution_count": 5,
   "id": "e9ced885",
   "metadata": {},
   "outputs": [
    {
     "data": {
      "text/html": [
       "<div>\n",
       "<style scoped>\n",
       "    .dataframe tbody tr th:only-of-type {\n",
       "        vertical-align: middle;\n",
       "    }\n",
       "\n",
       "    .dataframe tbody tr th {\n",
       "        vertical-align: top;\n",
       "    }\n",
       "\n",
       "    .dataframe thead th {\n",
       "        text-align: right;\n",
       "    }\n",
       "</style>\n",
       "<table border=\"1\" class=\"dataframe\">\n",
       "  <thead>\n",
       "    <tr style=\"text-align: right;\">\n",
       "      <th></th>\n",
       "      <th>Name</th>\n",
       "      <th>Shape_Leng</th>\n",
       "      <th>Shape_Area</th>\n",
       "      <th>geometry</th>\n",
       "      <th>band1</th>\n",
       "      <th>band2</th>\n",
       "      <th>band3</th>\n",
       "      <th>band4</th>\n",
       "      <th>band5</th>\n",
       "      <th>band6</th>\n",
       "      <th>Number_Name</th>\n",
       "    </tr>\n",
       "  </thead>\n",
       "  <tbody>\n",
       "    <tr>\n",
       "      <th>0</th>\n",
       "      <td>St</td>\n",
       "      <td>0.002974</td>\n",
       "      <td>4.866600e-07</td>\n",
       "      <td>POINT (76.64307164300004 10.788226620000046)</td>\n",
       "      <td>654.013916</td>\n",
       "      <td>858.013916</td>\n",
       "      <td>944.013916</td>\n",
       "      <td>2036.513916</td>\n",
       "      <td>2422.013916</td>\n",
       "      <td>2185.013916</td>\n",
       "      <td>3</td>\n",
       "    </tr>\n",
       "    <tr>\n",
       "      <th>1</th>\n",
       "      <td>St</td>\n",
       "      <td>0.002974</td>\n",
       "      <td>4.866600e-07</td>\n",
       "      <td>POINT (76.64277901900005 10.78838195000003)</td>\n",
       "      <td>609.496826</td>\n",
       "      <td>835.496826</td>\n",
       "      <td>869.996826</td>\n",
       "      <td>2122.496826</td>\n",
       "      <td>2043.496826</td>\n",
       "      <td>1787.996826</td>\n",
       "      <td>3</td>\n",
       "    </tr>\n",
       "    <tr>\n",
       "      <th>2</th>\n",
       "      <td>St</td>\n",
       "      <td>0.002974</td>\n",
       "      <td>4.866600e-07</td>\n",
       "      <td>POINT (76.64298855100003 10.788809429000025)</td>\n",
       "      <td>734.508606</td>\n",
       "      <td>1019.008606</td>\n",
       "      <td>1162.008545</td>\n",
       "      <td>2219.008545</td>\n",
       "      <td>2567.508545</td>\n",
       "      <td>2153.508545</td>\n",
       "      <td>3</td>\n",
       "    </tr>\n",
       "    <tr>\n",
       "      <th>3</th>\n",
       "      <td>St</td>\n",
       "      <td>0.002974</td>\n",
       "      <td>4.866600e-07</td>\n",
       "      <td>POINT (76.64307477100004 10.788927469000043)</td>\n",
       "      <td>734.508606</td>\n",
       "      <td>1019.008606</td>\n",
       "      <td>1162.008545</td>\n",
       "      <td>2219.008545</td>\n",
       "      <td>2567.508545</td>\n",
       "      <td>2153.508545</td>\n",
       "      <td>3</td>\n",
       "    </tr>\n",
       "    <tr>\n",
       "      <th>4</th>\n",
       "      <td>St</td>\n",
       "      <td>0.002974</td>\n",
       "      <td>4.866600e-07</td>\n",
       "      <td>POINT (76.64321036300004 10.788880423000023)</td>\n",
       "      <td>845.011780</td>\n",
       "      <td>1124.011841</td>\n",
       "      <td>1210.511841</td>\n",
       "      <td>2114.011719</td>\n",
       "      <td>2666.511719</td>\n",
       "      <td>2429.011719</td>\n",
       "      <td>3</td>\n",
       "    </tr>\n",
       "  </tbody>\n",
       "</table>\n",
       "</div>"
      ],
      "text/plain": [
       "  Name  Shape_Leng    Shape_Area  \\\n",
       "0   St    0.002974  4.866600e-07   \n",
       "1   St    0.002974  4.866600e-07   \n",
       "2   St    0.002974  4.866600e-07   \n",
       "3   St    0.002974  4.866600e-07   \n",
       "4   St    0.002974  4.866600e-07   \n",
       "\n",
       "                                       geometry       band1        band2  \\\n",
       "0  POINT (76.64307164300004 10.788226620000046)  654.013916   858.013916   \n",
       "1   POINT (76.64277901900005 10.78838195000003)  609.496826   835.496826   \n",
       "2  POINT (76.64298855100003 10.788809429000025)  734.508606  1019.008606   \n",
       "3  POINT (76.64307477100004 10.788927469000043)  734.508606  1019.008606   \n",
       "4  POINT (76.64321036300004 10.788880423000023)  845.011780  1124.011841   \n",
       "\n",
       "         band3        band4        band5        band6  Number_Name  \n",
       "0   944.013916  2036.513916  2422.013916  2185.013916            3  \n",
       "1   869.996826  2122.496826  2043.496826  1787.996826            3  \n",
       "2  1162.008545  2219.008545  2567.508545  2153.508545            3  \n",
       "3  1162.008545  2219.008545  2567.508545  2153.508545            3  \n",
       "4  1210.511841  2114.011719  2666.511719  2429.011719            3  "
      ]
     },
     "execution_count": 5,
     "metadata": {},
     "output_type": "execute_result"
    }
   ],
   "source": [
    "#Using LabelEncoder to assign integer values to classes in order to train our model\n",
    "from sklearn.preprocessing import LabelEncoder\n",
    "le=LabelEncoder()\n",
    "num_categories=le.fit_transform(df['Name'])\n",
    "df['Number_Name']=num_categories\n",
    "df.head()"
   ]
  },
  {
   "cell_type": "code",
   "execution_count": 6,
   "id": "99797e27",
   "metadata": {},
   "outputs": [],
   "source": [
    "#Segregate the columns required for classification i.e independent variables\n",
    "train_labels=df[['band1','band2','band3','band4','band5','band6']]\n",
    "#Selecting the dependent label\n",
    "dep_label=df['Number_Name']"
   ]
  },
  {
   "cell_type": "code",
   "execution_count": 7,
   "id": "7effeaf0",
   "metadata": {},
   "outputs": [
    {
     "data": {
      "text/plain": [
       "array([[302.36493, 336.91345, 348.9318 , ..., 138.74207, 138.73117,\n",
       "        140.21135],\n",
       "       [309.90854, 313.42224, 294.9218 , ..., 139.72775, 133.20668,\n",
       "        136.19824],\n",
       "       [312.889  , 314.93445, 297.92996, ..., 131.70714, 131.69638,\n",
       "        133.19931],\n",
       "       ...,\n",
       "       [449.94327, 399.9475 , 403.49487, ..., 366.93008, 357.9387 ,\n",
       "        453.47867],\n",
       "       [369.39   , 363.39368, 401.98032, ..., 374.38577, 409.3952 ,\n",
       "        411.41776],\n",
       "       [350.9251 , 356.40097, 390.44278, ..., 471.44406, 539.4624 ,\n",
       "        500.4569 ]], dtype=float32)"
      ]
     },
     "execution_count": 7,
     "metadata": {},
     "output_type": "execute_result"
    }
   ],
   "source": [
    "#Using gdal to read the raster file and get properties\n",
    "raster=gdal.Open(inp_ras_path)\n",
    "r=raster.RasterYSize\n",
    "c=raster.RasterXSize\n",
    "geotransform=raster.GetGeoTransform()\n",
    "proj=raster.GetProjectionRef()\n",
    "ras_arr=raster.ReadAsArray()\n",
    "num_bands=raster.RasterCount\n",
    "#printing first element of ras_arr just to get an idea\n",
    "ras_arr[0]"
   ]
  },
  {
   "cell_type": "code",
   "execution_count": 8,
   "id": "cda5b12f",
   "metadata": {},
   "outputs": [
    {
     "data": {
      "text/html": [
       "<div>\n",
       "<style scoped>\n",
       "    .dataframe tbody tr th:only-of-type {\n",
       "        vertical-align: middle;\n",
       "    }\n",
       "\n",
       "    .dataframe tbody tr th {\n",
       "        vertical-align: top;\n",
       "    }\n",
       "\n",
       "    .dataframe thead th {\n",
       "        text-align: right;\n",
       "    }\n",
       "</style>\n",
       "<table border=\"1\" class=\"dataframe\">\n",
       "  <thead>\n",
       "    <tr style=\"text-align: right;\">\n",
       "      <th></th>\n",
       "      <th>0</th>\n",
       "      <th>1</th>\n",
       "      <th>2</th>\n",
       "      <th>3</th>\n",
       "      <th>4</th>\n",
       "      <th>5</th>\n",
       "    </tr>\n",
       "  </thead>\n",
       "  <tbody>\n",
       "    <tr>\n",
       "      <th>0</th>\n",
       "      <td>302.364929</td>\n",
       "      <td>537.864929</td>\n",
       "      <td>401.364929</td>\n",
       "      <td>2980.864990</td>\n",
       "      <td>1630.364868</td>\n",
       "      <td>826.364929</td>\n",
       "    </tr>\n",
       "    <tr>\n",
       "      <th>1</th>\n",
       "      <td>336.913452</td>\n",
       "      <td>596.413452</td>\n",
       "      <td>493.913452</td>\n",
       "      <td>2714.413574</td>\n",
       "      <td>1711.913452</td>\n",
       "      <td>991.413452</td>\n",
       "    </tr>\n",
       "    <tr>\n",
       "      <th>2</th>\n",
       "      <td>348.931793</td>\n",
       "      <td>609.431763</td>\n",
       "      <td>528.431763</td>\n",
       "      <td>2471.431885</td>\n",
       "      <td>1623.931763</td>\n",
       "      <td>986.931763</td>\n",
       "    </tr>\n",
       "    <tr>\n",
       "      <th>3</th>\n",
       "      <td>291.872223</td>\n",
       "      <td>535.872253</td>\n",
       "      <td>416.372223</td>\n",
       "      <td>2749.872314</td>\n",
       "      <td>1429.372192</td>\n",
       "      <td>725.872253</td>\n",
       "    </tr>\n",
       "    <tr>\n",
       "      <th>4</th>\n",
       "      <td>306.911499</td>\n",
       "      <td>568.911499</td>\n",
       "      <td>487.411499</td>\n",
       "      <td>2853.911377</td>\n",
       "      <td>1844.911499</td>\n",
       "      <td>980.911499</td>\n",
       "    </tr>\n",
       "  </tbody>\n",
       "</table>\n",
       "</div>"
      ],
      "text/plain": [
       "            0           1           2            3            4           5\n",
       "0  302.364929  537.864929  401.364929  2980.864990  1630.364868  826.364929\n",
       "1  336.913452  596.413452  493.913452  2714.413574  1711.913452  991.413452\n",
       "2  348.931793  609.431763  528.431763  2471.431885  1623.931763  986.931763\n",
       "3  291.872223  535.872253  416.372223  2749.872314  1429.372192  725.872253\n",
       "4  306.911499  568.911499  487.411499  2853.911377  1844.911499  980.911499"
      ]
     },
     "execution_count": 8,
     "metadata": {},
     "output_type": "execute_result"
    }
   ],
   "source": [
    "#Changing the shape of array so that it can be fed into the model\n",
    "ras_arr=np.stack(ras_arr,axis=2)\n",
    "ras_arr=np.reshape(ras_arr,[r*c,num_bands])\n",
    "dataset=pd.DataFrame(ras_arr)\n",
    "dataset.head()"
   ]
  },
  {
   "cell_type": "code",
   "execution_count": 9,
   "id": "7c7e575c",
   "metadata": {},
   "outputs": [],
   "source": [
    "#Splitting the dataset in 80:20 ratio\n",
    "from sklearn.model_selection import train_test_split\n",
    "train_data,test_data=train_test_split(df,test_size=0.2,random_state=25)\n",
    "x_train=train_data[['band1','band2','band3','band4','band5','band6']]\n",
    "y_train=train_data['Number_Name']\n",
    "x_test=test_data[['band1','band2','band3','band4','band5','band6']]\n",
    "y_test=test_data['Number_Name']"
   ]
  },
  {
   "cell_type": "code",
   "execution_count": 10,
   "id": "2f1c48b7",
   "metadata": {},
   "outputs": [
    {
     "data": {
      "text/html": [
       "<style>#sk-container-id-1 {color: black;background-color: white;}#sk-container-id-1 pre{padding: 0;}#sk-container-id-1 div.sk-toggleable {background-color: white;}#sk-container-id-1 label.sk-toggleable__label {cursor: pointer;display: block;width: 100%;margin-bottom: 0;padding: 0.3em;box-sizing: border-box;text-align: center;}#sk-container-id-1 label.sk-toggleable__label-arrow:before {content: \"▸\";float: left;margin-right: 0.25em;color: #696969;}#sk-container-id-1 label.sk-toggleable__label-arrow:hover:before {color: black;}#sk-container-id-1 div.sk-estimator:hover label.sk-toggleable__label-arrow:before {color: black;}#sk-container-id-1 div.sk-toggleable__content {max-height: 0;max-width: 0;overflow: hidden;text-align: left;background-color: #f0f8ff;}#sk-container-id-1 div.sk-toggleable__content pre {margin: 0.2em;color: black;border-radius: 0.25em;background-color: #f0f8ff;}#sk-container-id-1 input.sk-toggleable__control:checked~div.sk-toggleable__content {max-height: 200px;max-width: 100%;overflow: auto;}#sk-container-id-1 input.sk-toggleable__control:checked~label.sk-toggleable__label-arrow:before {content: \"▾\";}#sk-container-id-1 div.sk-estimator input.sk-toggleable__control:checked~label.sk-toggleable__label {background-color: #d4ebff;}#sk-container-id-1 div.sk-label input.sk-toggleable__control:checked~label.sk-toggleable__label {background-color: #d4ebff;}#sk-container-id-1 input.sk-hidden--visually {border: 0;clip: rect(1px 1px 1px 1px);clip: rect(1px, 1px, 1px, 1px);height: 1px;margin: -1px;overflow: hidden;padding: 0;position: absolute;width: 1px;}#sk-container-id-1 div.sk-estimator {font-family: monospace;background-color: #f0f8ff;border: 1px dotted black;border-radius: 0.25em;box-sizing: border-box;margin-bottom: 0.5em;}#sk-container-id-1 div.sk-estimator:hover {background-color: #d4ebff;}#sk-container-id-1 div.sk-parallel-item::after {content: \"\";width: 100%;border-bottom: 1px solid gray;flex-grow: 1;}#sk-container-id-1 div.sk-label:hover label.sk-toggleable__label {background-color: #d4ebff;}#sk-container-id-1 div.sk-serial::before {content: \"\";position: absolute;border-left: 1px solid gray;box-sizing: border-box;top: 0;bottom: 0;left: 50%;z-index: 0;}#sk-container-id-1 div.sk-serial {display: flex;flex-direction: column;align-items: center;background-color: white;padding-right: 0.2em;padding-left: 0.2em;position: relative;}#sk-container-id-1 div.sk-item {position: relative;z-index: 1;}#sk-container-id-1 div.sk-parallel {display: flex;align-items: stretch;justify-content: center;background-color: white;position: relative;}#sk-container-id-1 div.sk-item::before, #sk-container-id-1 div.sk-parallel-item::before {content: \"\";position: absolute;border-left: 1px solid gray;box-sizing: border-box;top: 0;bottom: 0;left: 50%;z-index: -1;}#sk-container-id-1 div.sk-parallel-item {display: flex;flex-direction: column;z-index: 1;position: relative;background-color: white;}#sk-container-id-1 div.sk-parallel-item:first-child::after {align-self: flex-end;width: 50%;}#sk-container-id-1 div.sk-parallel-item:last-child::after {align-self: flex-start;width: 50%;}#sk-container-id-1 div.sk-parallel-item:only-child::after {width: 0;}#sk-container-id-1 div.sk-dashed-wrapped {border: 1px dashed gray;margin: 0 0.4em 0.5em 0.4em;box-sizing: border-box;padding-bottom: 0.4em;background-color: white;}#sk-container-id-1 div.sk-label label {font-family: monospace;font-weight: bold;display: inline-block;line-height: 1.2em;}#sk-container-id-1 div.sk-label-container {text-align: center;}#sk-container-id-1 div.sk-container {/* jupyter's `normalize.less` sets `[hidden] { display: none; }` but bootstrap.min.css set `[hidden] { display: none !important; }` so we also need the `!important` here to be able to override the default hidden behavior on the sphinx rendered scikit-learn.org. See: https://github.com/scikit-learn/scikit-learn/issues/21755 */display: inline-block !important;position: relative;}#sk-container-id-1 div.sk-text-repr-fallback {display: none;}</style><div id=\"sk-container-id-1\" class=\"sk-top-container\"><div class=\"sk-text-repr-fallback\"><pre>GaussianNB()</pre><b>In a Jupyter environment, please rerun this cell to show the HTML representation or trust the notebook. <br />On GitHub, the HTML representation is unable to render, please try loading this page with nbviewer.org.</b></div><div class=\"sk-container\" hidden><div class=\"sk-item\"><div class=\"sk-estimator sk-toggleable\"><input class=\"sk-toggleable__control sk-hidden--visually\" id=\"sk-estimator-id-1\" type=\"checkbox\" checked><label for=\"sk-estimator-id-1\" class=\"sk-toggleable__label sk-toggleable__label-arrow\">GaussianNB</label><div class=\"sk-toggleable__content\"><pre>GaussianNB()</pre></div></div></div></div></div>"
      ],
      "text/plain": [
       "GaussianNB()"
      ]
     },
     "execution_count": 10,
     "metadata": {},
     "output_type": "execute_result"
    }
   ],
   "source": [
    "from sklearn.naive_bayes import GaussianNB\n",
    "gnb = GaussianNB()\n",
    "gnb.fit(x_train, y_train)"
   ]
  },
  {
   "cell_type": "code",
   "execution_count": 11,
   "id": "709d1d53",
   "metadata": {},
   "outputs": [],
   "source": [
    "y_pred=np.argmax(gnb.predict_proba(x_test), axis=1)"
   ]
  },
  {
   "cell_type": "code",
   "execution_count": 13,
   "id": "41846c3c",
   "metadata": {},
   "outputs": [
    {
     "data": {
      "text/plain": [
       "array([3, 2, 1, 3, 0, 5, 2, 4, 3, 3, 4, 3, 4, 3, 3, 2, 0, 4, 0, 0, 2, 3,\n",
       "       3, 4, 2, 4, 4, 4, 2, 2, 3, 1, 0, 4, 3, 5, 4, 4, 2, 5, 2, 4, 4, 2,\n",
       "       2, 4, 3, 3, 3, 0, 3, 0, 0, 0, 0, 0, 5, 0, 4, 3, 5, 4, 5, 2, 0, 0,\n",
       "       2, 5, 2, 5, 4, 2, 4, 4, 0, 4, 4, 3, 1, 0, 2, 3, 4, 0, 2, 4, 4, 4,\n",
       "       5, 0, 5, 3, 4, 2, 0, 2, 4, 4, 0, 0, 5, 5, 4, 5, 1, 4, 0, 4, 0, 2,\n",
       "       2, 0, 4, 0, 2, 4, 5, 2, 4, 0, 2, 2, 5, 2, 0, 4, 4, 2, 1, 4, 4, 0,\n",
       "       2, 2, 0, 4, 4, 0, 4, 0, 5, 5, 0, 2, 5, 0, 4, 2, 0, 0, 5, 2, 1, 4,\n",
       "       5, 4, 0, 0, 5, 0, 2, 0, 4, 4, 5, 3, 3, 4, 0, 1, 5, 4, 3, 3, 4, 4,\n",
       "       5, 3, 4, 2, 4, 4, 0, 2, 1, 2, 0, 0, 0, 2, 3, 2, 5, 4, 0, 4, 3, 0,\n",
       "       2, 2, 2, 1, 2, 2, 4, 0, 3, 1, 5, 2, 4, 4, 5, 3, 4, 2, 4, 5, 1, 2,\n",
       "       2, 0, 2, 2, 0, 0, 4, 5, 4, 4, 4, 4, 3, 5, 5, 2, 2, 4, 0, 0, 4, 5,\n",
       "       0, 3, 5, 4, 3, 2, 3, 0, 4, 3, 0, 3, 0, 4, 3, 5, 4, 2, 3, 0, 1, 4,\n",
       "       2, 5, 3, 4, 4, 2, 2, 5, 3, 0, 0, 3, 2, 3, 4, 0, 4, 0, 0, 5, 5, 0,\n",
       "       4, 0, 2, 4, 4, 2, 2, 4, 3, 2, 0, 0, 5, 0, 4, 4, 2, 0, 0, 0, 5, 0,\n",
       "       4, 5, 3, 5, 3, 5, 4, 4, 5, 4, 5, 2, 0, 2, 0, 4, 4, 5, 2, 5, 3, 4,\n",
       "       0, 2, 2, 5, 2], dtype=int64)"
      ]
     },
     "execution_count": 13,
     "metadata": {},
     "output_type": "execute_result"
    }
   ],
   "source": [
    "y_pred"
   ]
  },
  {
   "cell_type": "code",
   "execution_count": 14,
   "id": "68d91512",
   "metadata": {},
   "outputs": [
    {
     "name": "stdout",
     "output_type": "stream",
     "text": [
      "0.7044776119402985\n"
     ]
    }
   ],
   "source": [
    "from sklearn.metrics import accuracy_score\n",
    "print(accuracy_score(y_test, y_pred))"
   ]
  },
  {
   "cell_type": "code",
   "execution_count": 15,
   "id": "cf48a323",
   "metadata": {},
   "outputs": [
    {
     "name": "stderr",
     "output_type": "stream",
     "text": [
      "C:\\Users\\Student\\miniconda3\\envs\\earth-analytics-python\\lib\\site-packages\\sklearn\\base.py:450: UserWarning: X does not have valid feature names, but GaussianNB was fitted with feature names\n",
      "  warnings.warn(\n"
     ]
    }
   ],
   "source": [
    "clf_res=gnb.predict(dataset)\n",
    "res=clf_res.reshape((r,c))\n",
    "# #Extracting the results to a tif file\n",
    "drv=gdal.GetDriverByName(\"GTiff\")\n",
    "drv.Register()\n",
    "clf_pal=drv.Create(output_raster,c,r,bands=1,eType=gdal.GDT_Int32)\n",
    "clf_pal.SetGeoTransform(geotransform)\n",
    "clf_pal.SetProjection(proj)\n",
    "clf_pal.GetRasterBand(1).WriteArray(res)\n",
    "clf_pal.FlushCache()\n",
    "clf_pal=None "
   ]
  },
  {
   "cell_type": "code",
   "execution_count": 16,
   "id": "f86874da",
   "metadata": {},
   "outputs": [
    {
     "data": {
      "text/plain": [
       "<sklearn.metrics._plot.confusion_matrix.ConfusionMatrixDisplay at 0x272eb578e50>"
      ]
     },
     "execution_count": 16,
     "metadata": {},
     "output_type": "execute_result"
    },
    {
     "data": {
      "image/png": "[encoded data removed]",
      "text/plain": [
       "<Figure size 432x288 with 2 Axes>"
      ]
     },
     "metadata": {
      "needs_background": "light"
     },
     "output_type": "display_data"
    }
   ],
   "source": [
    "from sklearn.metrics import ConfusionMatrixDisplay,confusion_matrix\n",
    "cf=confusion_matrix(y_test,y_pred)\n",
    "disp = ConfusionMatrixDisplay(confusion_matrix=cf,\n",
    "                               display_labels=['band1','band2','band3','band4','band5','band6'])\n",
    "disp.plot()"
   ]
  },
  {
   "cell_type": "code",
   "execution_count": 17,
   "id": "533b8795",
   "metadata": {},
   "outputs": [
    {
     "name": "stdout",
     "output_type": "stream",
     "text": [
      "              precision    recall  f1-score   support\n",
      "\n",
      "           0       0.65      0.74      0.69        65\n",
      "           1       0.33      0.18      0.24        22\n",
      "           2       0.56      0.84      0.67        45\n",
      "           3       0.75      0.56      0.64        59\n",
      "           4       0.76      0.84      0.80        81\n",
      "           5       0.94      0.71      0.81        63\n",
      "\n",
      "    accuracy                           0.70       335\n",
      "   macro avg       0.67      0.65      0.64       335\n",
      "weighted avg       0.72      0.70      0.70       335\n",
      "\n"
     ]
    }
   ],
   "source": [
    "from sklearn.metrics import classification_report\n",
    "print(classification_report(y_test,y_pred))"
   ]
  },
  {
   "cell_type": "code",
   "execution_count": null,
   "id": "c9850a23",
   "metadata": {},
   "outputs": [],
   "source": []
  }
 ],
 "metadata": {
  "kernelspec": {
   "display_name": "Python 3 (ipykernel)",
   "language": "python",
   "name": "python3"
  },
  "language_info": {
   "codemirror_mode": {
    "name": "ipython",
    "version": 3
   },
   "file_extension": ".py",
   "mimetype": "text/x-python",
   "name": "python",
   "nbconvert_exporter": "python",
   "pygments_lexer": "ipython3",
   "version": "3.8.13"
  }
 },
 "nbformat": 4,
 "nbformat_minor": 5
}
