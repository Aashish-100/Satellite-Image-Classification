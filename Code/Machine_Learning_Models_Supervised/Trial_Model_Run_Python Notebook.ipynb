{
 "cells": [
  {
   "cell_type": "code",
   "execution_count": 1,
   "id": "f8735f1c",
   "metadata": {},
   "outputs": [],
   "source": [
    "#Importing necessary libraries\n",
    "import numpy as np\n",
    "import pandas as pd\n",
    "import geopandas as gpd\n",
    "from osgeo import gdal\n",
    "import matplotlib.pyplot as plt "
   ]
  },
  {
   "cell_type": "code",
   "execution_count": 2,
   "id": "80a5e43a",
   "metadata": {},
   "outputs": [],
   "source": [
    "#Setting path variables to our input and output files\n",
    "inp_ras_path=\"C:\\\\Summer2022\\\\Marginal-Land-Classification\\\\Palakkad_Supervised_Landsat\\\\Data_Preprocessing\\\\New_Palakkad_Raster.tif\"\n",
    "inp_data_xlsx=\"C:\\\\Summer2022\\\\Marginal-Land-Classification\\\\Palakkad_Supervised_Landsat\\\\Data_Preprocessing\\\\Train_Palakkad.xlsx\"\n",
    "out_ras=\"C:\\\\Summer2022\\\\Marginal-Land-Classification\\\\Palakkad_Supervised_Landsat\\\\Data_Preprocessing\\\\Classification_Results\\\\Random_Forest_Classified_2.tif\""
   ]
  },
  {
   "cell_type": "code",
   "execution_count": 3,
   "id": "d36fa0a7",
   "metadata": {},
   "outputs": [],
   "source": [
    "from sklearn.ensemble import RandomForestClassifier"
   ]
  },
  {
   "cell_type": "code",
   "execution_count": 4,
   "id": "9c056551",
   "metadata": {},
   "outputs": [],
   "source": [
    "#Reading the xlsx dataset"
   ]
  },
  {
   "cell_type": "code",
   "execution_count": 5,
   "id": "7749c43a",
   "metadata": {},
   "outputs": [
    {
     "data": {
      "text/html": [
       "<div>\n",
       "<style scoped>\n",
       "    .dataframe tbody tr th:only-of-type {\n",
       "        vertical-align: middle;\n",
       "    }\n",
       "\n",
       "    .dataframe tbody tr th {\n",
       "        vertical-align: top;\n",
       "    }\n",
       "\n",
       "    .dataframe thead th {\n",
       "        text-align: right;\n",
       "    }\n",
       "</style>\n",
       "<table border=\"1\" class=\"dataframe\">\n",
       "  <thead>\n",
       "    <tr style=\"text-align: right;\">\n",
       "      <th></th>\n",
       "      <th>Unnamed: 0</th>\n",
       "      <th>Name</th>\n",
       "      <th>Shape_Leng</th>\n",
       "      <th>Shape_Area</th>\n",
       "      <th>geometry</th>\n",
       "      <th>band1</th>\n",
       "      <th>band2</th>\n",
       "      <th>band3</th>\n",
       "      <th>band4</th>\n",
       "      <th>band5</th>\n",
       "      <th>band6</th>\n",
       "    </tr>\n",
       "  </thead>\n",
       "  <tbody>\n",
       "    <tr>\n",
       "      <th>0</th>\n",
       "      <td>0</td>\n",
       "      <td>St</td>\n",
       "      <td>0.002974</td>\n",
       "      <td>4.866600e-07</td>\n",
       "      <td>POINT (76.64307164300004 10.788226620000046)</td>\n",
       "      <td>654.013916</td>\n",
       "      <td>858.013916</td>\n",
       "      <td>944.013916</td>\n",
       "      <td>2036.513916</td>\n",
       "      <td>2422.013916</td>\n",
       "      <td>2185.013916</td>\n",
       "    </tr>\n",
       "    <tr>\n",
       "      <th>1</th>\n",
       "      <td>1</td>\n",
       "      <td>St</td>\n",
       "      <td>0.002974</td>\n",
       "      <td>4.866600e-07</td>\n",
       "      <td>POINT (76.64277901900005 10.78838195000003)</td>\n",
       "      <td>609.496826</td>\n",
       "      <td>835.496826</td>\n",
       "      <td>869.996826</td>\n",
       "      <td>2122.496826</td>\n",
       "      <td>2043.496826</td>\n",
       "      <td>1787.996826</td>\n",
       "    </tr>\n",
       "    <tr>\n",
       "      <th>2</th>\n",
       "      <td>2</td>\n",
       "      <td>St</td>\n",
       "      <td>0.002974</td>\n",
       "      <td>4.866600e-07</td>\n",
       "      <td>POINT (76.64298855100003 10.788809429000025)</td>\n",
       "      <td>734.508606</td>\n",
       "      <td>1019.008606</td>\n",
       "      <td>1162.008545</td>\n",
       "      <td>2219.008545</td>\n",
       "      <td>2567.508545</td>\n",
       "      <td>2153.508545</td>\n",
       "    </tr>\n",
       "    <tr>\n",
       "      <th>3</th>\n",
       "      <td>3</td>\n",
       "      <td>St</td>\n",
       "      <td>0.002974</td>\n",
       "      <td>4.866600e-07</td>\n",
       "      <td>POINT (76.64307477100004 10.788927469000043)</td>\n",
       "      <td>734.508606</td>\n",
       "      <td>1019.008606</td>\n",
       "      <td>1162.008545</td>\n",
       "      <td>2219.008545</td>\n",
       "      <td>2567.508545</td>\n",
       "      <td>2153.508545</td>\n",
       "    </tr>\n",
       "    <tr>\n",
       "      <th>4</th>\n",
       "      <td>4</td>\n",
       "      <td>St</td>\n",
       "      <td>0.002974</td>\n",
       "      <td>4.866600e-07</td>\n",
       "      <td>POINT (76.64321036300004 10.788880423000023)</td>\n",
       "      <td>845.011780</td>\n",
       "      <td>1124.011841</td>\n",
       "      <td>1210.511841</td>\n",
       "      <td>2114.011719</td>\n",
       "      <td>2666.511719</td>\n",
       "      <td>2429.011719</td>\n",
       "    </tr>\n",
       "  </tbody>\n",
       "</table>\n",
       "</div>"
      ],
      "text/plain": [
       "   Unnamed: 0 Name  Shape_Leng    Shape_Area  \\\n",
       "0           0   St    0.002974  4.866600e-07   \n",
       "1           1   St    0.002974  4.866600e-07   \n",
       "2           2   St    0.002974  4.866600e-07   \n",
       "3           3   St    0.002974  4.866600e-07   \n",
       "4           4   St    0.002974  4.866600e-07   \n",
       "\n",
       "                                       geometry       band1        band2  \\\n",
       "0  POINT (76.64307164300004 10.788226620000046)  654.013916   858.013916   \n",
       "1   POINT (76.64277901900005 10.78838195000003)  609.496826   835.496826   \n",
       "2  POINT (76.64298855100003 10.788809429000025)  734.508606  1019.008606   \n",
       "3  POINT (76.64307477100004 10.788927469000043)  734.508606  1019.008606   \n",
       "4  POINT (76.64321036300004 10.788880423000023)  845.011780  1124.011841   \n",
       "\n",
       "         band3        band4        band5        band6  \n",
       "0   944.013916  2036.513916  2422.013916  2185.013916  \n",
       "1   869.996826  2122.496826  2043.496826  1787.996826  \n",
       "2  1162.008545  2219.008545  2567.508545  2153.508545  \n",
       "3  1162.008545  2219.008545  2567.508545  2153.508545  \n",
       "4  1210.511841  2114.011719  2666.511719  2429.011719  "
      ]
     },
     "execution_count": 5,
     "metadata": {},
     "output_type": "execute_result"
    }
   ],
   "source": [
    "df=pd.read_excel(inp_data_xlsx)\n",
    "df.head()"
   ]
  },
  {
   "cell_type": "code",
   "execution_count": 6,
   "id": "c9f2d1b4",
   "metadata": {},
   "outputs": [
    {
     "data": {
      "text/html": [
       "<div>\n",
       "<style scoped>\n",
       "    .dataframe tbody tr th:only-of-type {\n",
       "        vertical-align: middle;\n",
       "    }\n",
       "\n",
       "    .dataframe tbody tr th {\n",
       "        vertical-align: top;\n",
       "    }\n",
       "\n",
       "    .dataframe thead th {\n",
       "        text-align: right;\n",
       "    }\n",
       "</style>\n",
       "<table border=\"1\" class=\"dataframe\">\n",
       "  <thead>\n",
       "    <tr style=\"text-align: right;\">\n",
       "      <th></th>\n",
       "      <th>Name</th>\n",
       "      <th>Shape_Leng</th>\n",
       "      <th>Shape_Area</th>\n",
       "      <th>geometry</th>\n",
       "      <th>band1</th>\n",
       "      <th>band2</th>\n",
       "      <th>band3</th>\n",
       "      <th>band4</th>\n",
       "      <th>band5</th>\n",
       "      <th>band6</th>\n",
       "    </tr>\n",
       "  </thead>\n",
       "  <tbody>\n",
       "    <tr>\n",
       "      <th>0</th>\n",
       "      <td>St</td>\n",
       "      <td>0.002974</td>\n",
       "      <td>4.866600e-07</td>\n",
       "      <td>POINT (76.64307164300004 10.788226620000046)</td>\n",
       "      <td>654.013916</td>\n",
       "      <td>858.013916</td>\n",
       "      <td>944.013916</td>\n",
       "      <td>2036.513916</td>\n",
       "      <td>2422.013916</td>\n",
       "      <td>2185.013916</td>\n",
       "    </tr>\n",
       "    <tr>\n",
       "      <th>1</th>\n",
       "      <td>St</td>\n",
       "      <td>0.002974</td>\n",
       "      <td>4.866600e-07</td>\n",
       "      <td>POINT (76.64277901900005 10.78838195000003)</td>\n",
       "      <td>609.496826</td>\n",
       "      <td>835.496826</td>\n",
       "      <td>869.996826</td>\n",
       "      <td>2122.496826</td>\n",
       "      <td>2043.496826</td>\n",
       "      <td>1787.996826</td>\n",
       "    </tr>\n",
       "    <tr>\n",
       "      <th>2</th>\n",
       "      <td>St</td>\n",
       "      <td>0.002974</td>\n",
       "      <td>4.866600e-07</td>\n",
       "      <td>POINT (76.64298855100003 10.788809429000025)</td>\n",
       "      <td>734.508606</td>\n",
       "      <td>1019.008606</td>\n",
       "      <td>1162.008545</td>\n",
       "      <td>2219.008545</td>\n",
       "      <td>2567.508545</td>\n",
       "      <td>2153.508545</td>\n",
       "    </tr>\n",
       "    <tr>\n",
       "      <th>3</th>\n",
       "      <td>St</td>\n",
       "      <td>0.002974</td>\n",
       "      <td>4.866600e-07</td>\n",
       "      <td>POINT (76.64307477100004 10.788927469000043)</td>\n",
       "      <td>734.508606</td>\n",
       "      <td>1019.008606</td>\n",
       "      <td>1162.008545</td>\n",
       "      <td>2219.008545</td>\n",
       "      <td>2567.508545</td>\n",
       "      <td>2153.508545</td>\n",
       "    </tr>\n",
       "    <tr>\n",
       "      <th>4</th>\n",
       "      <td>St</td>\n",
       "      <td>0.002974</td>\n",
       "      <td>4.866600e-07</td>\n",
       "      <td>POINT (76.64321036300004 10.788880423000023)</td>\n",
       "      <td>845.011780</td>\n",
       "      <td>1124.011841</td>\n",
       "      <td>1210.511841</td>\n",
       "      <td>2114.011719</td>\n",
       "      <td>2666.511719</td>\n",
       "      <td>2429.011719</td>\n",
       "    </tr>\n",
       "  </tbody>\n",
       "</table>\n",
       "</div>"
      ],
      "text/plain": [
       "  Name  Shape_Leng    Shape_Area  \\\n",
       "0   St    0.002974  4.866600e-07   \n",
       "1   St    0.002974  4.866600e-07   \n",
       "2   St    0.002974  4.866600e-07   \n",
       "3   St    0.002974  4.866600e-07   \n",
       "4   St    0.002974  4.866600e-07   \n",
       "\n",
       "                                       geometry       band1        band2  \\\n",
       "0  POINT (76.64307164300004 10.788226620000046)  654.013916   858.013916   \n",
       "1   POINT (76.64277901900005 10.78838195000003)  609.496826   835.496826   \n",
       "2  POINT (76.64298855100003 10.788809429000025)  734.508606  1019.008606   \n",
       "3  POINT (76.64307477100004 10.788927469000043)  734.508606  1019.008606   \n",
       "4  POINT (76.64321036300004 10.788880423000023)  845.011780  1124.011841   \n",
       "\n",
       "         band3        band4        band5        band6  \n",
       "0   944.013916  2036.513916  2422.013916  2185.013916  \n",
       "1   869.996826  2122.496826  2043.496826  1787.996826  \n",
       "2  1162.008545  2219.008545  2567.508545  2153.508545  \n",
       "3  1162.008545  2219.008545  2567.508545  2153.508545  \n",
       "4  1210.511841  2114.011719  2666.511719  2429.011719  "
      ]
     },
     "execution_count": 6,
     "metadata": {},
     "output_type": "execute_result"
    }
   ],
   "source": [
    "df=df.drop(['Unnamed: 0'],axis=1)\n",
    "df.head()"
   ]
  },
  {
   "cell_type": "code",
   "execution_count": 7,
   "id": "8ae61d7c",
   "metadata": {},
   "outputs": [],
   "source": [
    "from sklearn.preprocessing import LabelEncoder"
   ]
  },
  {
   "cell_type": "code",
   "execution_count": 8,
   "id": "9d273275",
   "metadata": {},
   "outputs": [
    {
     "data": {
      "text/plain": [
       "array([3, 3, 3, ..., 4, 4, 4])"
      ]
     },
     "execution_count": 8,
     "metadata": {},
     "output_type": "execute_result"
    }
   ],
   "source": [
    "le=LabelEncoder()\n",
    "num_categories=le.fit_transform(df['Name'])\n",
    "num_categories"
   ]
  },
  {
   "cell_type": "code",
   "execution_count": 9,
   "id": "7d4f703a",
   "metadata": {},
   "outputs": [
    {
     "data": {
      "text/plain": [
       "array(['Ag', 'Br', 'Rc', 'St', 'Vg', 'Wt'], dtype=object)"
      ]
     },
     "execution_count": 9,
     "metadata": {},
     "output_type": "execute_result"
    }
   ],
   "source": [
    "(le.classes_)"
   ]
  },
  {
   "cell_type": "code",
   "execution_count": 10,
   "id": "64c07449",
   "metadata": {},
   "outputs": [
    {
     "data": {
      "text/html": [
       "<div>\n",
       "<style scoped>\n",
       "    .dataframe tbody tr th:only-of-type {\n",
       "        vertical-align: middle;\n",
       "    }\n",
       "\n",
       "    .dataframe tbody tr th {\n",
       "        vertical-align: top;\n",
       "    }\n",
       "\n",
       "    .dataframe thead th {\n",
       "        text-align: right;\n",
       "    }\n",
       "</style>\n",
       "<table border=\"1\" class=\"dataframe\">\n",
       "  <thead>\n",
       "    <tr style=\"text-align: right;\">\n",
       "      <th></th>\n",
       "      <th>Name</th>\n",
       "      <th>Shape_Leng</th>\n",
       "      <th>Shape_Area</th>\n",
       "      <th>geometry</th>\n",
       "      <th>band1</th>\n",
       "      <th>band2</th>\n",
       "      <th>band3</th>\n",
       "      <th>band4</th>\n",
       "      <th>band5</th>\n",
       "      <th>band6</th>\n",
       "      <th>Number_Name</th>\n",
       "    </tr>\n",
       "  </thead>\n",
       "  <tbody>\n",
       "    <tr>\n",
       "      <th>0</th>\n",
       "      <td>St</td>\n",
       "      <td>0.002974</td>\n",
       "      <td>4.866600e-07</td>\n",
       "      <td>POINT (76.64307164300004 10.788226620000046)</td>\n",
       "      <td>654.013916</td>\n",
       "      <td>858.013916</td>\n",
       "      <td>944.013916</td>\n",
       "      <td>2036.513916</td>\n",
       "      <td>2422.013916</td>\n",
       "      <td>2185.013916</td>\n",
       "      <td>3</td>\n",
       "    </tr>\n",
       "    <tr>\n",
       "      <th>1</th>\n",
       "      <td>St</td>\n",
       "      <td>0.002974</td>\n",
       "      <td>4.866600e-07</td>\n",
       "      <td>POINT (76.64277901900005 10.78838195000003)</td>\n",
       "      <td>609.496826</td>\n",
       "      <td>835.496826</td>\n",
       "      <td>869.996826</td>\n",
       "      <td>2122.496826</td>\n",
       "      <td>2043.496826</td>\n",
       "      <td>1787.996826</td>\n",
       "      <td>3</td>\n",
       "    </tr>\n",
       "    <tr>\n",
       "      <th>2</th>\n",
       "      <td>St</td>\n",
       "      <td>0.002974</td>\n",
       "      <td>4.866600e-07</td>\n",
       "      <td>POINT (76.64298855100003 10.788809429000025)</td>\n",
       "      <td>734.508606</td>\n",
       "      <td>1019.008606</td>\n",
       "      <td>1162.008545</td>\n",
       "      <td>2219.008545</td>\n",
       "      <td>2567.508545</td>\n",
       "      <td>2153.508545</td>\n",
       "      <td>3</td>\n",
       "    </tr>\n",
       "    <tr>\n",
       "      <th>3</th>\n",
       "      <td>St</td>\n",
       "      <td>0.002974</td>\n",
       "      <td>4.866600e-07</td>\n",
       "      <td>POINT (76.64307477100004 10.788927469000043)</td>\n",
       "      <td>734.508606</td>\n",
       "      <td>1019.008606</td>\n",
       "      <td>1162.008545</td>\n",
       "      <td>2219.008545</td>\n",
       "      <td>2567.508545</td>\n",
       "      <td>2153.508545</td>\n",
       "      <td>3</td>\n",
       "    </tr>\n",
       "    <tr>\n",
       "      <th>4</th>\n",
       "      <td>St</td>\n",
       "      <td>0.002974</td>\n",
       "      <td>4.866600e-07</td>\n",
       "      <td>POINT (76.64321036300004 10.788880423000023)</td>\n",
       "      <td>845.011780</td>\n",
       "      <td>1124.011841</td>\n",
       "      <td>1210.511841</td>\n",
       "      <td>2114.011719</td>\n",
       "      <td>2666.511719</td>\n",
       "      <td>2429.011719</td>\n",
       "      <td>3</td>\n",
       "    </tr>\n",
       "  </tbody>\n",
       "</table>\n",
       "</div>"
      ],
      "text/plain": [
       "  Name  Shape_Leng    Shape_Area  \\\n",
       "0   St    0.002974  4.866600e-07   \n",
       "1   St    0.002974  4.866600e-07   \n",
       "2   St    0.002974  4.866600e-07   \n",
       "3   St    0.002974  4.866600e-07   \n",
       "4   St    0.002974  4.866600e-07   \n",
       "\n",
       "                                       geometry       band1        band2  \\\n",
       "0  POINT (76.64307164300004 10.788226620000046)  654.013916   858.013916   \n",
       "1   POINT (76.64277901900005 10.78838195000003)  609.496826   835.496826   \n",
       "2  POINT (76.64298855100003 10.788809429000025)  734.508606  1019.008606   \n",
       "3  POINT (76.64307477100004 10.788927469000043)  734.508606  1019.008606   \n",
       "4  POINT (76.64321036300004 10.788880423000023)  845.011780  1124.011841   \n",
       "\n",
       "         band3        band4        band5        band6  Number_Name  \n",
       "0   944.013916  2036.513916  2422.013916  2185.013916            3  \n",
       "1   869.996826  2122.496826  2043.496826  1787.996826            3  \n",
       "2  1162.008545  2219.008545  2567.508545  2153.508545            3  \n",
       "3  1162.008545  2219.008545  2567.508545  2153.508545            3  \n",
       "4  1210.511841  2114.011719  2666.511719  2429.011719            3  "
      ]
     },
     "execution_count": 10,
     "metadata": {},
     "output_type": "execute_result"
    }
   ],
   "source": [
    "df['Number_Name']=num_categories\n",
    "df.head()"
   ]
  },
  {
   "cell_type": "code",
   "execution_count": 11,
   "id": "24b500e3",
   "metadata": {},
   "outputs": [],
   "source": [
    "#Segregate the columns required for classification i.e independent variables\n",
    "train_labels=df[['band1','band2','band3','band4','band5','band6']]\n",
    "#Selecting the dependent label\n",
    "dep_label=df['Number_Name']"
   ]
  },
  {
   "cell_type": "code",
   "execution_count": 12,
   "id": "820ee91d",
   "metadata": {},
   "outputs": [
    {
     "data": {
      "text/plain": [
       "0       3\n",
       "1       3\n",
       "2       3\n",
       "3       3\n",
       "4       3\n",
       "       ..\n",
       "1669    4\n",
       "1670    4\n",
       "1671    4\n",
       "1672    4\n",
       "1673    4\n",
       "Name: Number_Name, Length: 1674, dtype: int32"
      ]
     },
     "execution_count": 12,
     "metadata": {},
     "output_type": "execute_result"
    }
   ],
   "source": [
    "dep_label"
   ]
  },
  {
   "cell_type": "code",
   "execution_count": 13,
   "id": "372dc85b",
   "metadata": {},
   "outputs": [],
   "source": [
    "#Using gdal to read the raster file and get properties\n",
    "raster=gdal.Open(inp_ras_path)"
   ]
  },
  {
   "cell_type": "code",
   "execution_count": 14,
   "id": "2a924e31",
   "metadata": {},
   "outputs": [],
   "source": [
    "r=raster.RasterYSize\n",
    "c=raster.RasterXSize\n",
    "geotransform=raster.GetGeoTransform()\n",
    "proj=raster.GetProjectionRef()\n",
    "ras_arr=raster.ReadAsArray()"
   ]
  },
  {
   "cell_type": "code",
   "execution_count": 15,
   "id": "25a70bb5",
   "metadata": {},
   "outputs": [],
   "source": [
    "num_bands=raster.RasterCount"
   ]
  },
  {
   "cell_type": "code",
   "execution_count": 16,
   "id": "246affeb",
   "metadata": {},
   "outputs": [
    {
     "data": {
      "text/plain": [
       "array([[[ 302.36493,  336.91345,  348.9318 , ...,  138.74207,\n",
       "          138.73117,  140.21135],\n",
       "        [ 309.90854,  313.42224,  294.9218 , ...,  139.72775,\n",
       "          133.20668,  136.19824],\n",
       "        [ 312.889  ,  314.93445,  297.92996, ...,  131.70714,\n",
       "          131.69638,  133.19931],\n",
       "        ...,\n",
       "        [ 449.94327,  399.9475 ,  403.49487, ...,  366.93008,\n",
       "          357.9387 ,  453.47867],\n",
       "        [ 369.39   ,  363.39368,  401.98032, ...,  374.38577,\n",
       "          409.3952 ,  411.41776],\n",
       "        [ 350.9251 ,  356.40097,  390.44278, ...,  471.44406,\n",
       "          539.4624 ,  500.4569 ]],\n",
       "\n",
       "       [[ 537.8649 ,  596.41345,  609.43176, ...,  346.24207,\n",
       "          353.73117,  358.21133],\n",
       "        [ 535.9085 ,  551.92224,  566.9218 , ...,  360.72775,\n",
       "          343.7067 ,  343.19824],\n",
       "        [ 545.88904,  541.93445,  558.42993, ...,  345.70715,\n",
       "          354.69638,  361.6993 ],\n",
       "        ...,\n",
       "        [ 721.9433 ,  676.9475 ,  695.4949 , ...,  668.93005,\n",
       "          641.43866,  704.97864],\n",
       "        [ 660.89   ,  656.3937 ,  707.9803 , ...,  627.3858 ,\n",
       "          651.8952 ,  623.4178 ],\n",
       "        [ 618.9251 ,  639.401  ,  670.9428 , ...,  706.4441 ,\n",
       "          758.4624 ,  723.4569 ]],\n",
       "\n",
       "       [[ 401.36493,  493.91345,  528.43176, ...,  181.74207,\n",
       "          177.23117,  176.71135],\n",
       "        [ 439.90854,  465.92224,  484.9218 , ...,  182.72775,\n",
       "          157.70668,  165.69824],\n",
       "        [ 447.389  ,  479.43445,  500.92996, ...,  161.20714,\n",
       "          160.19638,  168.19931],\n",
       "        ...,\n",
       "        [ 675.9433 ,  616.4475 ,  797.9949 , ...,  574.43005,\n",
       "          557.43866,  675.97864],\n",
       "        [ 523.39   ,  537.8937 ,  751.4803 , ...,  497.88577,\n",
       "          523.3952 ,  505.91776],\n",
       "        [ 544.9251 ,  551.401  ,  647.4428 , ...,  646.9441 ,\n",
       "          734.4624 ,  694.9569 ]],\n",
       "\n",
       "       [[2980.865  , 2714.4136 , 2471.432  , ..., 2428.242  ,\n",
       "         2441.2312 , 2679.2114 ],\n",
       "        [2671.9084 , 2668.422  , 2554.4219 , ..., 2594.2278 ,\n",
       "         2430.2068 , 2704.6982 ],\n",
       "        [2862.889  , 2397.9346 , 2508.43   , ..., 2531.707  ,\n",
       "         2572.6963 , 2656.1992 ],\n",
       "        ...,\n",
       "        [3055.4434 , 2962.4475 , 2614.9949 , ..., 2614.9302 ,\n",
       "         2372.9387 , 1820.4786 ],\n",
       "        [3277.89   , 3357.8938 , 2881.4802 , ..., 3161.8857 ,\n",
       "         3233.8953 , 2532.9177 ],\n",
       "        [2934.425  , 3308.901  , 3132.4429 , ..., 2856.444  ,\n",
       "         2948.4624 , 2957.4568 ]],\n",
       "\n",
       "       [[1630.3649 , 1711.9135 , 1623.9318 , ...,  932.24207,\n",
       "          888.73114,  931.21136],\n",
       "        [1727.4086 , 1830.4222 , 1672.4218 , ...,  953.2278 ,\n",
       "          828.20667,  924.19824],\n",
       "        [1668.389  , 1676.4344 , 1696.9299 , ...,  887.70715,\n",
       "          845.69635,  875.69934],\n",
       "        ...,\n",
       "        [2169.9434 , 2228.9475 , 2519.4949 , ..., 1650.93   ,\n",
       "         1547.9387 , 1387.4786 ],\n",
       "        [1892.89   , 1990.3937 , 2546.4802 , ..., 1784.8857 ,\n",
       "         1924.3951 , 1538.9177 ],\n",
       "        [1992.425  , 2014.401  , 2288.4429 , ..., 2015.9441 ,\n",
       "         2313.4624 , 2272.9568 ]],\n",
       "\n",
       "       [[ 826.3649 ,  991.41345,  986.93176, ...,  382.24207,\n",
       "          361.73117,  378.71133],\n",
       "        [ 906.4085 , 1052.4222 ,  931.9218 , ...,  388.22775,\n",
       "          332.2067 ,  359.69824],\n",
       "        [ 885.38904, 1016.43445,  966.42993, ...,  360.70715,\n",
       "          327.69638,  340.1993 ],\n",
       "        ...,\n",
       "        [1195.9432 , 1197.9475 , 1600.9949 , ...,  991.93005,\n",
       "          923.43866,  958.47864],\n",
       "        [ 914.89   , 1015.8937 , 1572.4803 , ...,  883.3858 ,\n",
       "          956.8952 ,  835.9178 ],\n",
       "        [1037.925  , 1000.901  , 1302.9427 , ..., 1217.4441 ,\n",
       "         1422.9624 , 1334.9569 ]]], dtype=float32)"
      ]
     },
     "execution_count": 16,
     "metadata": {},
     "output_type": "execute_result"
    }
   ],
   "source": [
    "ras_arr"
   ]
  },
  {
   "cell_type": "code",
   "execution_count": 17,
   "id": "098203d0",
   "metadata": {},
   "outputs": [
    {
     "data": {
      "text/html": [
       "<div>\n",
       "<style scoped>\n",
       "    .dataframe tbody tr th:only-of-type {\n",
       "        vertical-align: middle;\n",
       "    }\n",
       "\n",
       "    .dataframe tbody tr th {\n",
       "        vertical-align: top;\n",
       "    }\n",
       "\n",
       "    .dataframe thead th {\n",
       "        text-align: right;\n",
       "    }\n",
       "</style>\n",
       "<table border=\"1\" class=\"dataframe\">\n",
       "  <thead>\n",
       "    <tr style=\"text-align: right;\">\n",
       "      <th></th>\n",
       "      <th>0</th>\n",
       "      <th>1</th>\n",
       "      <th>2</th>\n",
       "      <th>3</th>\n",
       "      <th>4</th>\n",
       "      <th>5</th>\n",
       "    </tr>\n",
       "  </thead>\n",
       "  <tbody>\n",
       "    <tr>\n",
       "      <th>0</th>\n",
       "      <td>302.364929</td>\n",
       "      <td>537.864929</td>\n",
       "      <td>401.364929</td>\n",
       "      <td>2980.864990</td>\n",
       "      <td>1630.364868</td>\n",
       "      <td>826.364929</td>\n",
       "    </tr>\n",
       "    <tr>\n",
       "      <th>1</th>\n",
       "      <td>336.913452</td>\n",
       "      <td>596.413452</td>\n",
       "      <td>493.913452</td>\n",
       "      <td>2714.413574</td>\n",
       "      <td>1711.913452</td>\n",
       "      <td>991.413452</td>\n",
       "    </tr>\n",
       "    <tr>\n",
       "      <th>2</th>\n",
       "      <td>348.931793</td>\n",
       "      <td>609.431763</td>\n",
       "      <td>528.431763</td>\n",
       "      <td>2471.431885</td>\n",
       "      <td>1623.931763</td>\n",
       "      <td>986.931763</td>\n",
       "    </tr>\n",
       "    <tr>\n",
       "      <th>3</th>\n",
       "      <td>291.872223</td>\n",
       "      <td>535.872253</td>\n",
       "      <td>416.372223</td>\n",
       "      <td>2749.872314</td>\n",
       "      <td>1429.372192</td>\n",
       "      <td>725.872253</td>\n",
       "    </tr>\n",
       "    <tr>\n",
       "      <th>4</th>\n",
       "      <td>306.911499</td>\n",
       "      <td>568.911499</td>\n",
       "      <td>487.411499</td>\n",
       "      <td>2853.911377</td>\n",
       "      <td>1844.911499</td>\n",
       "      <td>980.911499</td>\n",
       "    </tr>\n",
       "  </tbody>\n",
       "</table>\n",
       "</div>"
      ],
      "text/plain": [
       "            0           1           2            3            4           5\n",
       "0  302.364929  537.864929  401.364929  2980.864990  1630.364868  826.364929\n",
       "1  336.913452  596.413452  493.913452  2714.413574  1711.913452  991.413452\n",
       "2  348.931793  609.431763  528.431763  2471.431885  1623.931763  986.931763\n",
       "3  291.872223  535.872253  416.372223  2749.872314  1429.372192  725.872253\n",
       "4  306.911499  568.911499  487.411499  2853.911377  1844.911499  980.911499"
      ]
     },
     "execution_count": 17,
     "metadata": {},
     "output_type": "execute_result"
    }
   ],
   "source": [
    "#Changing the shape of array so that it can be fed into the model\n",
    "ras_arr=np.stack(ras_arr,axis=2)\n",
    "ras_arr=np.reshape(ras_arr,[r*c,num_bands])\n",
    "dataset=pd.DataFrame(ras_arr)\n",
    "dataset.head()"
   ]
  },
  {
   "cell_type": "code",
   "execution_count": null,
   "id": "d1a82461",
   "metadata": {},
   "outputs": [],
   "source": []
  },
  {
   "cell_type": "code",
   "execution_count": null,
   "id": "d27aa48a",
   "metadata": {},
   "outputs": [],
   "source": []
  },
  {
   "cell_type": "code",
   "execution_count": null,
   "id": "88607678",
   "metadata": {},
   "outputs": [],
   "source": []
  },
  {
   "cell_type": "code",
   "execution_count": null,
   "id": "bbbf7ffa",
   "metadata": {},
   "outputs": [],
   "source": []
  },
  {
   "cell_type": "code",
   "execution_count": null,
   "id": "350b1659",
   "metadata": {},
   "outputs": [],
   "source": []
  },
  {
   "cell_type": "code",
   "execution_count": 21,
   "id": "0794c8ca",
   "metadata": {},
   "outputs": [],
   "source": [
    "# #Extracting the results to a tif file\n",
    "# DONE AND THERE IS NO NEED TO REPEAT IT"
   ]
  },
  {
   "cell_type": "code",
   "execution_count": 22,
   "id": "3d25d5c7",
   "metadata": {},
   "outputs": [],
   "source": [
    "#Trying to classify the data again but this time we will scale down the values using the standard scalar and then split the data into train and test and then classify it"
   ]
  },
  {
   "cell_type": "code",
   "execution_count": 23,
   "id": "c6fff4a8",
   "metadata": {},
   "outputs": [],
   "source": [
    "#Therefore we are spliting our shapefile inton training and test to get accuracy"
   ]
  },
  {
   "cell_type": "code",
   "execution_count": 24,
   "id": "0b6e5a03",
   "metadata": {},
   "outputs": [
    {
     "data": {
      "text/html": [
       "<div>\n",
       "<style scoped>\n",
       "    .dataframe tbody tr th:only-of-type {\n",
       "        vertical-align: middle;\n",
       "    }\n",
       "\n",
       "    .dataframe tbody tr th {\n",
       "        vertical-align: top;\n",
       "    }\n",
       "\n",
       "    .dataframe thead th {\n",
       "        text-align: right;\n",
       "    }\n",
       "</style>\n",
       "<table border=\"1\" class=\"dataframe\">\n",
       "  <thead>\n",
       "    <tr style=\"text-align: right;\">\n",
       "      <th></th>\n",
       "      <th>Name</th>\n",
       "      <th>Shape_Leng</th>\n",
       "      <th>Shape_Area</th>\n",
       "      <th>geometry</th>\n",
       "      <th>band1</th>\n",
       "      <th>band2</th>\n",
       "      <th>band3</th>\n",
       "      <th>band4</th>\n",
       "      <th>band5</th>\n",
       "      <th>band6</th>\n",
       "      <th>Number_Name</th>\n",
       "    </tr>\n",
       "  </thead>\n",
       "  <tbody>\n",
       "    <tr>\n",
       "      <th>0</th>\n",
       "      <td>St</td>\n",
       "      <td>0.002974</td>\n",
       "      <td>4.866600e-07</td>\n",
       "      <td>POINT (76.64307164300004 10.788226620000046)</td>\n",
       "      <td>654.013916</td>\n",
       "      <td>858.013916</td>\n",
       "      <td>944.013916</td>\n",
       "      <td>2036.513916</td>\n",
       "      <td>2422.013916</td>\n",
       "      <td>2185.013916</td>\n",
       "      <td>3</td>\n",
       "    </tr>\n",
       "    <tr>\n",
       "      <th>1</th>\n",
       "      <td>St</td>\n",
       "      <td>0.002974</td>\n",
       "      <td>4.866600e-07</td>\n",
       "      <td>POINT (76.64277901900005 10.78838195000003)</td>\n",
       "      <td>609.496826</td>\n",
       "      <td>835.496826</td>\n",
       "      <td>869.996826</td>\n",
       "      <td>2122.496826</td>\n",
       "      <td>2043.496826</td>\n",
       "      <td>1787.996826</td>\n",
       "      <td>3</td>\n",
       "    </tr>\n",
       "    <tr>\n",
       "      <th>2</th>\n",
       "      <td>St</td>\n",
       "      <td>0.002974</td>\n",
       "      <td>4.866600e-07</td>\n",
       "      <td>POINT (76.64298855100003 10.788809429000025)</td>\n",
       "      <td>734.508606</td>\n",
       "      <td>1019.008606</td>\n",
       "      <td>1162.008545</td>\n",
       "      <td>2219.008545</td>\n",
       "      <td>2567.508545</td>\n",
       "      <td>2153.508545</td>\n",
       "      <td>3</td>\n",
       "    </tr>\n",
       "    <tr>\n",
       "      <th>3</th>\n",
       "      <td>St</td>\n",
       "      <td>0.002974</td>\n",
       "      <td>4.866600e-07</td>\n",
       "      <td>POINT (76.64307477100004 10.788927469000043)</td>\n",
       "      <td>734.508606</td>\n",
       "      <td>1019.008606</td>\n",
       "      <td>1162.008545</td>\n",
       "      <td>2219.008545</td>\n",
       "      <td>2567.508545</td>\n",
       "      <td>2153.508545</td>\n",
       "      <td>3</td>\n",
       "    </tr>\n",
       "    <tr>\n",
       "      <th>4</th>\n",
       "      <td>St</td>\n",
       "      <td>0.002974</td>\n",
       "      <td>4.866600e-07</td>\n",
       "      <td>POINT (76.64321036300004 10.788880423000023)</td>\n",
       "      <td>845.011780</td>\n",
       "      <td>1124.011841</td>\n",
       "      <td>1210.511841</td>\n",
       "      <td>2114.011719</td>\n",
       "      <td>2666.511719</td>\n",
       "      <td>2429.011719</td>\n",
       "      <td>3</td>\n",
       "    </tr>\n",
       "  </tbody>\n",
       "</table>\n",
       "</div>"
      ],
      "text/plain": [
       "  Name  Shape_Leng    Shape_Area  \\\n",
       "0   St    0.002974  4.866600e-07   \n",
       "1   St    0.002974  4.866600e-07   \n",
       "2   St    0.002974  4.866600e-07   \n",
       "3   St    0.002974  4.866600e-07   \n",
       "4   St    0.002974  4.866600e-07   \n",
       "\n",
       "                                       geometry       band1        band2  \\\n",
       "0  POINT (76.64307164300004 10.788226620000046)  654.013916   858.013916   \n",
       "1   POINT (76.64277901900005 10.78838195000003)  609.496826   835.496826   \n",
       "2  POINT (76.64298855100003 10.788809429000025)  734.508606  1019.008606   \n",
       "3  POINT (76.64307477100004 10.788927469000043)  734.508606  1019.008606   \n",
       "4  POINT (76.64321036300004 10.788880423000023)  845.011780  1124.011841   \n",
       "\n",
       "         band3        band4        band5        band6  Number_Name  \n",
       "0   944.013916  2036.513916  2422.013916  2185.013916            3  \n",
       "1   869.996826  2122.496826  2043.496826  1787.996826            3  \n",
       "2  1162.008545  2219.008545  2567.508545  2153.508545            3  \n",
       "3  1162.008545  2219.008545  2567.508545  2153.508545            3  \n",
       "4  1210.511841  2114.011719  2666.511719  2429.011719            3  "
      ]
     },
     "execution_count": 24,
     "metadata": {},
     "output_type": "execute_result"
    }
   ],
   "source": [
    "df.head()"
   ]
  },
  {
   "cell_type": "code",
   "execution_count": 25,
   "id": "9379e4bf",
   "metadata": {},
   "outputs": [],
   "source": [
    "from sklearn.model_selection import train_test_split\n",
    "shp_train_data,shp_test_data=train_test_split(df,test_size=0.2,random_state=25)\n",
    "dataset_train,dataset_test=train_test_split(dataset,test_size=0.2,random_state=25)"
   ]
  },
  {
   "cell_type": "code",
   "execution_count": null,
   "id": "62f19a18",
   "metadata": {},
   "outputs": [],
   "source": []
  },
  {
   "cell_type": "code",
   "execution_count": 26,
   "id": "edff9996",
   "metadata": {},
   "outputs": [],
   "source": [
    "x_train=shp_train_data[['band1','band2','band3','band4','band5','band6']]\n",
    "y_train=shp_train_data['Number_Name']"
   ]
  },
  {
   "cell_type": "code",
   "execution_count": 27,
   "id": "dcdee005",
   "metadata": {},
   "outputs": [],
   "source": [
    "x_test=shp_test_data[['band1','band2','band3','band4','band5','band6']]"
   ]
  },
  {
   "cell_type": "code",
   "execution_count": 28,
   "id": "47191842",
   "metadata": {},
   "outputs": [],
   "source": [
    "y_test=shp_test_data['Number_Name']"
   ]
  },
  {
   "cell_type": "code",
   "execution_count": 29,
   "id": "0930dd5e",
   "metadata": {},
   "outputs": [
    {
     "data": {
      "text/html": [
       "<div>\n",
       "<style scoped>\n",
       "    .dataframe tbody tr th:only-of-type {\n",
       "        vertical-align: middle;\n",
       "    }\n",
       "\n",
       "    .dataframe tbody tr th {\n",
       "        vertical-align: top;\n",
       "    }\n",
       "\n",
       "    .dataframe thead th {\n",
       "        text-align: right;\n",
       "    }\n",
       "</style>\n",
       "<table border=\"1\" class=\"dataframe\">\n",
       "  <thead>\n",
       "    <tr style=\"text-align: right;\">\n",
       "      <th></th>\n",
       "      <th>Name</th>\n",
       "      <th>Shape_Leng</th>\n",
       "      <th>Shape_Area</th>\n",
       "      <th>geometry</th>\n",
       "      <th>band1</th>\n",
       "      <th>band2</th>\n",
       "      <th>band3</th>\n",
       "      <th>band4</th>\n",
       "      <th>band5</th>\n",
       "      <th>band6</th>\n",
       "      <th>Number_Name</th>\n",
       "    </tr>\n",
       "  </thead>\n",
       "  <tbody>\n",
       "    <tr>\n",
       "      <th>708</th>\n",
       "      <td>Br</td>\n",
       "      <td>0.002002</td>\n",
       "      <td>2.606222e-07</td>\n",
       "      <td>POINT (76.70878240300004 10.752208282000026)</td>\n",
       "      <td>678.023193</td>\n",
       "      <td>873.523193</td>\n",
       "      <td>1055.023193</td>\n",
       "      <td>2322.523193</td>\n",
       "      <td>3008.023193</td>\n",
       "      <td>1976.523193</td>\n",
       "      <td>1</td>\n",
       "    </tr>\n",
       "    <tr>\n",
       "      <th>1338</th>\n",
       "      <td>Vg</td>\n",
       "      <td>0.010956</td>\n",
       "      <td>7.785580e-06</td>\n",
       "      <td>POINT (76.74300587400006 10.839063451000072)</td>\n",
       "      <td>184.294144</td>\n",
       "      <td>448.794159</td>\n",
       "      <td>275.294159</td>\n",
       "      <td>2936.794189</td>\n",
       "      <td>1321.294189</td>\n",
       "      <td>562.294128</td>\n",
       "      <td>4</td>\n",
       "    </tr>\n",
       "    <tr>\n",
       "      <th>471</th>\n",
       "      <td>Wt</td>\n",
       "      <td>0.006523</td>\n",
       "      <td>1.073099e-06</td>\n",
       "      <td>POINT (76.65055832400003 10.748486885000034)</td>\n",
       "      <td>266.882965</td>\n",
       "      <td>512.882996</td>\n",
       "      <td>363.882965</td>\n",
       "      <td>2072.383057</td>\n",
       "      <td>823.382996</td>\n",
       "      <td>392.382965</td>\n",
       "      <td>5</td>\n",
       "    </tr>\n",
       "    <tr>\n",
       "      <th>173</th>\n",
       "      <td>St</td>\n",
       "      <td>0.001303</td>\n",
       "      <td>8.882325e-08</td>\n",
       "      <td>POINT (76.64074726000007 10.755745094000076)</td>\n",
       "      <td>662.008179</td>\n",
       "      <td>954.508179</td>\n",
       "      <td>1057.508179</td>\n",
       "      <td>2242.508301</td>\n",
       "      <td>2508.508301</td>\n",
       "      <td>2057.508301</td>\n",
       "      <td>3</td>\n",
       "    </tr>\n",
       "    <tr>\n",
       "      <th>38</th>\n",
       "      <td>St</td>\n",
       "      <td>0.006752</td>\n",
       "      <td>7.587605e-07</td>\n",
       "      <td>POINT (76.64563999800004 10.777228398000034)</td>\n",
       "      <td>677.016724</td>\n",
       "      <td>964.516724</td>\n",
       "      <td>1122.016724</td>\n",
       "      <td>1862.516724</td>\n",
       "      <td>2617.516602</td>\n",
       "      <td>2301.016602</td>\n",
       "      <td>3</td>\n",
       "    </tr>\n",
       "  </tbody>\n",
       "</table>\n",
       "</div>"
      ],
      "text/plain": [
       "     Name  Shape_Leng    Shape_Area  \\\n",
       "708    Br    0.002002  2.606222e-07   \n",
       "1338   Vg    0.010956  7.785580e-06   \n",
       "471    Wt    0.006523  1.073099e-06   \n",
       "173    St    0.001303  8.882325e-08   \n",
       "38     St    0.006752  7.587605e-07   \n",
       "\n",
       "                                          geometry       band1       band2  \\\n",
       "708   POINT (76.70878240300004 10.752208282000026)  678.023193  873.523193   \n",
       "1338  POINT (76.74300587400006 10.839063451000072)  184.294144  448.794159   \n",
       "471   POINT (76.65055832400003 10.748486885000034)  266.882965  512.882996   \n",
       "173   POINT (76.64074726000007 10.755745094000076)  662.008179  954.508179   \n",
       "38    POINT (76.64563999800004 10.777228398000034)  677.016724  964.516724   \n",
       "\n",
       "            band3        band4        band5        band6  Number_Name  \n",
       "708   1055.023193  2322.523193  3008.023193  1976.523193            1  \n",
       "1338   275.294159  2936.794189  1321.294189   562.294128            4  \n",
       "471    363.882965  2072.383057   823.382996   392.382965            5  \n",
       "173   1057.508179  2242.508301  2508.508301  2057.508301            3  \n",
       "38    1122.016724  1862.516724  2617.516602  2301.016602            3  "
      ]
     },
     "execution_count": 29,
     "metadata": {},
     "output_type": "execute_result"
    }
   ],
   "source": [
    "shp_train_data.head()"
   ]
  },
  {
   "cell_type": "code",
   "execution_count": 32,
   "id": "5e59a184",
   "metadata": {},
   "outputs": [],
   "source": [
    "rfcl=RandomForestClassifier(n_estimators=51,max_features=6)"
   ]
  },
  {
   "cell_type": "code",
   "execution_count": 33,
   "id": "613a73c0",
   "metadata": {},
   "outputs": [
    {
     "data": {
      "text/html": [
       "<style>#sk-container-id-1 {color: black;background-color: white;}#sk-container-id-1 pre{padding: 0;}#sk-container-id-1 div.sk-toggleable {background-color: white;}#sk-container-id-1 label.sk-toggleable__label {cursor: pointer;display: block;width: 100%;margin-bottom: 0;padding: 0.3em;box-sizing: border-box;text-align: center;}#sk-container-id-1 label.sk-toggleable__label-arrow:before {content: \"▸\";float: left;margin-right: 0.25em;color: #696969;}#sk-container-id-1 label.sk-toggleable__label-arrow:hover:before {color: black;}#sk-container-id-1 div.sk-estimator:hover label.sk-toggleable__label-arrow:before {color: black;}#sk-container-id-1 div.sk-toggleable__content {max-height: 0;max-width: 0;overflow: hidden;text-align: left;background-color: #f0f8ff;}#sk-container-id-1 div.sk-toggleable__content pre {margin: 0.2em;color: black;border-radius: 0.25em;background-color: #f0f8ff;}#sk-container-id-1 input.sk-toggleable__control:checked~div.sk-toggleable__content {max-height: 200px;max-width: 100%;overflow: auto;}#sk-container-id-1 input.sk-toggleable__control:checked~label.sk-toggleable__label-arrow:before {content: \"▾\";}#sk-container-id-1 div.sk-estimator input.sk-toggleable__control:checked~label.sk-toggleable__label {background-color: #d4ebff;}#sk-container-id-1 div.sk-label input.sk-toggleable__control:checked~label.sk-toggleable__label {background-color: #d4ebff;}#sk-container-id-1 input.sk-hidden--visually {border: 0;clip: rect(1px 1px 1px 1px);clip: rect(1px, 1px, 1px, 1px);height: 1px;margin: -1px;overflow: hidden;padding: 0;position: absolute;width: 1px;}#sk-container-id-1 div.sk-estimator {font-family: monospace;background-color: #f0f8ff;border: 1px dotted black;border-radius: 0.25em;box-sizing: border-box;margin-bottom: 0.5em;}#sk-container-id-1 div.sk-estimator:hover {background-color: #d4ebff;}#sk-container-id-1 div.sk-parallel-item::after {content: \"\";width: 100%;border-bottom: 1px solid gray;flex-grow: 1;}#sk-container-id-1 div.sk-label:hover label.sk-toggleable__label {background-color: #d4ebff;}#sk-container-id-1 div.sk-serial::before {content: \"\";position: absolute;border-left: 1px solid gray;box-sizing: border-box;top: 0;bottom: 0;left: 50%;z-index: 0;}#sk-container-id-1 div.sk-serial {display: flex;flex-direction: column;align-items: center;background-color: white;padding-right: 0.2em;padding-left: 0.2em;position: relative;}#sk-container-id-1 div.sk-item {position: relative;z-index: 1;}#sk-container-id-1 div.sk-parallel {display: flex;align-items: stretch;justify-content: center;background-color: white;position: relative;}#sk-container-id-1 div.sk-item::before, #sk-container-id-1 div.sk-parallel-item::before {content: \"\";position: absolute;border-left: 1px solid gray;box-sizing: border-box;top: 0;bottom: 0;left: 50%;z-index: -1;}#sk-container-id-1 div.sk-parallel-item {display: flex;flex-direction: column;z-index: 1;position: relative;background-color: white;}#sk-container-id-1 div.sk-parallel-item:first-child::after {align-self: flex-end;width: 50%;}#sk-container-id-1 div.sk-parallel-item:last-child::after {align-self: flex-start;width: 50%;}#sk-container-id-1 div.sk-parallel-item:only-child::after {width: 0;}#sk-container-id-1 div.sk-dashed-wrapped {border: 1px dashed gray;margin: 0 0.4em 0.5em 0.4em;box-sizing: border-box;padding-bottom: 0.4em;background-color: white;}#sk-container-id-1 div.sk-label label {font-family: monospace;font-weight: bold;display: inline-block;line-height: 1.2em;}#sk-container-id-1 div.sk-label-container {text-align: center;}#sk-container-id-1 div.sk-container {/* jupyter's `normalize.less` sets `[hidden] { display: none; }` but bootstrap.min.css set `[hidden] { display: none !important; }` so we also need the `!important` here to be able to override the default hidden behavior on the sphinx rendered scikit-learn.org. See: https://github.com/scikit-learn/scikit-learn/issues/21755 */display: inline-block !important;position: relative;}#sk-container-id-1 div.sk-text-repr-fallback {display: none;}</style><div id=\"sk-container-id-1\" class=\"sk-top-container\"><div class=\"sk-text-repr-fallback\"><pre>RandomForestClassifier(max_features=6, n_estimators=51)</pre><b>In a Jupyter environment, please rerun this cell to show the HTML representation or trust the notebook. <br />On GitHub, the HTML representation is unable to render, please try loading this page with nbviewer.org.</b></div><div class=\"sk-container\" hidden><div class=\"sk-item\"><div class=\"sk-estimator sk-toggleable\"><input class=\"sk-toggleable__control sk-hidden--visually\" id=\"sk-estimator-id-1\" type=\"checkbox\" checked><label for=\"sk-estimator-id-1\" class=\"sk-toggleable__label sk-toggleable__label-arrow\">RandomForestClassifier</label><div class=\"sk-toggleable__content\"><pre>RandomForestClassifier(max_features=6, n_estimators=51)</pre></div></div></div></div></div>"
      ],
      "text/plain": [
       "RandomForestClassifier(max_features=6, n_estimators=51)"
      ]
     },
     "execution_count": 33,
     "metadata": {},
     "output_type": "execute_result"
    }
   ],
   "source": [
    "rfcl.fit(x_train,y_train)"
   ]
  },
  {
   "cell_type": "code",
   "execution_count": 34,
   "id": "81d97ebb",
   "metadata": {},
   "outputs": [
    {
     "name": "stderr",
     "output_type": "stream",
     "text": [
      "C:\\Users\\Student\\miniconda3\\envs\\earth-analytics-python\\lib\\site-packages\\sklearn\\base.py:450: UserWarning: X does not have valid feature names, but RandomForestClassifier was fitted with feature names\n",
      "  warnings.warn(\n"
     ]
    }
   ],
   "source": [
    "clf_res=rfcl.predict(dataset)"
   ]
  },
  {
   "cell_type": "code",
   "execution_count": 35,
   "id": "e4c89ff5",
   "metadata": {},
   "outputs": [],
   "source": [
    "res=clf_res.reshape((r,c))"
   ]
  },
  {
   "cell_type": "code",
   "execution_count": 36,
   "id": "bf91940c",
   "metadata": {},
   "outputs": [],
   "source": [
    "drv=gdal.GetDriverByName(\"GTiff\")\n",
    "drv.Register()\n",
    "clf_pal=drv.Create(out_ras,c,r,bands=1,eType=gdal.GDT_Int32)\n",
    "clf_pal.SetGeoTransform(geotransform)\n",
    "clf_pal.SetProjection(proj)\n",
    "clf_pal.GetRasterBand(1).WriteArray(res)\n",
    "clf_pal.FlushCache()\n",
    "clf_pal=None \n",
    "# THIS STEP IS"
   ]
  },
  {
   "cell_type": "code",
   "execution_count": 37,
   "id": "1ef38850",
   "metadata": {},
   "outputs": [],
   "source": [
    "new_clf_res=rfcl.predict(x_test)"
   ]
  },
  {
   "cell_type": "code",
   "execution_count": 38,
   "id": "1197b631",
   "metadata": {},
   "outputs": [
    {
     "data": {
      "text/plain": [
       "array([3, 2, 2, 1, 0, 5, 2, 4, 3, 3, 5, 3, 5, 3, 3, 2, 0, 4, 0, 0, 2, 1,\n",
       "       3, 4, 2, 4, 4, 4, 1, 3, 3, 1, 4, 4, 3, 2, 4, 4, 3, 5, 3, 0, 4, 2,\n",
       "       2, 4, 3, 3, 3, 2, 3, 0, 1, 0, 0, 4, 5, 0, 4, 3, 5, 4, 5, 2, 1, 0,\n",
       "       2, 5, 1, 5, 4, 2, 4, 4, 3, 5, 4, 3, 1, 0, 3, 3, 4, 0, 2, 5, 4, 0,\n",
       "       2, 1, 5, 2, 4, 2, 0, 3, 0, 4, 0, 0, 5, 5, 4, 5, 5, 4, 4, 4, 2, 2,\n",
       "       3, 4, 4, 3, 1, 4, 5, 2, 4, 0, 2, 1, 5, 3, 4, 4, 4, 1, 0, 4, 4, 4,\n",
       "       3, 2, 0, 4, 5, 4, 0, 0, 5, 5, 0, 2, 5, 0, 4, 2, 0, 1, 5, 1, 1, 5,\n",
       "       5, 4, 0, 0, 5, 5, 1, 0, 4, 4, 5, 3, 3, 4, 0, 1, 5, 3, 3, 3, 4, 4,\n",
       "       5, 3, 4, 2, 4, 4, 0, 1, 2, 3, 0, 4, 0, 2, 3, 2, 5, 0, 0, 0, 3, 3,\n",
       "       2, 4, 2, 0, 1, 2, 4, 0, 1, 0, 5, 3, 4, 4, 5, 3, 4, 2, 4, 5, 2, 2,\n",
       "       3, 0, 2, 3, 0, 0, 4, 5, 4, 4, 5, 4, 3, 5, 5, 2, 3, 5, 0, 3, 4, 5,\n",
       "       0, 1, 5, 4, 3, 2, 0, 0, 4, 3, 3, 3, 0, 4, 2, 5, 5, 2, 3, 0, 2, 3,\n",
       "       2, 5, 2, 0, 5, 2, 3, 5, 5, 4, 0, 3, 3, 3, 4, 3, 4, 0, 0, 5, 5, 4,\n",
       "       4, 3, 2, 4, 4, 2, 2, 4, 3, 2, 0, 3, 5, 0, 4, 5, 2, 0, 4, 0, 5, 1,\n",
       "       4, 5, 5, 2, 0, 4, 4, 4, 5, 4, 5, 1, 0, 2, 0, 4, 4, 5, 1, 5, 3, 3,\n",
       "       0, 3, 2, 5, 1])"
      ]
     },
     "execution_count": 38,
     "metadata": {},
     "output_type": "execute_result"
    }
   ],
   "source": [
    "new_clf_res"
   ]
  },
  {
   "cell_type": "code",
   "execution_count": 39,
   "id": "a2b7e010",
   "metadata": {},
   "outputs": [
    {
     "data": {
      "text/plain": [
       "0"
      ]
     },
     "execution_count": 39,
     "metadata": {},
     "output_type": "execute_result"
    }
   ],
   "source": [
    "min(df['Number_Name'])"
   ]
  },
  {
   "cell_type": "code",
   "execution_count": 40,
   "id": "df6d3def",
   "metadata": {},
   "outputs": [],
   "source": [
    "from sklearn.metrics import ConfusionMatrixDisplay,confusion_matrix"
   ]
  },
  {
   "cell_type": "code",
   "execution_count": 41,
   "id": "fb035355",
   "metadata": {},
   "outputs": [],
   "source": [
    "cf=confusion_matrix(y_test,new_clf_res)"
   ]
  },
  {
   "cell_type": "code",
   "execution_count": 42,
   "id": "0342ed7a",
   "metadata": {},
   "outputs": [
    {
     "name": "stdout",
     "output_type": "stream",
     "text": [
      "              precision    recall  f1-score   support\n",
      "\n",
      "           0       0.95      0.86      0.90        65\n",
      "           1       0.72      0.82      0.77        22\n",
      "           2       0.82      0.93      0.87        45\n",
      "           3       0.88      0.90      0.89        59\n",
      "           4       0.96      0.96      0.96        81\n",
      "           5       1.00      0.94      0.97        63\n",
      "\n",
      "    accuracy                           0.91       335\n",
      "   macro avg       0.89      0.90      0.89       335\n",
      "weighted avg       0.92      0.91      0.91       335\n",
      "\n"
     ]
    }
   ],
   "source": [
    "from sklearn.metrics import classification_report\n",
    "print(classification_report(y_test,new_clf_res))"
   ]
  },
  {
   "cell_type": "code",
   "execution_count": 43,
   "id": "da836970",
   "metadata": {},
   "outputs": [],
   "source": [
    "disp = ConfusionMatrixDisplay(confusion_matrix=cf,\n",
    "                               display_labels=['band1','band2','band3','band4','band5','band6'])"
   ]
  },
  {
   "cell_type": "code",
   "execution_count": 44,
   "id": "80e8fc59",
   "metadata": {},
   "outputs": [
    {
     "data": {
      "text/plain": [
       "<sklearn.metrics._plot.confusion_matrix.ConfusionMatrixDisplay at 0x1aafd643a90>"
      ]
     },
     "execution_count": 44,
     "metadata": {},
     "output_type": "execute_result"
    },
    {
     "data": {
      "image/png": "[encoded data removed]",
      "text/plain": [
       "<Figure size 432x288 with 2 Axes>"
      ]
     },
     "metadata": {
      "needs_background": "light"
     },
     "output_type": "display_data"
    }
   ],
   "source": [
    "disp.plot()"
   ]
  },
  {
   "cell_type": "code",
   "execution_count": 45,
   "id": "27b9ce85",
   "metadata": {},
   "outputs": [],
   "source": [
    "from sklearn import svm\n",
    "clfsvc = svm.SVC()\n",
    "clfsvc.fit(x_train,y_train)\n",
    "svc_clf_res=clfsvc.predict(x_test)"
   ]
  },
  {
   "cell_type": "code",
   "execution_count": 46,
   "id": "7b3656c2",
   "metadata": {},
   "outputs": [
    {
     "name": "stdout",
     "output_type": "stream",
     "text": [
      "              precision    recall  f1-score   support\n",
      "\n",
      "           0       0.73      0.94      0.82        65\n",
      "           1       0.29      0.09      0.14        22\n",
      "           2       0.65      0.93      0.76        45\n",
      "           3       0.90      0.75      0.81        59\n",
      "           4       0.85      0.86      0.86        81\n",
      "           5       1.00      0.78      0.88        63\n",
      "\n",
      "    accuracy                           0.80       335\n",
      "   macro avg       0.74      0.73      0.71       335\n",
      "weighted avg       0.80      0.80      0.79       335\n",
      "\n"
     ]
    }
   ],
   "source": [
    "print(classification_report(y_test,svc_clf_res))"
   ]
  },
  {
   "cell_type": "code",
   "execution_count": 47,
   "id": "f3331764",
   "metadata": {},
   "outputs": [],
   "source": [
    "svccf=confusion_matrix(y_test,svc_clf_res)\n",
    "dsp = ConfusionMatrixDisplay(confusion_matrix=svccf,\n",
    "                               display_labels=['band1','band2','band3','band4','band5','band6'])"
   ]
  },
  {
   "cell_type": "code",
   "execution_count": 48,
   "id": "8762f62f",
   "metadata": {},
   "outputs": [
    {
     "data": {
      "text/plain": [
       "<sklearn.metrics._plot.confusion_matrix.ConfusionMatrixDisplay at 0x1aa840bf0d0>"
      ]
     },
     "execution_count": 48,
     "metadata": {},
     "output_type": "execute_result"
    },
    {
     "data": {
      "image/png": "[encoded data removed]",
      "text/plain": [
       "<Figure size 432x288 with 2 Axes>"
      ]
     },
     "metadata": {
      "needs_background": "light"
     },
     "output_type": "display_data"
    }
   ],
   "source": [
    "dsp.plot()"
   ]
  },
  {
   "cell_type": "code",
   "execution_count": 49,
   "id": "8a6851bf",
   "metadata": {},
   "outputs": [
    {
     "name": "stdout",
     "output_type": "stream",
     "text": [
      "0.8940878912424913 0.753706203158091\n"
     ]
    }
   ],
   "source": [
    "from sklearn.metrics import cohen_kappa_score\n",
    "print(cohen_kappa_score(y_test, new_clf_res),cohen_kappa_score(y_test, svc_clf_res))"
   ]
  },
  {
   "cell_type": "code",
   "execution_count": 50,
   "id": "e6470720",
   "metadata": {},
   "outputs": [
    {
     "name": "stdout",
     "output_type": "stream",
     "text": [
      "0.8945678491128066 0.7589380084580221\n"
     ]
    }
   ],
   "source": [
    "from sklearn.metrics import matthews_corrcoef\n",
    "print(matthews_corrcoef(y_test, new_clf_res),matthews_corrcoef(y_test, svc_clf_res))"
   ]
  },
  {
   "cell_type": "code",
   "execution_count": 51,
   "id": "6caf650b",
   "metadata": {},
   "outputs": [],
   "source": [
    "from sklearn.metrics import accuracy_score\n",
    "acc=[]\n",
    "for i in range(1,300):\n",
    "    rfcl1=RandomForestClassifier(n_estimators=i)\n",
    "    rfcl1.fit(x_train,y_train)\n",
    "    y_pred=rfcl1.predict(x_test)\n",
    "    acc.append(accuracy_score(y_test, y_pred))"
   ]
  },
  {
   "cell_type": "code",
   "execution_count": 52,
   "id": "6f17d6f8",
   "metadata": {},
   "outputs": [
    {
     "data": {
      "text/plain": [
       "Text(0, 0.5, 'Testing Accuracy')"
      ]
     },
     "execution_count": 52,
     "metadata": {},
     "output_type": "execute_result"
    },
    {
     "data": {
      "image/png": "[encoded data removed]",
      "text/plain": [
       "<Figure size 432x288 with 1 Axes>"
      ]
     },
     "metadata": {
      "needs_background": "light"
     },
     "output_type": "display_data"
    }
   ],
   "source": [
    "plt.plot(range(1, 300), acc)\n",
    "plt.xlabel('Value of n_estimators for Random Forest Classifier')\n",
    "plt.ylabel('Testing Accuracy')\n"
   ]
  },
  {
   "cell_type": "code",
   "execution_count": 53,
   "id": "7c70496e",
   "metadata": {},
   "outputs": [
    {
     "data": {
      "text/plain": [
       "0.9402985074626866"
      ]
     },
     "execution_count": 53,
     "metadata": {},
     "output_type": "execute_result"
    }
   ],
   "source": [
    "max(acc)"
   ]
  },
  {
   "cell_type": "code",
   "execution_count": 54,
   "id": "17c87338",
   "metadata": {},
   "outputs": [
    {
     "data": {
      "text/plain": [
       "42"
      ]
     },
     "execution_count": 54,
     "metadata": {},
     "output_type": "execute_result"
    }
   ],
   "source": [
    "acc.index(max(acc))"
   ]
  },
  {
   "cell_type": "code",
   "execution_count": 55,
   "id": "eb7fcb21",
   "metadata": {},
   "outputs": [
    {
     "data": {
      "text/plain": [
       "0.9343283582089552"
      ]
     },
     "execution_count": 55,
     "metadata": {},
     "output_type": "execute_result"
    }
   ],
   "source": [
    "acc[14]"
   ]
  },
  {
   "cell_type": "code",
   "execution_count": 56,
   "id": "0645667c",
   "metadata": {},
   "outputs": [],
   "source": [
    "from sklearn.ensemble import GradientBoostingClassifier"
   ]
  },
  {
   "cell_type": "code",
   "execution_count": 57,
   "id": "1ca1d86b",
   "metadata": {},
   "outputs": [],
   "source": [
    "clfgb = GradientBoostingClassifier().fit(x_train, y_train)"
   ]
  },
  {
   "cell_type": "code",
   "execution_count": 58,
   "id": "c5249073",
   "metadata": {},
   "outputs": [
    {
     "data": {
      "text/plain": [
       "0.9402985074626866"
      ]
     },
     "execution_count": 58,
     "metadata": {},
     "output_type": "execute_result"
    }
   ],
   "source": [
    "clfgb.score(x_test, y_test)"
   ]
  },
  {
   "cell_type": "code",
   "execution_count": 59,
   "id": "95c5e3ec",
   "metadata": {},
   "outputs": [
    {
     "data": {
      "text/plain": [
       "0.9134328358208955"
      ]
     },
     "execution_count": 59,
     "metadata": {},
     "output_type": "execute_result"
    }
   ],
   "source": [
    "rfcl.score(x_test,y_test)"
   ]
  },
  {
   "cell_type": "code",
   "execution_count": 60,
   "id": "50bf4099",
   "metadata": {},
   "outputs": [
    {
     "data": {
      "text/plain": [
       "0.8"
      ]
     },
     "execution_count": 60,
     "metadata": {},
     "output_type": "execute_result"
    }
   ],
   "source": [
    "clfsvc.score(x_test,y_test)"
   ]
  },
  {
   "cell_type": "code",
   "execution_count": 61,
   "id": "2d4d833c",
   "metadata": {},
   "outputs": [
    {
     "data": {
      "text/plain": [
       "array([4, 4, 4, ..., 1, 0, 2])"
      ]
     },
     "execution_count": 61,
     "metadata": {},
     "output_type": "execute_result"
    }
   ],
   "source": [
    "clf_res"
   ]
  },
  {
   "cell_type": "code",
   "execution_count": 62,
   "id": "db9a0786",
   "metadata": {},
   "outputs": [
    {
     "data": {
      "text/html": [
       "<div>\n",
       "<style scoped>\n",
       "    .dataframe tbody tr th:only-of-type {\n",
       "        vertical-align: middle;\n",
       "    }\n",
       "\n",
       "    .dataframe tbody tr th {\n",
       "        vertical-align: top;\n",
       "    }\n",
       "\n",
       "    .dataframe thead th {\n",
       "        text-align: right;\n",
       "    }\n",
       "</style>\n",
       "<table border=\"1\" class=\"dataframe\">\n",
       "  <thead>\n",
       "    <tr style=\"text-align: right;\">\n",
       "      <th></th>\n",
       "      <th>0</th>\n",
       "      <th>1</th>\n",
       "      <th>2</th>\n",
       "      <th>3</th>\n",
       "      <th>4</th>\n",
       "      <th>5</th>\n",
       "    </tr>\n",
       "  </thead>\n",
       "  <tbody>\n",
       "    <tr>\n",
       "      <th>0</th>\n",
       "      <td>302.364929</td>\n",
       "      <td>537.864929</td>\n",
       "      <td>401.364929</td>\n",
       "      <td>2980.864990</td>\n",
       "      <td>1630.364868</td>\n",
       "      <td>826.364929</td>\n",
       "    </tr>\n",
       "    <tr>\n",
       "      <th>1</th>\n",
       "      <td>336.913452</td>\n",
       "      <td>596.413452</td>\n",
       "      <td>493.913452</td>\n",
       "      <td>2714.413574</td>\n",
       "      <td>1711.913452</td>\n",
       "      <td>991.413452</td>\n",
       "    </tr>\n",
       "    <tr>\n",
       "      <th>2</th>\n",
       "      <td>348.931793</td>\n",
       "      <td>609.431763</td>\n",
       "      <td>528.431763</td>\n",
       "      <td>2471.431885</td>\n",
       "      <td>1623.931763</td>\n",
       "      <td>986.931763</td>\n",
       "    </tr>\n",
       "    <tr>\n",
       "      <th>3</th>\n",
       "      <td>291.872223</td>\n",
       "      <td>535.872253</td>\n",
       "      <td>416.372223</td>\n",
       "      <td>2749.872314</td>\n",
       "      <td>1429.372192</td>\n",
       "      <td>725.872253</td>\n",
       "    </tr>\n",
       "    <tr>\n",
       "      <th>4</th>\n",
       "      <td>306.911499</td>\n",
       "      <td>568.911499</td>\n",
       "      <td>487.411499</td>\n",
       "      <td>2853.911377</td>\n",
       "      <td>1844.911499</td>\n",
       "      <td>980.911499</td>\n",
       "    </tr>\n",
       "    <tr>\n",
       "      <th>...</th>\n",
       "      <td>...</td>\n",
       "      <td>...</td>\n",
       "      <td>...</td>\n",
       "      <td>...</td>\n",
       "      <td>...</td>\n",
       "      <td>...</td>\n",
       "    </tr>\n",
       "    <tr>\n",
       "      <th>571323</th>\n",
       "      <td>288.374847</td>\n",
       "      <td>563.374878</td>\n",
       "      <td>438.874847</td>\n",
       "      <td>2665.874756</td>\n",
       "      <td>1233.874878</td>\n",
       "      <td>542.874878</td>\n",
       "    </tr>\n",
       "    <tr>\n",
       "      <th>571324</th>\n",
       "      <td>381.396301</td>\n",
       "      <td>636.396301</td>\n",
       "      <td>519.896301</td>\n",
       "      <td>2839.396240</td>\n",
       "      <td>1493.396362</td>\n",
       "      <td>771.396301</td>\n",
       "    </tr>\n",
       "    <tr>\n",
       "      <th>571325</th>\n",
       "      <td>471.444061</td>\n",
       "      <td>706.444092</td>\n",
       "      <td>646.944092</td>\n",
       "      <td>2856.444092</td>\n",
       "      <td>2015.944092</td>\n",
       "      <td>1217.444092</td>\n",
       "    </tr>\n",
       "    <tr>\n",
       "      <th>571326</th>\n",
       "      <td>539.462402</td>\n",
       "      <td>758.462402</td>\n",
       "      <td>734.462402</td>\n",
       "      <td>2948.462402</td>\n",
       "      <td>2313.462402</td>\n",
       "      <td>1422.962402</td>\n",
       "    </tr>\n",
       "    <tr>\n",
       "      <th>571327</th>\n",
       "      <td>500.456909</td>\n",
       "      <td>723.456909</td>\n",
       "      <td>694.956909</td>\n",
       "      <td>2957.456787</td>\n",
       "      <td>2272.956787</td>\n",
       "      <td>1334.956909</td>\n",
       "    </tr>\n",
       "  </tbody>\n",
       "</table>\n",
       "<p>571328 rows × 6 columns</p>\n",
       "</div>"
      ],
      "text/plain": [
       "                 0           1           2            3            4  \\\n",
       "0       302.364929  537.864929  401.364929  2980.864990  1630.364868   \n",
       "1       336.913452  596.413452  493.913452  2714.413574  1711.913452   \n",
       "2       348.931793  609.431763  528.431763  2471.431885  1623.931763   \n",
       "3       291.872223  535.872253  416.372223  2749.872314  1429.372192   \n",
       "4       306.911499  568.911499  487.411499  2853.911377  1844.911499   \n",
       "...            ...         ...         ...          ...          ...   \n",
       "571323  288.374847  563.374878  438.874847  2665.874756  1233.874878   \n",
       "571324  381.396301  636.396301  519.896301  2839.396240  1493.396362   \n",
       "571325  471.444061  706.444092  646.944092  2856.444092  2015.944092   \n",
       "571326  539.462402  758.462402  734.462402  2948.462402  2313.462402   \n",
       "571327  500.456909  723.456909  694.956909  2957.456787  2272.956787   \n",
       "\n",
       "                  5  \n",
       "0        826.364929  \n",
       "1        991.413452  \n",
       "2        986.931763  \n",
       "3        725.872253  \n",
       "4        980.911499  \n",
       "...             ...  \n",
       "571323   542.874878  \n",
       "571324   771.396301  \n",
       "571325  1217.444092  \n",
       "571326  1422.962402  \n",
       "571327  1334.956909  \n",
       "\n",
       "[571328 rows x 6 columns]"
      ]
     },
     "execution_count": 62,
     "metadata": {},
     "output_type": "execute_result"
    }
   ],
   "source": [
    "dataset"
   ]
  },
  {
   "cell_type": "code",
   "execution_count": 63,
   "id": "af0b18cf",
   "metadata": {},
   "outputs": [
    {
     "data": {
      "text/html": [
       "<div>\n",
       "<style scoped>\n",
       "    .dataframe tbody tr th:only-of-type {\n",
       "        vertical-align: middle;\n",
       "    }\n",
       "\n",
       "    .dataframe tbody tr th {\n",
       "        vertical-align: top;\n",
       "    }\n",
       "\n",
       "    .dataframe thead th {\n",
       "        text-align: right;\n",
       "    }\n",
       "</style>\n",
       "<table border=\"1\" class=\"dataframe\">\n",
       "  <thead>\n",
       "    <tr style=\"text-align: right;\">\n",
       "      <th></th>\n",
       "      <th>0</th>\n",
       "      <th>1</th>\n",
       "      <th>2</th>\n",
       "      <th>3</th>\n",
       "      <th>4</th>\n",
       "      <th>5</th>\n",
       "      <th>class</th>\n",
       "    </tr>\n",
       "  </thead>\n",
       "  <tbody>\n",
       "    <tr>\n",
       "      <th>0</th>\n",
       "      <td>302.364929</td>\n",
       "      <td>537.864929</td>\n",
       "      <td>401.364929</td>\n",
       "      <td>2980.864990</td>\n",
       "      <td>1630.364868</td>\n",
       "      <td>826.364929</td>\n",
       "      <td>4</td>\n",
       "    </tr>\n",
       "    <tr>\n",
       "      <th>1</th>\n",
       "      <td>336.913452</td>\n",
       "      <td>596.413452</td>\n",
       "      <td>493.913452</td>\n",
       "      <td>2714.413574</td>\n",
       "      <td>1711.913452</td>\n",
       "      <td>991.413452</td>\n",
       "      <td>4</td>\n",
       "    </tr>\n",
       "    <tr>\n",
       "      <th>2</th>\n",
       "      <td>348.931793</td>\n",
       "      <td>609.431763</td>\n",
       "      <td>528.431763</td>\n",
       "      <td>2471.431885</td>\n",
       "      <td>1623.931763</td>\n",
       "      <td>986.931763</td>\n",
       "      <td>4</td>\n",
       "    </tr>\n",
       "    <tr>\n",
       "      <th>3</th>\n",
       "      <td>291.872223</td>\n",
       "      <td>535.872253</td>\n",
       "      <td>416.372223</td>\n",
       "      <td>2749.872314</td>\n",
       "      <td>1429.372192</td>\n",
       "      <td>725.872253</td>\n",
       "      <td>4</td>\n",
       "    </tr>\n",
       "    <tr>\n",
       "      <th>4</th>\n",
       "      <td>306.911499</td>\n",
       "      <td>568.911499</td>\n",
       "      <td>487.411499</td>\n",
       "      <td>2853.911377</td>\n",
       "      <td>1844.911499</td>\n",
       "      <td>980.911499</td>\n",
       "      <td>4</td>\n",
       "    </tr>\n",
       "    <tr>\n",
       "      <th>...</th>\n",
       "      <td>...</td>\n",
       "      <td>...</td>\n",
       "      <td>...</td>\n",
       "      <td>...</td>\n",
       "      <td>...</td>\n",
       "      <td>...</td>\n",
       "      <td>...</td>\n",
       "    </tr>\n",
       "    <tr>\n",
       "      <th>571323</th>\n",
       "      <td>288.374847</td>\n",
       "      <td>563.374878</td>\n",
       "      <td>438.874847</td>\n",
       "      <td>2665.874756</td>\n",
       "      <td>1233.874878</td>\n",
       "      <td>542.874878</td>\n",
       "      <td>4</td>\n",
       "    </tr>\n",
       "    <tr>\n",
       "      <th>571324</th>\n",
       "      <td>381.396301</td>\n",
       "      <td>636.396301</td>\n",
       "      <td>519.896301</td>\n",
       "      <td>2839.396240</td>\n",
       "      <td>1493.396362</td>\n",
       "      <td>771.396301</td>\n",
       "      <td>4</td>\n",
       "    </tr>\n",
       "    <tr>\n",
       "      <th>571325</th>\n",
       "      <td>471.444061</td>\n",
       "      <td>706.444092</td>\n",
       "      <td>646.944092</td>\n",
       "      <td>2856.444092</td>\n",
       "      <td>2015.944092</td>\n",
       "      <td>1217.444092</td>\n",
       "      <td>1</td>\n",
       "    </tr>\n",
       "    <tr>\n",
       "      <th>571326</th>\n",
       "      <td>539.462402</td>\n",
       "      <td>758.462402</td>\n",
       "      <td>734.462402</td>\n",
       "      <td>2948.462402</td>\n",
       "      <td>2313.462402</td>\n",
       "      <td>1422.962402</td>\n",
       "      <td>0</td>\n",
       "    </tr>\n",
       "    <tr>\n",
       "      <th>571327</th>\n",
       "      <td>500.456909</td>\n",
       "      <td>723.456909</td>\n",
       "      <td>694.956909</td>\n",
       "      <td>2957.456787</td>\n",
       "      <td>2272.956787</td>\n",
       "      <td>1334.956909</td>\n",
       "      <td>2</td>\n",
       "    </tr>\n",
       "  </tbody>\n",
       "</table>\n",
       "<p>571328 rows × 7 columns</p>\n",
       "</div>"
      ],
      "text/plain": [
       "                 0           1           2            3            4  \\\n",
       "0       302.364929  537.864929  401.364929  2980.864990  1630.364868   \n",
       "1       336.913452  596.413452  493.913452  2714.413574  1711.913452   \n",
       "2       348.931793  609.431763  528.431763  2471.431885  1623.931763   \n",
       "3       291.872223  535.872253  416.372223  2749.872314  1429.372192   \n",
       "4       306.911499  568.911499  487.411499  2853.911377  1844.911499   \n",
       "...            ...         ...         ...          ...          ...   \n",
       "571323  288.374847  563.374878  438.874847  2665.874756  1233.874878   \n",
       "571324  381.396301  636.396301  519.896301  2839.396240  1493.396362   \n",
       "571325  471.444061  706.444092  646.944092  2856.444092  2015.944092   \n",
       "571326  539.462402  758.462402  734.462402  2948.462402  2313.462402   \n",
       "571327  500.456909  723.456909  694.956909  2957.456787  2272.956787   \n",
       "\n",
       "                  5  class  \n",
       "0        826.364929      4  \n",
       "1        991.413452      4  \n",
       "2        986.931763      4  \n",
       "3        725.872253      4  \n",
       "4        980.911499      4  \n",
       "...             ...    ...  \n",
       "571323   542.874878      4  \n",
       "571324   771.396301      4  \n",
       "571325  1217.444092      1  \n",
       "571326  1422.962402      0  \n",
       "571327  1334.956909      2  \n",
       "\n",
       "[571328 rows x 7 columns]"
      ]
     },
     "execution_count": 63,
     "metadata": {},
     "output_type": "execute_result"
    }
   ],
   "source": [
    "dataset['class']=clf_res\n",
    "dataset"
   ]
  },
  {
   "cell_type": "code",
   "execution_count": 64,
   "id": "21cb0870",
   "metadata": {},
   "outputs": [],
   "source": [
    "dataset.rename(columns = {'0':'BAND1','1':'BAND2','2':'BAND3','3':'BAND4','4':'BAND5','5':'BAND6'}, inplace = True)"
   ]
  },
  {
   "cell_type": "code",
   "execution_count": 65,
   "id": "1cf0ced2",
   "metadata": {},
   "outputs": [
    {
     "data": {
      "text/html": [
       "<div>\n",
       "<style scoped>\n",
       "    .dataframe tbody tr th:only-of-type {\n",
       "        vertical-align: middle;\n",
       "    }\n",
       "\n",
       "    .dataframe tbody tr th {\n",
       "        vertical-align: top;\n",
       "    }\n",
       "\n",
       "    .dataframe thead th {\n",
       "        text-align: right;\n",
       "    }\n",
       "</style>\n",
       "<table border=\"1\" class=\"dataframe\">\n",
       "  <thead>\n",
       "    <tr style=\"text-align: right;\">\n",
       "      <th></th>\n",
       "      <th>0</th>\n",
       "      <th>1</th>\n",
       "      <th>2</th>\n",
       "      <th>3</th>\n",
       "      <th>4</th>\n",
       "      <th>5</th>\n",
       "      <th>class</th>\n",
       "    </tr>\n",
       "  </thead>\n",
       "  <tbody>\n",
       "    <tr>\n",
       "      <th>0</th>\n",
       "      <td>302.364929</td>\n",
       "      <td>537.864929</td>\n",
       "      <td>401.364929</td>\n",
       "      <td>2980.864990</td>\n",
       "      <td>1630.364868</td>\n",
       "      <td>826.364929</td>\n",
       "      <td>4</td>\n",
       "    </tr>\n",
       "    <tr>\n",
       "      <th>1</th>\n",
       "      <td>336.913452</td>\n",
       "      <td>596.413452</td>\n",
       "      <td>493.913452</td>\n",
       "      <td>2714.413574</td>\n",
       "      <td>1711.913452</td>\n",
       "      <td>991.413452</td>\n",
       "      <td>4</td>\n",
       "    </tr>\n",
       "    <tr>\n",
       "      <th>2</th>\n",
       "      <td>348.931793</td>\n",
       "      <td>609.431763</td>\n",
       "      <td>528.431763</td>\n",
       "      <td>2471.431885</td>\n",
       "      <td>1623.931763</td>\n",
       "      <td>986.931763</td>\n",
       "      <td>4</td>\n",
       "    </tr>\n",
       "    <tr>\n",
       "      <th>3</th>\n",
       "      <td>291.872223</td>\n",
       "      <td>535.872253</td>\n",
       "      <td>416.372223</td>\n",
       "      <td>2749.872314</td>\n",
       "      <td>1429.372192</td>\n",
       "      <td>725.872253</td>\n",
       "      <td>4</td>\n",
       "    </tr>\n",
       "    <tr>\n",
       "      <th>4</th>\n",
       "      <td>306.911499</td>\n",
       "      <td>568.911499</td>\n",
       "      <td>487.411499</td>\n",
       "      <td>2853.911377</td>\n",
       "      <td>1844.911499</td>\n",
       "      <td>980.911499</td>\n",
       "      <td>4</td>\n",
       "    </tr>\n",
       "    <tr>\n",
       "      <th>...</th>\n",
       "      <td>...</td>\n",
       "      <td>...</td>\n",
       "      <td>...</td>\n",
       "      <td>...</td>\n",
       "      <td>...</td>\n",
       "      <td>...</td>\n",
       "      <td>...</td>\n",
       "    </tr>\n",
       "    <tr>\n",
       "      <th>571323</th>\n",
       "      <td>288.374847</td>\n",
       "      <td>563.374878</td>\n",
       "      <td>438.874847</td>\n",
       "      <td>2665.874756</td>\n",
       "      <td>1233.874878</td>\n",
       "      <td>542.874878</td>\n",
       "      <td>4</td>\n",
       "    </tr>\n",
       "    <tr>\n",
       "      <th>571324</th>\n",
       "      <td>381.396301</td>\n",
       "      <td>636.396301</td>\n",
       "      <td>519.896301</td>\n",
       "      <td>2839.396240</td>\n",
       "      <td>1493.396362</td>\n",
       "      <td>771.396301</td>\n",
       "      <td>4</td>\n",
       "    </tr>\n",
       "    <tr>\n",
       "      <th>571325</th>\n",
       "      <td>471.444061</td>\n",
       "      <td>706.444092</td>\n",
       "      <td>646.944092</td>\n",
       "      <td>2856.444092</td>\n",
       "      <td>2015.944092</td>\n",
       "      <td>1217.444092</td>\n",
       "      <td>1</td>\n",
       "    </tr>\n",
       "    <tr>\n",
       "      <th>571326</th>\n",
       "      <td>539.462402</td>\n",
       "      <td>758.462402</td>\n",
       "      <td>734.462402</td>\n",
       "      <td>2948.462402</td>\n",
       "      <td>2313.462402</td>\n",
       "      <td>1422.962402</td>\n",
       "      <td>0</td>\n",
       "    </tr>\n",
       "    <tr>\n",
       "      <th>571327</th>\n",
       "      <td>500.456909</td>\n",
       "      <td>723.456909</td>\n",
       "      <td>694.956909</td>\n",
       "      <td>2957.456787</td>\n",
       "      <td>2272.956787</td>\n",
       "      <td>1334.956909</td>\n",
       "      <td>2</td>\n",
       "    </tr>\n",
       "  </tbody>\n",
       "</table>\n",
       "<p>571328 rows × 7 columns</p>\n",
       "</div>"
      ],
      "text/plain": [
       "                 0           1           2            3            4  \\\n",
       "0       302.364929  537.864929  401.364929  2980.864990  1630.364868   \n",
       "1       336.913452  596.413452  493.913452  2714.413574  1711.913452   \n",
       "2       348.931793  609.431763  528.431763  2471.431885  1623.931763   \n",
       "3       291.872223  535.872253  416.372223  2749.872314  1429.372192   \n",
       "4       306.911499  568.911499  487.411499  2853.911377  1844.911499   \n",
       "...            ...         ...         ...          ...          ...   \n",
       "571323  288.374847  563.374878  438.874847  2665.874756  1233.874878   \n",
       "571324  381.396301  636.396301  519.896301  2839.396240  1493.396362   \n",
       "571325  471.444061  706.444092  646.944092  2856.444092  2015.944092   \n",
       "571326  539.462402  758.462402  734.462402  2948.462402  2313.462402   \n",
       "571327  500.456909  723.456909  694.956909  2957.456787  2272.956787   \n",
       "\n",
       "                  5  class  \n",
       "0        826.364929      4  \n",
       "1        991.413452      4  \n",
       "2        986.931763      4  \n",
       "3        725.872253      4  \n",
       "4        980.911499      4  \n",
       "...             ...    ...  \n",
       "571323   542.874878      4  \n",
       "571324   771.396301      4  \n",
       "571325  1217.444092      1  \n",
       "571326  1422.962402      0  \n",
       "571327  1334.956909      2  \n",
       "\n",
       "[571328 rows x 7 columns]"
      ]
     },
     "execution_count": 65,
     "metadata": {},
     "output_type": "execute_result"
    }
   ],
   "source": [
    "dataset"
   ]
  },
  {
   "cell_type": "code",
   "execution_count": 66,
   "id": "d350beb3",
   "metadata": {},
   "outputs": [],
   "source": [
    "dataset.set_axis(['b1', 'b2', 'b3','b4','b5','b6','class'], axis='columns', inplace=True)"
   ]
  },
  {
   "cell_type": "code",
   "execution_count": 67,
   "id": "f6675f4c",
   "metadata": {},
   "outputs": [
    {
     "data": {
      "text/html": [
       "<div>\n",
       "<style scoped>\n",
       "    .dataframe tbody tr th:only-of-type {\n",
       "        vertical-align: middle;\n",
       "    }\n",
       "\n",
       "    .dataframe tbody tr th {\n",
       "        vertical-align: top;\n",
       "    }\n",
       "\n",
       "    .dataframe thead th {\n",
       "        text-align: right;\n",
       "    }\n",
       "</style>\n",
       "<table border=\"1\" class=\"dataframe\">\n",
       "  <thead>\n",
       "    <tr style=\"text-align: right;\">\n",
       "      <th></th>\n",
       "      <th>b1</th>\n",
       "      <th>b2</th>\n",
       "      <th>b3</th>\n",
       "      <th>b4</th>\n",
       "      <th>b5</th>\n",
       "      <th>b6</th>\n",
       "      <th>class</th>\n",
       "    </tr>\n",
       "  </thead>\n",
       "  <tbody>\n",
       "    <tr>\n",
       "      <th>0</th>\n",
       "      <td>302.364929</td>\n",
       "      <td>537.864929</td>\n",
       "      <td>401.364929</td>\n",
       "      <td>2980.864990</td>\n",
       "      <td>1630.364868</td>\n",
       "      <td>826.364929</td>\n",
       "      <td>4</td>\n",
       "    </tr>\n",
       "    <tr>\n",
       "      <th>1</th>\n",
       "      <td>336.913452</td>\n",
       "      <td>596.413452</td>\n",
       "      <td>493.913452</td>\n",
       "      <td>2714.413574</td>\n",
       "      <td>1711.913452</td>\n",
       "      <td>991.413452</td>\n",
       "      <td>4</td>\n",
       "    </tr>\n",
       "    <tr>\n",
       "      <th>2</th>\n",
       "      <td>348.931793</td>\n",
       "      <td>609.431763</td>\n",
       "      <td>528.431763</td>\n",
       "      <td>2471.431885</td>\n",
       "      <td>1623.931763</td>\n",
       "      <td>986.931763</td>\n",
       "      <td>4</td>\n",
       "    </tr>\n",
       "    <tr>\n",
       "      <th>3</th>\n",
       "      <td>291.872223</td>\n",
       "      <td>535.872253</td>\n",
       "      <td>416.372223</td>\n",
       "      <td>2749.872314</td>\n",
       "      <td>1429.372192</td>\n",
       "      <td>725.872253</td>\n",
       "      <td>4</td>\n",
       "    </tr>\n",
       "    <tr>\n",
       "      <th>4</th>\n",
       "      <td>306.911499</td>\n",
       "      <td>568.911499</td>\n",
       "      <td>487.411499</td>\n",
       "      <td>2853.911377</td>\n",
       "      <td>1844.911499</td>\n",
       "      <td>980.911499</td>\n",
       "      <td>4</td>\n",
       "    </tr>\n",
       "  </tbody>\n",
       "</table>\n",
       "</div>"
      ],
      "text/plain": [
       "           b1          b2          b3           b4           b5          b6  \\\n",
       "0  302.364929  537.864929  401.364929  2980.864990  1630.364868  826.364929   \n",
       "1  336.913452  596.413452  493.913452  2714.413574  1711.913452  991.413452   \n",
       "2  348.931793  609.431763  528.431763  2471.431885  1623.931763  986.931763   \n",
       "3  291.872223  535.872253  416.372223  2749.872314  1429.372192  725.872253   \n",
       "4  306.911499  568.911499  487.411499  2853.911377  1844.911499  980.911499   \n",
       "\n",
       "   class  \n",
       "0      4  \n",
       "1      4  \n",
       "2      4  \n",
       "3      4  \n",
       "4      4  "
      ]
     },
     "execution_count": 67,
     "metadata": {},
     "output_type": "execute_result"
    }
   ],
   "source": [
    "dataset.head()"
   ]
  },
  {
   "cell_type": "code",
   "execution_count": 68,
   "id": "600d837b",
   "metadata": {},
   "outputs": [
    {
     "data": {
      "text/plain": [
       "array(['Ag', 'Br', 'Rc', 'St', 'Vg', 'Wt'], dtype=object)"
      ]
     },
     "execution_count": 68,
     "metadata": {},
     "output_type": "execute_result"
    }
   ],
   "source": [
    "(le.classes_)"
   ]
  },
  {
   "cell_type": "code",
   "execution_count": 69,
   "id": "a173f701",
   "metadata": {},
   "outputs": [
    {
     "data": {
      "text/html": [
       "<div>\n",
       "<style scoped>\n",
       "    .dataframe tbody tr th:only-of-type {\n",
       "        vertical-align: middle;\n",
       "    }\n",
       "\n",
       "    .dataframe tbody tr th {\n",
       "        vertical-align: top;\n",
       "    }\n",
       "\n",
       "    .dataframe thead th {\n",
       "        text-align: right;\n",
       "    }\n",
       "</style>\n",
       "<table border=\"1\" class=\"dataframe\">\n",
       "  <thead>\n",
       "    <tr style=\"text-align: right;\">\n",
       "      <th></th>\n",
       "      <th>b1</th>\n",
       "      <th>b2</th>\n",
       "      <th>b3</th>\n",
       "      <th>b4</th>\n",
       "      <th>b5</th>\n",
       "      <th>b6</th>\n",
       "      <th>class</th>\n",
       "      <th>Name</th>\n",
       "    </tr>\n",
       "  </thead>\n",
       "  <tbody>\n",
       "    <tr>\n",
       "      <th>0</th>\n",
       "      <td>302.364929</td>\n",
       "      <td>537.864929</td>\n",
       "      <td>401.364929</td>\n",
       "      <td>2980.864990</td>\n",
       "      <td>1630.364868</td>\n",
       "      <td>826.364929</td>\n",
       "      <td>4</td>\n",
       "      <td>None</td>\n",
       "    </tr>\n",
       "    <tr>\n",
       "      <th>1</th>\n",
       "      <td>336.913452</td>\n",
       "      <td>596.413452</td>\n",
       "      <td>493.913452</td>\n",
       "      <td>2714.413574</td>\n",
       "      <td>1711.913452</td>\n",
       "      <td>991.413452</td>\n",
       "      <td>4</td>\n",
       "      <td>None</td>\n",
       "    </tr>\n",
       "    <tr>\n",
       "      <th>2</th>\n",
       "      <td>348.931793</td>\n",
       "      <td>609.431763</td>\n",
       "      <td>528.431763</td>\n",
       "      <td>2471.431885</td>\n",
       "      <td>1623.931763</td>\n",
       "      <td>986.931763</td>\n",
       "      <td>4</td>\n",
       "      <td>None</td>\n",
       "    </tr>\n",
       "    <tr>\n",
       "      <th>3</th>\n",
       "      <td>291.872223</td>\n",
       "      <td>535.872253</td>\n",
       "      <td>416.372223</td>\n",
       "      <td>2749.872314</td>\n",
       "      <td>1429.372192</td>\n",
       "      <td>725.872253</td>\n",
       "      <td>4</td>\n",
       "      <td>None</td>\n",
       "    </tr>\n",
       "    <tr>\n",
       "      <th>4</th>\n",
       "      <td>306.911499</td>\n",
       "      <td>568.911499</td>\n",
       "      <td>487.411499</td>\n",
       "      <td>2853.911377</td>\n",
       "      <td>1844.911499</td>\n",
       "      <td>980.911499</td>\n",
       "      <td>4</td>\n",
       "      <td>None</td>\n",
       "    </tr>\n",
       "  </tbody>\n",
       "</table>\n",
       "</div>"
      ],
      "text/plain": [
       "           b1          b2          b3           b4           b5          b6  \\\n",
       "0  302.364929  537.864929  401.364929  2980.864990  1630.364868  826.364929   \n",
       "1  336.913452  596.413452  493.913452  2714.413574  1711.913452  991.413452   \n",
       "2  348.931793  609.431763  528.431763  2471.431885  1623.931763  986.931763   \n",
       "3  291.872223  535.872253  416.372223  2749.872314  1429.372192  725.872253   \n",
       "4  306.911499  568.911499  487.411499  2853.911377  1844.911499  980.911499   \n",
       "\n",
       "   class  Name  \n",
       "0      4  None  \n",
       "1      4  None  \n",
       "2      4  None  \n",
       "3      4  None  \n",
       "4      4  None  "
      ]
     },
     "execution_count": 69,
     "metadata": {},
     "output_type": "execute_result"
    }
   ],
   "source": [
    "dataset['Name']=None\n",
    "dataset.head()"
   ]
  },
  {
   "cell_type": "code",
   "execution_count": 70,
   "id": "27c89580",
   "metadata": {},
   "outputs": [],
   "source": [
    "dataset['Area(m2)']=None"
   ]
  },
  {
   "cell_type": "code",
   "execution_count": null,
   "id": "bab9af61",
   "metadata": {},
   "outputs": [],
   "source": []
  },
  {
   "cell_type": "code",
   "execution_count": 71,
   "id": "d9ee4177",
   "metadata": {},
   "outputs": [
    {
     "data": {
      "text/plain": [
       "{0: 150503, 1: 61500, 2: 50774, 3: 72490, 4: 194742, 5: 41319}"
      ]
     },
     "execution_count": 71,
     "metadata": {},
     "output_type": "execute_result"
    }
   ],
   "source": [
    "d=dataset['class'].value_counts()\n",
    "d=d.sort_index()\n",
    "d=d.to_dict()\n",
    "d"
   ]
  },
  {
   "cell_type": "code",
   "execution_count": null,
   "id": "84ec4fee",
   "metadata": {},
   "outputs": [],
   "source": []
  },
  {
   "cell_type": "code",
   "execution_count": 72,
   "id": "ad6f3650",
   "metadata": {},
   "outputs": [
    {
     "data": {
      "text/plain": [
       "{0: 150503, 1: 61500, 2: 50774, 3: 72490, 4: 194742, 5: 41319}"
      ]
     },
     "execution_count": 72,
     "metadata": {},
     "output_type": "execute_result"
    }
   ],
   "source": [
    "d"
   ]
  },
  {
   "cell_type": "code",
   "execution_count": null,
   "id": "6978f47e",
   "metadata": {},
   "outputs": [],
   "source": []
  },
  {
   "cell_type": "code",
   "execution_count": 73,
   "id": "7a27a1d0",
   "metadata": {},
   "outputs": [
    {
     "data": {
      "text/plain": [
       "[Text(0.5, 0, 'Class'),\n",
       " Text(0, 0.5, 'Pixel Count'),\n",
       " Text(0.5, 1.0, 'Class Wise Pixel Count')]"
      ]
     },
     "execution_count": 73,
     "metadata": {},
     "output_type": "execute_result"
    },
    {
     "data": {
      "image/png": "[encoded data removed]",
      "text/plain": [
       "<Figure size 432x288 with 1 Axes>"
      ]
     },
     "metadata": {
      "needs_background": "light"
     },
     "output_type": "display_data"
    }
   ],
   "source": [
    "import seaborn as sns\n",
    "df0 = pd.DataFrame(d.items())\n",
    "ax = sns.barplot(x=le.classes_, y=1, data=df0)\n",
    "ax.set(xlabel = 'Class', ylabel='Pixel Count', title='Class Wise Pixel Count')"
   ]
  },
  {
   "cell_type": "code",
   "execution_count": 74,
   "id": "5958cbaa",
   "metadata": {},
   "outputs": [
    {
     "name": "stderr",
     "output_type": "stream",
     "text": [
      "C:\\Users\\Student\\AppData\\Local\\Temp\\ipykernel_15516\\2539308796.py:3: SettingWithCopyWarning: \n",
      "A value is trying to be set on a copy of a slice from a DataFrame.\n",
      "Try using .loc[row_indexer,col_indexer] = value instead\n",
      "\n",
      "See the caveats in the documentation: https://pandas.pydata.org/pandas-docs/stable/user_guide/indexing.html#returning-a-view-versus-a-copy\n",
      "  df_0['Name']='Ag'\n",
      "C:\\Users\\Student\\AppData\\Local\\Temp\\ipykernel_15516\\2539308796.py:4: SettingWithCopyWarning: \n",
      "A value is trying to be set on a copy of a slice from a DataFrame.\n",
      "Try using .loc[row_indexer,col_indexer] = value instead\n",
      "\n",
      "See the caveats in the documentation: https://pandas.pydata.org/pandas-docs/stable/user_guide/indexing.html#returning-a-view-versus-a-copy\n",
      "  df_0['Area(m2)']=150880500\n",
      "C:\\Users\\Student\\AppData\\Local\\Temp\\ipykernel_15516\\2539308796.py:5: FutureWarning: The frame.append method is deprecated and will be removed from pandas in a future version. Use pandas.concat instead.\n",
      "  final_df=final_df.append(df_0)\n",
      "C:\\Users\\Student\\AppData\\Local\\Temp\\ipykernel_15516\\2539308796.py:7: SettingWithCopyWarning: \n",
      "A value is trying to be set on a copy of a slice from a DataFrame.\n",
      "Try using .loc[row_indexer,col_indexer] = value instead\n",
      "\n",
      "See the caveats in the documentation: https://pandas.pydata.org/pandas-docs/stable/user_guide/indexing.html#returning-a-view-versus-a-copy\n",
      "  df_1['Name']='Br'\n",
      "C:\\Users\\Student\\AppData\\Local\\Temp\\ipykernel_15516\\2539308796.py:8: SettingWithCopyWarning: \n",
      "A value is trying to be set on a copy of a slice from a DataFrame.\n",
      "Try using .loc[row_indexer,col_indexer] = value instead\n",
      "\n",
      "See the caveats in the documentation: https://pandas.pydata.org/pandas-docs/stable/user_guide/indexing.html#returning-a-view-versus-a-copy\n",
      "  df_1['Area(m2)']=55854900\n",
      "C:\\Users\\Student\\AppData\\Local\\Temp\\ipykernel_15516\\2539308796.py:9: FutureWarning: The frame.append method is deprecated and will be removed from pandas in a future version. Use pandas.concat instead.\n",
      "  final_df=final_df.append(df_1)\n",
      "C:\\Users\\Student\\AppData\\Local\\Temp\\ipykernel_15516\\2539308796.py:11: SettingWithCopyWarning: \n",
      "A value is trying to be set on a copy of a slice from a DataFrame.\n",
      "Try using .loc[row_indexer,col_indexer] = value instead\n",
      "\n",
      "See the caveats in the documentation: https://pandas.pydata.org/pandas-docs/stable/user_guide/indexing.html#returning-a-view-versus-a-copy\n",
      "  df_2['Name']='Rc'\n",
      "C:\\Users\\Student\\AppData\\Local\\Temp\\ipykernel_15516\\2539308796.py:12: SettingWithCopyWarning: \n",
      "A value is trying to be set on a copy of a slice from a DataFrame.\n",
      "Try using .loc[row_indexer,col_indexer] = value instead\n",
      "\n",
      "See the caveats in the documentation: https://pandas.pydata.org/pandas-docs/stable/user_guide/indexing.html#returning-a-view-versus-a-copy\n",
      "  df_2['Area(m2)']=44010900\n",
      "C:\\Users\\Student\\AppData\\Local\\Temp\\ipykernel_15516\\2539308796.py:13: FutureWarning: The frame.append method is deprecated and will be removed from pandas in a future version. Use pandas.concat instead.\n",
      "  final_df=final_df.append(df_2)\n",
      "C:\\Users\\Student\\AppData\\Local\\Temp\\ipykernel_15516\\2539308796.py:15: SettingWithCopyWarning: \n",
      "A value is trying to be set on a copy of a slice from a DataFrame.\n",
      "Try using .loc[row_indexer,col_indexer] = value instead\n",
      "\n",
      "See the caveats in the documentation: https://pandas.pydata.org/pandas-docs/stable/user_guide/indexing.html#returning-a-view-versus-a-copy\n",
      "  df_3['Name']='St'\n",
      "C:\\Users\\Student\\AppData\\Local\\Temp\\ipykernel_15516\\2539308796.py:16: SettingWithCopyWarning: \n",
      "A value is trying to be set on a copy of a slice from a DataFrame.\n",
      "Try using .loc[row_indexer,col_indexer] = value instead\n",
      "\n",
      "See the caveats in the documentation: https://pandas.pydata.org/pandas-docs/stable/user_guide/indexing.html#returning-a-view-versus-a-copy\n",
      "  df_3['Area(m2)']=52658100\n",
      "C:\\Users\\Student\\AppData\\Local\\Temp\\ipykernel_15516\\2539308796.py:17: FutureWarning: The frame.append method is deprecated and will be removed from pandas in a future version. Use pandas.concat instead.\n",
      "  final_df=final_df.append(df_3)\n",
      "C:\\Users\\Student\\AppData\\Local\\Temp\\ipykernel_15516\\2539308796.py:19: SettingWithCopyWarning: \n",
      "A value is trying to be set on a copy of a slice from a DataFrame.\n",
      "Try using .loc[row_indexer,col_indexer] = value instead\n",
      "\n",
      "See the caveats in the documentation: https://pandas.pydata.org/pandas-docs/stable/user_guide/indexing.html#returning-a-view-versus-a-copy\n",
      "  df_4['Name']='Vg'\n",
      "C:\\Users\\Student\\AppData\\Local\\Temp\\ipykernel_15516\\2539308796.py:20: SettingWithCopyWarning: \n",
      "A value is trying to be set on a copy of a slice from a DataFrame.\n",
      "Try using .loc[row_indexer,col_indexer] = value instead\n",
      "\n",
      "See the caveats in the documentation: https://pandas.pydata.org/pandas-docs/stable/user_guide/indexing.html#returning-a-view-versus-a-copy\n",
      "  df_4['Area(m2)']=175909500\n",
      "C:\\Users\\Student\\AppData\\Local\\Temp\\ipykernel_15516\\2539308796.py:21: FutureWarning: The frame.append method is deprecated and will be removed from pandas in a future version. Use pandas.concat instead.\n",
      "  final_df=final_df.append(df_4)\n",
      "C:\\Users\\Student\\AppData\\Local\\Temp\\ipykernel_15516\\2539308796.py:23: SettingWithCopyWarning: \n",
      "A value is trying to be set on a copy of a slice from a DataFrame.\n",
      "Try using .loc[row_indexer,col_indexer] = value instead\n",
      "\n",
      "See the caveats in the documentation: https://pandas.pydata.org/pandas-docs/stable/user_guide/indexing.html#returning-a-view-versus-a-copy\n",
      "  df_5['Name']='Wt'\n",
      "C:\\Users\\Student\\AppData\\Local\\Temp\\ipykernel_15516\\2539308796.py:24: SettingWithCopyWarning: \n",
      "A value is trying to be set on a copy of a slice from a DataFrame.\n",
      "Try using .loc[row_indexer,col_indexer] = value instead\n",
      "\n",
      "See the caveats in the documentation: https://pandas.pydata.org/pandas-docs/stable/user_guide/indexing.html#returning-a-view-versus-a-copy\n",
      "  df_5['Area(m2)']=34881300\n",
      "C:\\Users\\Student\\AppData\\Local\\Temp\\ipykernel_15516\\2539308796.py:25: FutureWarning: The frame.append method is deprecated and will be removed from pandas in a future version. Use pandas.concat instead.\n",
      "  final_df=final_df.append(df_5)\n"
     ]
    }
   ],
   "source": [
    "final_df=pd.DataFrame()\n",
    "df_0=dataset.loc[dataset['class']==0] #data.loc[(data.Brand == 'Maruti') & (data.Mileage > 25)]\n",
    "df_0['Name']='Ag'\n",
    "df_0['Area(m2)']=150880500\n",
    "final_df=final_df.append(df_0)\n",
    "df_1=dataset.loc[dataset['class']==1] \n",
    "df_1['Name']='Br'\n",
    "df_1['Area(m2)']=55854900\n",
    "final_df=final_df.append(df_1)\n",
    "df_2=dataset.loc[dataset['class']==2] \n",
    "df_2['Name']='Rc'\n",
    "df_2['Area(m2)']=44010900\n",
    "final_df=final_df.append(df_2)\n",
    "df_3=dataset.loc[dataset['class']==3] \n",
    "df_3['Name']='St'\n",
    "df_3['Area(m2)']=52658100\n",
    "final_df=final_df.append(df_3)\n",
    "df_4=dataset.loc[dataset['class']==4] \n",
    "df_4['Name']='Vg'\n",
    "df_4['Area(m2)']=175909500\n",
    "final_df=final_df.append(df_4)\n",
    "df_5=dataset.loc[dataset['class']==5] \n",
    "df_5['Name']='Wt'\n",
    "df_5['Area(m2)']=34881300\n",
    "final_df=final_df.append(df_5)"
   ]
  },
  {
   "cell_type": "code",
   "execution_count": 75,
   "id": "47bfbfa2",
   "metadata": {},
   "outputs": [
    {
     "data": {
      "text/html": [
       "<div>\n",
       "<style scoped>\n",
       "    .dataframe tbody tr th:only-of-type {\n",
       "        vertical-align: middle;\n",
       "    }\n",
       "\n",
       "    .dataframe tbody tr th {\n",
       "        vertical-align: top;\n",
       "    }\n",
       "\n",
       "    .dataframe thead th {\n",
       "        text-align: right;\n",
       "    }\n",
       "</style>\n",
       "<table border=\"1\" class=\"dataframe\">\n",
       "  <thead>\n",
       "    <tr style=\"text-align: right;\">\n",
       "      <th></th>\n",
       "      <th>b1</th>\n",
       "      <th>b2</th>\n",
       "      <th>b3</th>\n",
       "      <th>b4</th>\n",
       "      <th>b5</th>\n",
       "      <th>b6</th>\n",
       "      <th>class</th>\n",
       "      <th>Name</th>\n",
       "      <th>Area(m2)</th>\n",
       "    </tr>\n",
       "  </thead>\n",
       "  <tbody>\n",
       "    <tr>\n",
       "      <th>11</th>\n",
       "      <td>423.979187</td>\n",
       "      <td>711.979187</td>\n",
       "      <td>728.479187</td>\n",
       "      <td>2511.979248</td>\n",
       "      <td>2155.479248</td>\n",
       "      <td>1340.979248</td>\n",
       "      <td>0</td>\n",
       "      <td>Ag</td>\n",
       "      <td>150880500</td>\n",
       "    </tr>\n",
       "    <tr>\n",
       "      <th>73</th>\n",
       "      <td>419.999298</td>\n",
       "      <td>791.999329</td>\n",
       "      <td>894.499329</td>\n",
       "      <td>2543.999268</td>\n",
       "      <td>2528.499268</td>\n",
       "      <td>1749.499268</td>\n",
       "      <td>0</td>\n",
       "      <td>Ag</td>\n",
       "      <td>150880500</td>\n",
       "    </tr>\n",
       "    <tr>\n",
       "      <th>84</th>\n",
       "      <td>428.472992</td>\n",
       "      <td>731.473022</td>\n",
       "      <td>747.973022</td>\n",
       "      <td>2493.972900</td>\n",
       "      <td>1999.473022</td>\n",
       "      <td>1260.973022</td>\n",
       "      <td>0</td>\n",
       "      <td>Ag</td>\n",
       "      <td>150880500</td>\n",
       "    </tr>\n",
       "    <tr>\n",
       "      <th>91</th>\n",
       "      <td>450.971100</td>\n",
       "      <td>687.971069</td>\n",
       "      <td>749.971069</td>\n",
       "      <td>2316.471191</td>\n",
       "      <td>1738.971069</td>\n",
       "      <td>1093.971069</td>\n",
       "      <td>0</td>\n",
       "      <td>Ag</td>\n",
       "      <td>150880500</td>\n",
       "    </tr>\n",
       "    <tr>\n",
       "      <th>237</th>\n",
       "      <td>376.005951</td>\n",
       "      <td>604.505920</td>\n",
       "      <td>702.505920</td>\n",
       "      <td>1893.005981</td>\n",
       "      <td>1998.005981</td>\n",
       "      <td>1304.005981</td>\n",
       "      <td>0</td>\n",
       "      <td>Ag</td>\n",
       "      <td>150880500</td>\n",
       "    </tr>\n",
       "  </tbody>\n",
       "</table>\n",
       "</div>"
      ],
      "text/plain": [
       "             b1          b2          b3           b4           b5  \\\n",
       "11   423.979187  711.979187  728.479187  2511.979248  2155.479248   \n",
       "73   419.999298  791.999329  894.499329  2543.999268  2528.499268   \n",
       "84   428.472992  731.473022  747.973022  2493.972900  1999.473022   \n",
       "91   450.971100  687.971069  749.971069  2316.471191  1738.971069   \n",
       "237  376.005951  604.505920  702.505920  1893.005981  1998.005981   \n",
       "\n",
       "              b6  class Name   Area(m2)  \n",
       "11   1340.979248      0   Ag  150880500  \n",
       "73   1749.499268      0   Ag  150880500  \n",
       "84   1260.973022      0   Ag  150880500  \n",
       "91   1093.971069      0   Ag  150880500  \n",
       "237  1304.005981      0   Ag  150880500  "
      ]
     },
     "execution_count": 75,
     "metadata": {},
     "output_type": "execute_result"
    }
   ],
   "source": [
    "final_df.head()"
   ]
  },
  {
   "cell_type": "code",
   "execution_count": 76,
   "id": "727e69aa",
   "metadata": {},
   "outputs": [
    {
     "data": {
      "text/html": [
       "<div>\n",
       "<style scoped>\n",
       "    .dataframe tbody tr th:only-of-type {\n",
       "        vertical-align: middle;\n",
       "    }\n",
       "\n",
       "    .dataframe tbody tr th {\n",
       "        vertical-align: top;\n",
       "    }\n",
       "\n",
       "    .dataframe thead th {\n",
       "        text-align: right;\n",
       "    }\n",
       "</style>\n",
       "<table border=\"1\" class=\"dataframe\">\n",
       "  <thead>\n",
       "    <tr style=\"text-align: right;\">\n",
       "      <th></th>\n",
       "      <th>b1</th>\n",
       "      <th>b2</th>\n",
       "      <th>b3</th>\n",
       "      <th>b4</th>\n",
       "      <th>b5</th>\n",
       "      <th>b6</th>\n",
       "      <th>class</th>\n",
       "      <th>Name</th>\n",
       "      <th>Area(m2)</th>\n",
       "    </tr>\n",
       "  </thead>\n",
       "  <tbody>\n",
       "    <tr>\n",
       "      <th>11</th>\n",
       "      <td>423.979187</td>\n",
       "      <td>711.979187</td>\n",
       "      <td>728.479187</td>\n",
       "      <td>2511.979248</td>\n",
       "      <td>2155.479248</td>\n",
       "      <td>1340.979248</td>\n",
       "      <td>0</td>\n",
       "      <td>Ag</td>\n",
       "      <td>150880500</td>\n",
       "    </tr>\n",
       "    <tr>\n",
       "      <th>73</th>\n",
       "      <td>419.999298</td>\n",
       "      <td>791.999329</td>\n",
       "      <td>894.499329</td>\n",
       "      <td>2543.999268</td>\n",
       "      <td>2528.499268</td>\n",
       "      <td>1749.499268</td>\n",
       "      <td>0</td>\n",
       "      <td>Ag</td>\n",
       "      <td>150880500</td>\n",
       "    </tr>\n",
       "    <tr>\n",
       "      <th>84</th>\n",
       "      <td>428.472992</td>\n",
       "      <td>731.473022</td>\n",
       "      <td>747.973022</td>\n",
       "      <td>2493.972900</td>\n",
       "      <td>1999.473022</td>\n",
       "      <td>1260.973022</td>\n",
       "      <td>0</td>\n",
       "      <td>Ag</td>\n",
       "      <td>150880500</td>\n",
       "    </tr>\n",
       "    <tr>\n",
       "      <th>91</th>\n",
       "      <td>450.971100</td>\n",
       "      <td>687.971069</td>\n",
       "      <td>749.971069</td>\n",
       "      <td>2316.471191</td>\n",
       "      <td>1738.971069</td>\n",
       "      <td>1093.971069</td>\n",
       "      <td>0</td>\n",
       "      <td>Ag</td>\n",
       "      <td>150880500</td>\n",
       "    </tr>\n",
       "    <tr>\n",
       "      <th>237</th>\n",
       "      <td>376.005951</td>\n",
       "      <td>604.505920</td>\n",
       "      <td>702.505920</td>\n",
       "      <td>1893.005981</td>\n",
       "      <td>1998.005981</td>\n",
       "      <td>1304.005981</td>\n",
       "      <td>0</td>\n",
       "      <td>Ag</td>\n",
       "      <td>150880500</td>\n",
       "    </tr>\n",
       "    <tr>\n",
       "      <th>...</th>\n",
       "      <td>...</td>\n",
       "      <td>...</td>\n",
       "      <td>...</td>\n",
       "      <td>...</td>\n",
       "      <td>...</td>\n",
       "      <td>...</td>\n",
       "      <td>...</td>\n",
       "      <td>...</td>\n",
       "      <td>...</td>\n",
       "    </tr>\n",
       "    <tr>\n",
       "      <th>571250</th>\n",
       "      <td>462.917999</td>\n",
       "      <td>675.417969</td>\n",
       "      <td>606.917969</td>\n",
       "      <td>3018.417969</td>\n",
       "      <td>1826.417969</td>\n",
       "      <td>906.417969</td>\n",
       "      <td>5</td>\n",
       "      <td>Wt</td>\n",
       "      <td>34881300</td>\n",
       "    </tr>\n",
       "    <tr>\n",
       "      <th>571276</th>\n",
       "      <td>245.842087</td>\n",
       "      <td>490.342102</td>\n",
       "      <td>347.842102</td>\n",
       "      <td>2547.342041</td>\n",
       "      <td>1071.342041</td>\n",
       "      <td>450.342102</td>\n",
       "      <td>5</td>\n",
       "      <td>Wt</td>\n",
       "      <td>34881300</td>\n",
       "    </tr>\n",
       "    <tr>\n",
       "      <th>571294</th>\n",
       "      <td>246.824570</td>\n",
       "      <td>480.824585</td>\n",
       "      <td>332.824585</td>\n",
       "      <td>2676.324463</td>\n",
       "      <td>1069.324585</td>\n",
       "      <td>439.824585</td>\n",
       "      <td>5</td>\n",
       "      <td>Wt</td>\n",
       "      <td>34881300</td>\n",
       "    </tr>\n",
       "    <tr>\n",
       "      <th>571303</th>\n",
       "      <td>391.479675</td>\n",
       "      <td>658.479675</td>\n",
       "      <td>624.479675</td>\n",
       "      <td>1568.979614</td>\n",
       "      <td>1123.979614</td>\n",
       "      <td>793.479675</td>\n",
       "      <td>5</td>\n",
       "      <td>Wt</td>\n",
       "      <td>34881300</td>\n",
       "    </tr>\n",
       "    <tr>\n",
       "      <th>571304</th>\n",
       "      <td>400.482117</td>\n",
       "      <td>696.982117</td>\n",
       "      <td>675.482117</td>\n",
       "      <td>1668.982056</td>\n",
       "      <td>1259.482056</td>\n",
       "      <td>887.482117</td>\n",
       "      <td>5</td>\n",
       "      <td>Wt</td>\n",
       "      <td>34881300</td>\n",
       "    </tr>\n",
       "  </tbody>\n",
       "</table>\n",
       "<p>571328 rows × 9 columns</p>\n",
       "</div>"
      ],
      "text/plain": [
       "                b1          b2          b3           b4           b5  \\\n",
       "11      423.979187  711.979187  728.479187  2511.979248  2155.479248   \n",
       "73      419.999298  791.999329  894.499329  2543.999268  2528.499268   \n",
       "84      428.472992  731.473022  747.973022  2493.972900  1999.473022   \n",
       "91      450.971100  687.971069  749.971069  2316.471191  1738.971069   \n",
       "237     376.005951  604.505920  702.505920  1893.005981  1998.005981   \n",
       "...            ...         ...         ...          ...          ...   \n",
       "571250  462.917999  675.417969  606.917969  3018.417969  1826.417969   \n",
       "571276  245.842087  490.342102  347.842102  2547.342041  1071.342041   \n",
       "571294  246.824570  480.824585  332.824585  2676.324463  1069.324585   \n",
       "571303  391.479675  658.479675  624.479675  1568.979614  1123.979614   \n",
       "571304  400.482117  696.982117  675.482117  1668.982056  1259.482056   \n",
       "\n",
       "                 b6  class Name   Area(m2)  \n",
       "11      1340.979248      0   Ag  150880500  \n",
       "73      1749.499268      0   Ag  150880500  \n",
       "84      1260.973022      0   Ag  150880500  \n",
       "91      1093.971069      0   Ag  150880500  \n",
       "237     1304.005981      0   Ag  150880500  \n",
       "...             ...    ...  ...        ...  \n",
       "571250   906.417969      5   Wt   34881300  \n",
       "571276   450.342102      5   Wt   34881300  \n",
       "571294   439.824585      5   Wt   34881300  \n",
       "571303   793.479675      5   Wt   34881300  \n",
       "571304   887.482117      5   Wt   34881300  \n",
       "\n",
       "[571328 rows x 9 columns]"
      ]
     },
     "execution_count": 76,
     "metadata": {},
     "output_type": "execute_result"
    }
   ],
   "source": [
    "final_df"
   ]
  },
  {
   "cell_type": "code",
   "execution_count": 77,
   "id": "7309a6da",
   "metadata": {},
   "outputs": [],
   "source": [
    "import seaborn as sns"
   ]
  },
  {
   "cell_type": "code",
   "execution_count": null,
   "id": "0203a2d3",
   "metadata": {},
   "outputs": [],
   "source": []
  },
  {
   "cell_type": "code",
   "execution_count": 78,
   "id": "0c2cf163",
   "metadata": {},
   "outputs": [
    {
     "data": {
      "text/html": [
       "<div>\n",
       "<style scoped>\n",
       "    .dataframe tbody tr th:only-of-type {\n",
       "        vertical-align: middle;\n",
       "    }\n",
       "\n",
       "    .dataframe tbody tr th {\n",
       "        vertical-align: top;\n",
       "    }\n",
       "\n",
       "    .dataframe thead th {\n",
       "        text-align: right;\n",
       "    }\n",
       "</style>\n",
       "<table border=\"1\" class=\"dataframe\">\n",
       "  <thead>\n",
       "    <tr style=\"text-align: right;\">\n",
       "      <th></th>\n",
       "      <th>b1</th>\n",
       "      <th>b2</th>\n",
       "      <th>b3</th>\n",
       "      <th>b4</th>\n",
       "      <th>b5</th>\n",
       "      <th>b6</th>\n",
       "      <th>class</th>\n",
       "      <th>Name</th>\n",
       "      <th>Area(m2)</th>\n",
       "    </tr>\n",
       "  </thead>\n",
       "  <tbody>\n",
       "    <tr>\n",
       "      <th>11</th>\n",
       "      <td>423.979187</td>\n",
       "      <td>711.979187</td>\n",
       "      <td>728.479187</td>\n",
       "      <td>2511.979248</td>\n",
       "      <td>2155.479248</td>\n",
       "      <td>1340.979248</td>\n",
       "      <td>0</td>\n",
       "      <td>Ag</td>\n",
       "      <td>150880500</td>\n",
       "    </tr>\n",
       "    <tr>\n",
       "      <th>73</th>\n",
       "      <td>419.999298</td>\n",
       "      <td>791.999329</td>\n",
       "      <td>894.499329</td>\n",
       "      <td>2543.999268</td>\n",
       "      <td>2528.499268</td>\n",
       "      <td>1749.499268</td>\n",
       "      <td>0</td>\n",
       "      <td>Ag</td>\n",
       "      <td>150880500</td>\n",
       "    </tr>\n",
       "    <tr>\n",
       "      <th>84</th>\n",
       "      <td>428.472992</td>\n",
       "      <td>731.473022</td>\n",
       "      <td>747.973022</td>\n",
       "      <td>2493.972900</td>\n",
       "      <td>1999.473022</td>\n",
       "      <td>1260.973022</td>\n",
       "      <td>0</td>\n",
       "      <td>Ag</td>\n",
       "      <td>150880500</td>\n",
       "    </tr>\n",
       "    <tr>\n",
       "      <th>91</th>\n",
       "      <td>450.971100</td>\n",
       "      <td>687.971069</td>\n",
       "      <td>749.971069</td>\n",
       "      <td>2316.471191</td>\n",
       "      <td>1738.971069</td>\n",
       "      <td>1093.971069</td>\n",
       "      <td>0</td>\n",
       "      <td>Ag</td>\n",
       "      <td>150880500</td>\n",
       "    </tr>\n",
       "    <tr>\n",
       "      <th>237</th>\n",
       "      <td>376.005951</td>\n",
       "      <td>604.505920</td>\n",
       "      <td>702.505920</td>\n",
       "      <td>1893.005981</td>\n",
       "      <td>1998.005981</td>\n",
       "      <td>1304.005981</td>\n",
       "      <td>0</td>\n",
       "      <td>Ag</td>\n",
       "      <td>150880500</td>\n",
       "    </tr>\n",
       "  </tbody>\n",
       "</table>\n",
       "</div>"
      ],
      "text/plain": [
       "             b1          b2          b3           b4           b5  \\\n",
       "11   423.979187  711.979187  728.479187  2511.979248  2155.479248   \n",
       "73   419.999298  791.999329  894.499329  2543.999268  2528.499268   \n",
       "84   428.472992  731.473022  747.973022  2493.972900  1999.473022   \n",
       "91   450.971100  687.971069  749.971069  2316.471191  1738.971069   \n",
       "237  376.005951  604.505920  702.505920  1893.005981  1998.005981   \n",
       "\n",
       "              b6  class Name   Area(m2)  \n",
       "11   1340.979248      0   Ag  150880500  \n",
       "73   1749.499268      0   Ag  150880500  \n",
       "84   1260.973022      0   Ag  150880500  \n",
       "91   1093.971069      0   Ag  150880500  \n",
       "237  1304.005981      0   Ag  150880500  "
      ]
     },
     "execution_count": 78,
     "metadata": {},
     "output_type": "execute_result"
    }
   ],
   "source": [
    "final_df.head()"
   ]
  },
  {
   "cell_type": "code",
   "execution_count": 79,
   "id": "075925e0",
   "metadata": {},
   "outputs": [
    {
     "data": {
      "text/plain": [
       "b1           474.467133\n",
       "b2           781.917419\n",
       "b3           840.067139\n",
       "b4          2514.859131\n",
       "b5          2136.382812\n",
       "b6          1362.231079\n",
       "class          0.000000\n",
       "Name                NaN\n",
       "Area(m2)            NaN\n",
       "dtype: float64"
      ]
     },
     "execution_count": 79,
     "metadata": {},
     "output_type": "execute_result"
    }
   ],
   "source": [
    "df_00=dataset.loc[dataset['class']==0]\n",
    "c0b=[]\n",
    "df_00.mean()"
   ]
  },
  {
   "cell_type": "code",
   "execution_count": 80,
   "id": "4e16160c",
   "metadata": {},
   "outputs": [],
   "source": [
    "c0b=[479,788,850,2513,2143,1372]"
   ]
  },
  {
   "cell_type": "code",
   "execution_count": 81,
   "id": "8d8b9905",
   "metadata": {},
   "outputs": [
    {
     "data": {
      "text/plain": [
       "b1           579.559204\n",
       "b2           849.472595\n",
       "b3           975.976196\n",
       "b4          2470.978271\n",
       "b5          2671.149170\n",
       "b6          1836.675293\n",
       "class          1.000000\n",
       "Name                NaN\n",
       "Area(m2)            NaN\n",
       "dtype: float64"
      ]
     },
     "execution_count": 81,
     "metadata": {},
     "output_type": "execute_result"
    }
   ],
   "source": [
    "df_11=dataset.loc[dataset['class']==1]\n",
    "df_11.mean()"
   ]
  },
  {
   "cell_type": "code",
   "execution_count": 82,
   "id": "d4a6fb04",
   "metadata": {},
   "outputs": [
    {
     "data": {
      "text/plain": [
       "b1           526.363831\n",
       "b2           755.318176\n",
       "b3           860.886902\n",
       "b4          2156.436035\n",
       "b5          2432.585449\n",
       "b6          1722.522095\n",
       "class          2.000000\n",
       "Name                NaN\n",
       "Area(m2)            NaN\n",
       "dtype: float64"
      ]
     },
     "execution_count": 82,
     "metadata": {},
     "output_type": "execute_result"
    }
   ],
   "source": [
    "c1b=[560,823,934,2443,2588,1774]\n",
    "df_22=dataset.loc[dataset['class']==2]\n",
    "df_22.mean()"
   ]
  },
  {
   "cell_type": "code",
   "execution_count": 83,
   "id": "544bf7e2",
   "metadata": {},
   "outputs": [],
   "source": [
    "c2b=[530,758,870,2138,2459,1751]"
   ]
  },
  {
   "cell_type": "code",
   "execution_count": 84,
   "id": "d7e57a8d",
   "metadata": {},
   "outputs": [],
   "source": [
    "df_33=dataset.loc[dataset['class']==3]"
   ]
  },
  {
   "cell_type": "code",
   "execution_count": 85,
   "id": "c5f61bda",
   "metadata": {},
   "outputs": [
    {
     "data": {
      "text/plain": [
       "b1           565.228394\n",
       "b2           860.857483\n",
       "b3           941.057922\n",
       "b4          2346.358398\n",
       "b5          2216.201904\n",
       "b6          1600.273438\n",
       "class          3.000000\n",
       "Name                NaN\n",
       "Area(m2)            NaN\n",
       "dtype: float64"
      ]
     },
     "execution_count": 85,
     "metadata": {},
     "output_type": "execute_result"
    }
   ],
   "source": [
    "df_33.mean()"
   ]
  },
  {
   "cell_type": "code",
   "execution_count": 86,
   "id": "e6719693",
   "metadata": {},
   "outputs": [],
   "source": [
    "c3b=[592,887,978,2305,2261,1680]"
   ]
  },
  {
   "cell_type": "code",
   "execution_count": 87,
   "id": "bb6497d5",
   "metadata": {},
   "outputs": [
    {
     "data": {
      "text/plain": [
       "b1           338.486969\n",
       "b2           607.378052\n",
       "b3           543.410156\n",
       "b4          2647.256348\n",
       "b5          1749.995483\n",
       "b6           958.882446\n",
       "class          4.000000\n",
       "Name                NaN\n",
       "Area(m2)            NaN\n",
       "dtype: float64"
      ]
     },
     "execution_count": 87,
     "metadata": {},
     "output_type": "execute_result"
    }
   ],
   "source": [
    "df_44=dataset.loc[dataset['class']==4]\n",
    "df_44.mean()"
   ]
  },
  {
   "cell_type": "code",
   "execution_count": 88,
   "id": "2ad65c4e",
   "metadata": {},
   "outputs": [],
   "source": [
    "c4b=[340,609,546,2646,1760,966]"
   ]
  },
  {
   "cell_type": "code",
   "execution_count": 89,
   "id": "f73eac02",
   "metadata": {},
   "outputs": [
    {
     "data": {
      "text/plain": [
       "b1           429.366211\n",
       "b2           685.812256\n",
       "b3           644.071777\n",
       "b4          1788.331543\n",
       "b5          1372.237915\n",
       "b6           864.494690\n",
       "class          5.000000\n",
       "Name                NaN\n",
       "Area(m2)            NaN\n",
       "dtype: float64"
      ]
     },
     "execution_count": 89,
     "metadata": {},
     "output_type": "execute_result"
    }
   ],
   "source": [
    "df_55=dataset.loc[dataset['class']==5]\n",
    "df_55.mean()"
   ]
  },
  {
   "cell_type": "code",
   "execution_count": 90,
   "id": "82524063",
   "metadata": {},
   "outputs": [],
   "source": [
    "c5b=[421,682,625,1821,1320,808]"
   ]
  },
  {
   "cell_type": "code",
   "execution_count": null,
   "id": "20800810",
   "metadata": {},
   "outputs": [],
   "source": []
  },
  {
   "cell_type": "code",
   "execution_count": 91,
   "id": "d0b19e6e",
   "metadata": {},
   "outputs": [],
   "source": [
    "cb=[c0b,c1b,c2b,c3b,c4b,c5b]\n"
   ]
  },
  {
   "cell_type": "code",
   "execution_count": 92,
   "id": "a1682329",
   "metadata": {},
   "outputs": [
    {
     "data": {
      "text/html": [
       "<div>\n",
       "<style scoped>\n",
       "    .dataframe tbody tr th:only-of-type {\n",
       "        vertical-align: middle;\n",
       "    }\n",
       "\n",
       "    .dataframe tbody tr th {\n",
       "        vertical-align: top;\n",
       "    }\n",
       "\n",
       "    .dataframe thead th {\n",
       "        text-align: right;\n",
       "    }\n",
       "</style>\n",
       "<table border=\"1\" class=\"dataframe\">\n",
       "  <thead>\n",
       "    <tr style=\"text-align: right;\">\n",
       "      <th></th>\n",
       "      <th>b1</th>\n",
       "      <th>b2</th>\n",
       "      <th>b3</th>\n",
       "      <th>b4</th>\n",
       "      <th>b5</th>\n",
       "      <th>b6</th>\n",
       "    </tr>\n",
       "  </thead>\n",
       "  <tbody>\n",
       "    <tr>\n",
       "      <th>0</th>\n",
       "      <td>479</td>\n",
       "      <td>788</td>\n",
       "      <td>850</td>\n",
       "      <td>2513</td>\n",
       "      <td>2143</td>\n",
       "      <td>1372</td>\n",
       "    </tr>\n",
       "    <tr>\n",
       "      <th>1</th>\n",
       "      <td>560</td>\n",
       "      <td>823</td>\n",
       "      <td>934</td>\n",
       "      <td>2443</td>\n",
       "      <td>2588</td>\n",
       "      <td>1774</td>\n",
       "    </tr>\n",
       "    <tr>\n",
       "      <th>2</th>\n",
       "      <td>530</td>\n",
       "      <td>758</td>\n",
       "      <td>870</td>\n",
       "      <td>2138</td>\n",
       "      <td>2459</td>\n",
       "      <td>1751</td>\n",
       "    </tr>\n",
       "    <tr>\n",
       "      <th>3</th>\n",
       "      <td>592</td>\n",
       "      <td>887</td>\n",
       "      <td>978</td>\n",
       "      <td>2305</td>\n",
       "      <td>2261</td>\n",
       "      <td>1680</td>\n",
       "    </tr>\n",
       "    <tr>\n",
       "      <th>4</th>\n",
       "      <td>340</td>\n",
       "      <td>609</td>\n",
       "      <td>546</td>\n",
       "      <td>2646</td>\n",
       "      <td>1760</td>\n",
       "      <td>966</td>\n",
       "    </tr>\n",
       "    <tr>\n",
       "      <th>5</th>\n",
       "      <td>421</td>\n",
       "      <td>682</td>\n",
       "      <td>625</td>\n",
       "      <td>1821</td>\n",
       "      <td>1320</td>\n",
       "      <td>808</td>\n",
       "    </tr>\n",
       "  </tbody>\n",
       "</table>\n",
       "</div>"
      ],
      "text/plain": [
       "    b1   b2   b3    b4    b5    b6\n",
       "0  479  788  850  2513  2143  1372\n",
       "1  560  823  934  2443  2588  1774\n",
       "2  530  758  870  2138  2459  1751\n",
       "3  592  887  978  2305  2261  1680\n",
       "4  340  609  546  2646  1760   966\n",
       "5  421  682  625  1821  1320   808"
      ]
     },
     "execution_count": 92,
     "metadata": {},
     "output_type": "execute_result"
    }
   ],
   "source": [
    "data_v=pd.DataFrame(cb,columns=['b1','b2','b3','b4','b5','b6'])\n",
    "data_v"
   ]
  },
  {
   "cell_type": "code",
   "execution_count": 93,
   "id": "73cf6763",
   "metadata": {},
   "outputs": [
    {
     "name": "stderr",
     "output_type": "stream",
     "text": [
      "C:\\Users\\Student\\AppData\\Local\\Temp\\ipykernel_15516\\3430840719.py:3: SettingWithCopyWarning: \n",
      "A value is trying to be set on a copy of a slice from a DataFrame\n",
      "\n",
      "See the caveats in the documentation: https://pandas.pydata.org/pandas-docs/stable/user_guide/indexing.html#returning-a-view-versus-a-copy\n",
      "  data_v['Class'][i]=i\n"
     ]
    },
    {
     "data": {
      "text/html": [
       "<div>\n",
       "<style scoped>\n",
       "    .dataframe tbody tr th:only-of-type {\n",
       "        vertical-align: middle;\n",
       "    }\n",
       "\n",
       "    .dataframe tbody tr th {\n",
       "        vertical-align: top;\n",
       "    }\n",
       "\n",
       "    .dataframe thead th {\n",
       "        text-align: right;\n",
       "    }\n",
       "</style>\n",
       "<table border=\"1\" class=\"dataframe\">\n",
       "  <thead>\n",
       "    <tr style=\"text-align: right;\">\n",
       "      <th></th>\n",
       "      <th>b1</th>\n",
       "      <th>b2</th>\n",
       "      <th>b3</th>\n",
       "      <th>b4</th>\n",
       "      <th>b5</th>\n",
       "      <th>b6</th>\n",
       "      <th>Class</th>\n",
       "    </tr>\n",
       "  </thead>\n",
       "  <tbody>\n",
       "    <tr>\n",
       "      <th>0</th>\n",
       "      <td>479</td>\n",
       "      <td>788</td>\n",
       "      <td>850</td>\n",
       "      <td>2513</td>\n",
       "      <td>2143</td>\n",
       "      <td>1372</td>\n",
       "      <td>0</td>\n",
       "    </tr>\n",
       "    <tr>\n",
       "      <th>1</th>\n",
       "      <td>560</td>\n",
       "      <td>823</td>\n",
       "      <td>934</td>\n",
       "      <td>2443</td>\n",
       "      <td>2588</td>\n",
       "      <td>1774</td>\n",
       "      <td>1</td>\n",
       "    </tr>\n",
       "    <tr>\n",
       "      <th>2</th>\n",
       "      <td>530</td>\n",
       "      <td>758</td>\n",
       "      <td>870</td>\n",
       "      <td>2138</td>\n",
       "      <td>2459</td>\n",
       "      <td>1751</td>\n",
       "      <td>2</td>\n",
       "    </tr>\n",
       "    <tr>\n",
       "      <th>3</th>\n",
       "      <td>592</td>\n",
       "      <td>887</td>\n",
       "      <td>978</td>\n",
       "      <td>2305</td>\n",
       "      <td>2261</td>\n",
       "      <td>1680</td>\n",
       "      <td>3</td>\n",
       "    </tr>\n",
       "    <tr>\n",
       "      <th>4</th>\n",
       "      <td>340</td>\n",
       "      <td>609</td>\n",
       "      <td>546</td>\n",
       "      <td>2646</td>\n",
       "      <td>1760</td>\n",
       "      <td>966</td>\n",
       "      <td>4</td>\n",
       "    </tr>\n",
       "    <tr>\n",
       "      <th>5</th>\n",
       "      <td>421</td>\n",
       "      <td>682</td>\n",
       "      <td>625</td>\n",
       "      <td>1821</td>\n",
       "      <td>1320</td>\n",
       "      <td>808</td>\n",
       "      <td>5</td>\n",
       "    </tr>\n",
       "  </tbody>\n",
       "</table>\n",
       "</div>"
      ],
      "text/plain": [
       "    b1   b2   b3    b4    b5    b6 Class\n",
       "0  479  788  850  2513  2143  1372     0\n",
       "1  560  823  934  2443  2588  1774     1\n",
       "2  530  758  870  2138  2459  1751     2\n",
       "3  592  887  978  2305  2261  1680     3\n",
       "4  340  609  546  2646  1760   966     4\n",
       "5  421  682  625  1821  1320   808     5"
      ]
     },
     "execution_count": 93,
     "metadata": {},
     "output_type": "execute_result"
    }
   ],
   "source": [
    "data_v['Class']=None\n",
    "for i in range(6):\n",
    "    data_v['Class'][i]=i\n",
    "data_v"
   ]
  },
  {
   "cell_type": "code",
   "execution_count": 94,
   "id": "35f08778",
   "metadata": {},
   "outputs": [],
   "source": [
    "data_v['Name']=le.classes_"
   ]
  },
  {
   "cell_type": "code",
   "execution_count": 95,
   "id": "cfd75ca5",
   "metadata": {},
   "outputs": [
    {
     "data": {
      "text/html": [
       "<div>\n",
       "<style scoped>\n",
       "    .dataframe tbody tr th:only-of-type {\n",
       "        vertical-align: middle;\n",
       "    }\n",
       "\n",
       "    .dataframe tbody tr th {\n",
       "        vertical-align: top;\n",
       "    }\n",
       "\n",
       "    .dataframe thead th {\n",
       "        text-align: right;\n",
       "    }\n",
       "</style>\n",
       "<table border=\"1\" class=\"dataframe\">\n",
       "  <thead>\n",
       "    <tr style=\"text-align: right;\">\n",
       "      <th></th>\n",
       "      <th>b1</th>\n",
       "      <th>b2</th>\n",
       "      <th>b3</th>\n",
       "      <th>b4</th>\n",
       "      <th>b5</th>\n",
       "      <th>b6</th>\n",
       "      <th>Class</th>\n",
       "      <th>Name</th>\n",
       "    </tr>\n",
       "  </thead>\n",
       "  <tbody>\n",
       "    <tr>\n",
       "      <th>0</th>\n",
       "      <td>479</td>\n",
       "      <td>788</td>\n",
       "      <td>850</td>\n",
       "      <td>2513</td>\n",
       "      <td>2143</td>\n",
       "      <td>1372</td>\n",
       "      <td>0</td>\n",
       "      <td>Ag</td>\n",
       "    </tr>\n",
       "    <tr>\n",
       "      <th>1</th>\n",
       "      <td>560</td>\n",
       "      <td>823</td>\n",
       "      <td>934</td>\n",
       "      <td>2443</td>\n",
       "      <td>2588</td>\n",
       "      <td>1774</td>\n",
       "      <td>1</td>\n",
       "      <td>Br</td>\n",
       "    </tr>\n",
       "    <tr>\n",
       "      <th>2</th>\n",
       "      <td>530</td>\n",
       "      <td>758</td>\n",
       "      <td>870</td>\n",
       "      <td>2138</td>\n",
       "      <td>2459</td>\n",
       "      <td>1751</td>\n",
       "      <td>2</td>\n",
       "      <td>Rc</td>\n",
       "    </tr>\n",
       "    <tr>\n",
       "      <th>3</th>\n",
       "      <td>592</td>\n",
       "      <td>887</td>\n",
       "      <td>978</td>\n",
       "      <td>2305</td>\n",
       "      <td>2261</td>\n",
       "      <td>1680</td>\n",
       "      <td>3</td>\n",
       "      <td>St</td>\n",
       "    </tr>\n",
       "    <tr>\n",
       "      <th>4</th>\n",
       "      <td>340</td>\n",
       "      <td>609</td>\n",
       "      <td>546</td>\n",
       "      <td>2646</td>\n",
       "      <td>1760</td>\n",
       "      <td>966</td>\n",
       "      <td>4</td>\n",
       "      <td>Vg</td>\n",
       "    </tr>\n",
       "    <tr>\n",
       "      <th>5</th>\n",
       "      <td>421</td>\n",
       "      <td>682</td>\n",
       "      <td>625</td>\n",
       "      <td>1821</td>\n",
       "      <td>1320</td>\n",
       "      <td>808</td>\n",
       "      <td>5</td>\n",
       "      <td>Wt</td>\n",
       "    </tr>\n",
       "  </tbody>\n",
       "</table>\n",
       "</div>"
      ],
      "text/plain": [
       "    b1   b2   b3    b4    b5    b6 Class Name\n",
       "0  479  788  850  2513  2143  1372     0   Ag\n",
       "1  560  823  934  2443  2588  1774     1   Br\n",
       "2  530  758  870  2138  2459  1751     2   Rc\n",
       "3  592  887  978  2305  2261  1680     3   St\n",
       "4  340  609  546  2646  1760   966     4   Vg\n",
       "5  421  682  625  1821  1320   808     5   Wt"
      ]
     },
     "execution_count": 95,
     "metadata": {},
     "output_type": "execute_result"
    }
   ],
   "source": [
    "data_v"
   ]
  },
  {
   "cell_type": "code",
   "execution_count": 96,
   "id": "d9eed043",
   "metadata": {},
   "outputs": [],
   "source": [
    "ar=final_df['Area(m2)'].unique()"
   ]
  },
  {
   "cell_type": "code",
   "execution_count": 97,
   "id": "65687d39",
   "metadata": {},
   "outputs": [
    {
     "data": {
      "text/plain": [
       "array([150880500,  55854900,  44010900,  52658100, 175909500,  34881300],\n",
       "      dtype=int64)"
      ]
     },
     "execution_count": 97,
     "metadata": {},
     "output_type": "execute_result"
    }
   ],
   "source": [
    "ar"
   ]
  },
  {
   "cell_type": "code",
   "execution_count": 98,
   "id": "d67b20d3",
   "metadata": {},
   "outputs": [],
   "source": [
    "data_v['Area(m2)']=ar"
   ]
  },
  {
   "cell_type": "code",
   "execution_count": 99,
   "id": "42b40037",
   "metadata": {},
   "outputs": [
    {
     "data": {
      "text/html": [
       "<div>\n",
       "<style scoped>\n",
       "    .dataframe tbody tr th:only-of-type {\n",
       "        vertical-align: middle;\n",
       "    }\n",
       "\n",
       "    .dataframe tbody tr th {\n",
       "        vertical-align: top;\n",
       "    }\n",
       "\n",
       "    .dataframe thead th {\n",
       "        text-align: right;\n",
       "    }\n",
       "</style>\n",
       "<table border=\"1\" class=\"dataframe\">\n",
       "  <thead>\n",
       "    <tr style=\"text-align: right;\">\n",
       "      <th></th>\n",
       "      <th>b1</th>\n",
       "      <th>b2</th>\n",
       "      <th>b3</th>\n",
       "      <th>b4</th>\n",
       "      <th>b5</th>\n",
       "      <th>b6</th>\n",
       "      <th>Class</th>\n",
       "      <th>Name</th>\n",
       "      <th>Area(m2)</th>\n",
       "    </tr>\n",
       "  </thead>\n",
       "  <tbody>\n",
       "    <tr>\n",
       "      <th>0</th>\n",
       "      <td>479</td>\n",
       "      <td>788</td>\n",
       "      <td>850</td>\n",
       "      <td>2513</td>\n",
       "      <td>2143</td>\n",
       "      <td>1372</td>\n",
       "      <td>0</td>\n",
       "      <td>Ag</td>\n",
       "      <td>150880500</td>\n",
       "    </tr>\n",
       "    <tr>\n",
       "      <th>1</th>\n",
       "      <td>560</td>\n",
       "      <td>823</td>\n",
       "      <td>934</td>\n",
       "      <td>2443</td>\n",
       "      <td>2588</td>\n",
       "      <td>1774</td>\n",
       "      <td>1</td>\n",
       "      <td>Br</td>\n",
       "      <td>55854900</td>\n",
       "    </tr>\n",
       "    <tr>\n",
       "      <th>2</th>\n",
       "      <td>530</td>\n",
       "      <td>758</td>\n",
       "      <td>870</td>\n",
       "      <td>2138</td>\n",
       "      <td>2459</td>\n",
       "      <td>1751</td>\n",
       "      <td>2</td>\n",
       "      <td>Rc</td>\n",
       "      <td>44010900</td>\n",
       "    </tr>\n",
       "    <tr>\n",
       "      <th>3</th>\n",
       "      <td>592</td>\n",
       "      <td>887</td>\n",
       "      <td>978</td>\n",
       "      <td>2305</td>\n",
       "      <td>2261</td>\n",
       "      <td>1680</td>\n",
       "      <td>3</td>\n",
       "      <td>St</td>\n",
       "      <td>52658100</td>\n",
       "    </tr>\n",
       "    <tr>\n",
       "      <th>4</th>\n",
       "      <td>340</td>\n",
       "      <td>609</td>\n",
       "      <td>546</td>\n",
       "      <td>2646</td>\n",
       "      <td>1760</td>\n",
       "      <td>966</td>\n",
       "      <td>4</td>\n",
       "      <td>Vg</td>\n",
       "      <td>175909500</td>\n",
       "    </tr>\n",
       "    <tr>\n",
       "      <th>5</th>\n",
       "      <td>421</td>\n",
       "      <td>682</td>\n",
       "      <td>625</td>\n",
       "      <td>1821</td>\n",
       "      <td>1320</td>\n",
       "      <td>808</td>\n",
       "      <td>5</td>\n",
       "      <td>Wt</td>\n",
       "      <td>34881300</td>\n",
       "    </tr>\n",
       "  </tbody>\n",
       "</table>\n",
       "</div>"
      ],
      "text/plain": [
       "    b1   b2   b3    b4    b5    b6 Class Name   Area(m2)\n",
       "0  479  788  850  2513  2143  1372     0   Ag  150880500\n",
       "1  560  823  934  2443  2588  1774     1   Br   55854900\n",
       "2  530  758  870  2138  2459  1751     2   Rc   44010900\n",
       "3  592  887  978  2305  2261  1680     3   St   52658100\n",
       "4  340  609  546  2646  1760   966     4   Vg  175909500\n",
       "5  421  682  625  1821  1320   808     5   Wt   34881300"
      ]
     },
     "execution_count": 99,
     "metadata": {},
     "output_type": "execute_result"
    }
   ],
   "source": [
    "data_v"
   ]
  },
  {
   "cell_type": "code",
   "execution_count": 100,
   "id": "1880b34b",
   "metadata": {},
   "outputs": [
    {
     "data": {
      "text/plain": [
       "([<matplotlib.patches.Wedge at 0x1aa884dd520>,\n",
       "  <matplotlib.patches.Wedge at 0x1aa884ddc70>,\n",
       "  <matplotlib.patches.Wedge at 0x1aa884eb400>,\n",
       "  <matplotlib.patches.Wedge at 0x1aa884ebb50>,\n",
       "  <matplotlib.patches.Wedge at 0x1aa88f652e0>,\n",
       "  <matplotlib.patches.Wedge at 0x1aa88f65a30>],\n",
       " [Text(0.6647918418844924, 0.8763856496793088, 'Ag'),\n",
       "  Text(-0.6338809325679376, 0.8989966425559117, 'Br'),\n",
       "  Text(-1.0346222831335707, 0.37357292627207034, 'Rc'),\n",
       "  Text(-1.0673861867365593, -0.26586975827270676, 'St'),\n",
       "  Text(0.07672497622113182, -1.0973209548823293, 'Vg'),\n",
       "  Text(1.0751144338495764, -0.23265630042684207, 'Wt')])"
      ]
     },
     "execution_count": 100,
     "metadata": {},
     "output_type": "execute_result"
    },
    {
     "data": {
      "image/png": "[encoded data removed]",
      "text/plain": [
       "<Figure size 432x288 with 1 Axes>"
      ]
     },
     "metadata": {},
     "output_type": "display_data"
    }
   ],
   "source": [
    "plt.pie(data_v['Area(m2)'],labels=data_v['Name'],shadow=True)"
   ]
  },
  {
   "cell_type": "code",
   "execution_count": null,
   "id": "069b455f",
   "metadata": {},
   "outputs": [],
   "source": []
  },
  {
   "cell_type": "code",
   "execution_count": null,
   "id": "0914da0e",
   "metadata": {},
   "outputs": [],
   "source": []
  },
  {
   "cell_type": "code",
   "execution_count": null,
   "id": "0be7df93",
   "metadata": {},
   "outputs": [],
   "source": []
  }
 ],
 "metadata": {
  "kernelspec": {
   "display_name": "Python 3 (ipykernel)",
   "language": "python",
   "name": "python3"
  },
  "language_info": {
   "codemirror_mode": {
    "name": "ipython",
    "version": 3
   },
   "file_extension": ".py",
   "mimetype": "text/x-python",
   "name": "python",
   "nbconvert_exporter": "python",
   "pygments_lexer": "ipython3",
   "version": "3.8.13"
  }
 },
 "nbformat": 4,
 "nbformat_minor": 5
}
