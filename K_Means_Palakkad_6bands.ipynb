{
 "cells": [
  {
   "cell_type": "code",
   "execution_count": 1,
   "id": "1a6493cb",
   "metadata": {},
   "outputs": [],
   "source": [
    "# Importing necessary libraries\n",
    "from osgeo import gdal\n",
    "import geopandas as gpd\n",
    "import pandas as pd\n",
    "import numpy as np\n",
    "import matplotlib.pyplot as plt\n",
    "from sklearn import cluster\n",
    "from skimage import io, color"
   ]
  },
  {
   "cell_type": "code",
   "execution_count": 2,
   "id": "9c712545",
   "metadata": {},
   "outputs": [],
   "source": [
    "#Creating variable for working directory\n",
    "path_var=\"C:\\\\Summer2022\\\\Marginal-Land-Classification\\\\palakkad_6bands.tif\""
   ]
  },
  {
   "cell_type": "code",
   "execution_count": 3,
   "id": "d2deaf48",
   "metadata": {},
   "outputs": [],
   "source": [
    "#Reading the data\n",
    "original_data=gdal.Open(path_var)"
   ]
  },
  {
   "cell_type": "code",
   "execution_count": 4,
   "id": "0cad0892",
   "metadata": {},
   "outputs": [],
   "source": [
    "#Converting raster data to numpy array\n",
    "def read_convert():\n",
    "    img_h=original_data.RasterYSize\n",
    "    img_w=original_data.RasterXSize\n",
    "    band_number=original_data.RasterCount\n",
    "    data = np.empty(((img_w)*(img_h), band_number))\n",
    "    for i in range(0,band_number):\n",
    "        get_band=original_data.GetRasterBand(i+1)\n",
    "        get_array=get_band.ReadAsArray()\n",
    "        data[:, i-1] = get_array.flatten()\n",
    "    return data,img_h,img_w\n",
    "#         im_arr.append(get_array)\n",
    "#     return im_arr,img_h,img_w,band_number\n",
    "np_arr,hy,wx=read_convert()    "
   ]
  },
  {
   "cell_type": "code",
   "execution_count": 5,
   "id": "c04360d6",
   "metadata": {},
   "outputs": [
    {
     "data": {
      "text/plain": [
       "KMeans(n_clusters=7)"
      ]
     },
     "execution_count": 5,
     "metadata": {},
     "output_type": "execute_result"
    }
   ],
   "source": [
    "#KMeans algorithm creation and fitting.\n",
    "n_c=7\n",
    "km=cluster.KMeans(n_c)\n",
    "km.fit(np_arr)"
   ]
  },
  {
   "cell_type": "code",
   "execution_count": 6,
   "id": "e25dc95a",
   "metadata": {},
   "outputs": [],
   "source": [
    "#Extracting labels after fitting of kmeans\n",
    "res = km.labels_.reshape((hy,wx))"
   ]
  },
  {
   "cell_type": "code",
   "execution_count": 7,
   "id": "e9025e74",
   "metadata": {},
   "outputs": [],
   "source": [
    "#Mapping cluster results to the original area in a new tif file\n",
    "drv=gdal.GetDriverByName(\"GTiff\")\n",
    "drv.Register()\n",
    "clf_pal=drv.Create(\"C:\\\\Summer2022\\\\Marginal-Land-Classification\\\\palakkad_6bands_classified_new.tif\",xsize=wx,ysize=hy,bands=1,eType=gdal.GDT_Float32)\n",
    "clf_pal.SetGeoTransform(original_data.GetGeoTransform())\n",
    "clf_pal.SetProjection(original_data.GetProjection())\n",
    "clf_pal.GetRasterBand(1).WriteArray(res)\n",
    "clf_pal.GetRasterBand(1).SetNoDataValue(-9999.0)\n",
    "clf_pal.FlushCache()\n",
    "clf_pal=None"
   ]
  },
  {
   "cell_type": "code",
   "execution_count": null,
   "id": "dcddb876",
   "metadata": {},
   "outputs": [],
   "source": []
  }
 ],
 "metadata": {
  "kernelspec": {
   "display_name": "Python 3 (ipykernel)",
   "language": "python",
   "name": "python3"
  },
  "language_info": {
   "codemirror_mode": {
    "name": "ipython",
    "version": 3
   },
   "file_extension": ".py",
   "mimetype": "text/x-python",
   "name": "python",
   "nbconvert_exporter": "python",
   "pygments_lexer": "ipython3",
   "version": "3.8.13"
  }
 },
 "nbformat": 4,
 "nbformat_minor": 5
}
