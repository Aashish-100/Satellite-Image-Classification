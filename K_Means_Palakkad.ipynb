{
 "cells": [
  {
   "cell_type": "code",
   "execution_count": 262,
   "id": "55e728f3",
   "metadata": {},
   "outputs": [],
   "source": [
    "# Importing necessary libraries and packages"
   ]
  },
  {
   "cell_type": "code",
   "execution_count": 263,
   "id": "2e6e338f",
   "metadata": {},
   "outputs": [],
   "source": [
    "from osgeo import gdal\n",
    "import geopandas as gpd\n",
    "import pandas as pd\n",
    "import numpy as np\n",
    "import matplotlib.pyplot as plt\n",
    "from sklearn import cluster\n",
    "from skimage import io, color"
   ]
  },
  {
   "cell_type": "code",
   "execution_count": 264,
   "id": "4887dd01",
   "metadata": {},
   "outputs": [],
   "source": [
    "#Function to read the image and convert it into numpy array"
   ]
  },
  {
   "cell_type": "code",
   "execution_count": 265,
   "id": "aa988edf",
   "metadata": {},
   "outputs": [],
   "source": [
    "def read_convert():\n",
    "    original_data=gdal.Open(\"rasterdata1.tif\")\n",
    "    data = np.empty((original_data.RasterXSize*original_data.RasterYSize, original_data.RasterCount))\n",
    "    band_number=original_data.RasterCount\n",
    "    img_h=original_data.RasterYSize\n",
    "    img_w=original_data.RasterXSize\n",
    "    for i in range(0,band_number):\n",
    "        get_band=original_data.GetRasterBand(i+1)\n",
    "        get_array=get_band.ReadAsArray()\n",
    "        data[:, i-1] = get_array.flatten()\n",
    "    return data,img_h,img_w\n",
    "#         im_arr.append(get_array)\n",
    "#     return im_arr,img_h,img_w,band_number\n",
    "np_arr,hy,wx=read_convert()    "
   ]
  },
  {
   "cell_type": "code",
   "execution_count": null,
   "id": "57f2ddfe",
   "metadata": {},
   "outputs": [],
   "source": []
  },
  {
   "cell_type": "code",
   "execution_count": 266,
   "id": "76c3aff7",
   "metadata": {},
   "outputs": [],
   "source": [
    "# np_arr=np.array(arr_out)\n",
    "# np_arr"
   ]
  },
  {
   "cell_type": "markdown",
   "id": "fe47da0d",
   "metadata": {},
   "source": []
  },
  {
   "cell_type": "code",
   "execution_count": 267,
   "id": "2bb0d4fd",
   "metadata": {},
   "outputs": [],
   "source": [
    "# np_arr.shape"
   ]
  },
  {
   "cell_type": "code",
   "execution_count": 268,
   "id": "c12a59e6",
   "metadata": {},
   "outputs": [],
   "source": [
    "# np_arr.ndim\n",
    "\n",
    "\n"
   ]
  },
  {
   "cell_type": "code",
   "execution_count": 269,
   "id": "a6a92884",
   "metadata": {},
   "outputs": [],
   "source": [
    "# height_raster"
   ]
  },
  {
   "cell_type": "code",
   "execution_count": 270,
   "id": "a61a1453",
   "metadata": {},
   "outputs": [],
   "source": [
    "# np_arr.shape"
   ]
  },
  {
   "cell_type": "code",
   "execution_count": 271,
   "id": "92fed75a",
   "metadata": {},
   "outputs": [],
   "source": [
    "# np_arr=np_arr.transpose()"
   ]
  },
  {
   "cell_type": "code",
   "execution_count": 272,
   "id": "a5512a3f",
   "metadata": {},
   "outputs": [],
   "source": [
    "# np"
   ]
  },
  {
   "cell_type": "code",
   "execution_count": 273,
   "id": "875764c1",
   "metadata": {
    "scrolled": true
   },
   "outputs": [],
   "source": [
    "# np_arr=np_arr.reshape(-1,b_n)"
   ]
  },
  {
   "cell_type": "code",
   "execution_count": 274,
   "id": "53288716",
   "metadata": {},
   "outputs": [],
   "source": [
    "# np_arr.ndim"
   ]
  },
  {
   "cell_type": "code",
   "execution_count": 275,
   "id": "c3aac6cd",
   "metadata": {},
   "outputs": [
    {
     "data": {
      "text/plain": [
       "KMeans(n_clusters=7)"
      ]
     },
     "execution_count": 275,
     "metadata": {},
     "output_type": "execute_result"
    }
   ],
   "source": [
    "n_c=7\n",
    "km=cluster.KMeans(n_c)\n",
    "km.fit(np_arr)"
   ]
  },
  {
   "cell_type": "code",
   "execution_count": 276,
   "id": "07af80dd",
   "metadata": {},
   "outputs": [],
   "source": [
    "res = km.labels_.reshape((hy,wx))"
   ]
  },
  {
   "cell_type": "code",
   "execution_count": 277,
   "id": "4c99482a",
   "metadata": {},
   "outputs": [],
   "source": [
    "original_data=gdal.Open(\"rasterdata1.tif\")"
   ]
  },
  {
   "cell_type": "code",
   "execution_count": 282,
   "id": "d4190939",
   "metadata": {},
   "outputs": [],
   "source": [
    "# clf_res = driverTiff.Create('C:\\Summer2022\\palakkad_classified.tif', wx, hy, 1, gdal.GDT_Float32)\n",
    "# clf_res.SetProjection(original_data.GetProjection())\n",
    "# clf_res.SetGeoTransform(original_data.GetGeoTransform())\n",
    "# clf_res.GetRasterBand(1).SetNoDataValue(-9999.0)\n",
    "# clf_res.GetRasterBand(1).WriteArray(res)\n",
    "# clf_res = None"
   ]
  },
  {
   "cell_type": "code",
   "execution_count": 281,
   "id": "3d5968c5",
   "metadata": {},
   "outputs": [],
   "source": [
    "drv=gdal.GetDriverByName(\"GTiff\")\n",
    "drv.Register()\n",
    "clf_pal=drv.Create(\"C:\\Summer2022\\classified_palakkad.tif\",xsize=wx,ysize=hy,bands=1,eType=gdal.GDT_Float32)\n",
    "clf_pal.SetGeoTransform(original_data.GetGeoTransform())\n",
    "clf_pal.SetProjection(original_data.GetProjection())\n",
    "clf_pal.GetRasterBand(1).WriteArray(res)\n",
    "clf_pal.GetRasterBand(1).SetNoDataValue(-9999.0)\n",
    "clf_pal.FlushCache()\n",
    "clf_pal=None"
   ]
  },
  {
   "cell_type": "code",
   "execution_count": null,
   "id": "362a0532",
   "metadata": {},
   "outputs": [],
   "source": []
  },
  {
   "cell_type": "code",
   "execution_count": null,
   "id": "1f66bfd2",
   "metadata": {},
   "outputs": [],
   "source": []
  }
 ],
 "metadata": {
  "kernelspec": {
   "display_name": "Python 3 (ipykernel)",
   "language": "python",
   "name": "python3"
  },
  "language_info": {
   "codemirror_mode": {
    "name": "ipython",
    "version": 3
   },
   "file_extension": ".py",
   "mimetype": "text/x-python",
   "name": "python",
   "nbconvert_exporter": "python",
   "pygments_lexer": "ipython3",
   "version": "3.8.13"
  }
 },
 "nbformat": 4,
 "nbformat_minor": 5
}
